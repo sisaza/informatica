{
 "cells": [
  {
   "cell_type": "markdown",
   "metadata": {},
   "source": [
    "# Unidad 4: Funciones\n",
    "Esta unidad presenta las funciones; un concepto muy importante en programación que permite reutilizar código y construir programas modulares para facilitar su organización y el trabajo en equipo. Una vez los programas usan funciones, otros conceptos como el ámbito de las variables cobra importancia y por lo tanto también son estudiados. Finalmente, como complemento, esta unidad introduce el manejo de archivos y módulos (programas multiarchivo)."
   ]
  },
  {
   "cell_type": "markdown",
   "metadata": {},
   "source": [
    "[4.1 Introducción](#sec4.1)\n",
    "\n",
    "[4.2 Funciones en Python](#sec4.2)\n",
    "\n",
    "[4.3 Ámbito de las variables](#sec4.3)\n",
    "\n",
    "[4.4 Programas multi-archivo](#sec4.4)\n",
    "\n",
    "[4.5 Manejo de archivos de datos](#sec4.5)"
   ]
  },
  {
   "cell_type": "markdown",
   "metadata": {},
   "source": [
    "<a id='sec4.1'></a>\n",
    "## 4.1 Introducción\n",
    "A pesar de la importancia práctica de las funciones, es posible hacer cualquier programa sin funciones. La ventaja fundamental de las funciones es que facilita el desarrollo y mantenimiento de un programa.\n",
    "\n",
    "Las funciones nacen de la necesidad de reutilizar un segmento de un programa que se necesita en otra parte del mismo. Si uno no sabe que existen las funciones, lo que hace es simplemente copiar y pegar el código que quiere reutilizar. Sin embargo, aparecen varios inconvenientes al hacerlo:\n",
    "\n",
    "* Los nombres de las variables deberán cambiarse para ajustarse a los nombres usados en la parte del programa donde se quiere reutilizar el código.\n",
    "* Si luego de haber reutilizado el código en varios lugares del programa, se quiere hacer algún cambio eb el algoritmo reutilizado, será necesario aplicar el cambio en todos los lugares dnde se reutilizó."
   ]
  },
  {
   "cell_type": "markdown",
   "metadata": {},
   "source": [
    "Una **función** es un segmento de código que ha sido independizado y puesto aparte para que pueda ser utilizado y reutilizado en cualquier parte de un programa. Al crear una función es necesario definir tres elementos básicos:\n",
    "* El nombre\n",
    "* Las entradas y salidas\n",
    "* El segmento de código que formará el cuerpo de la función\n",
    "\n",
    "Las funciones son a veces llamadas también subrutinas o subprogramas y están presentes y casi todos los lenguajes de programación."
   ]
  },
  {
   "cell_type": "markdown",
   "metadata": {},
   "source": [
    "**Figura 4.1**\n",
    "\n",
    "![motfunciones](images/motivacion_funciones.png)"
   ]
  },
  {
   "cell_type": "markdown",
   "metadata": {},
   "source": [
    "La Figura 4.1 muestra un algoritmo en el que se resaltan en amarillo dos partes del mismo que son iguales, es decir, un sub-algoritmo que utilizado dos veces. El lado derecho muestra cómo se puede representar el mismo algoritmo en dos partes: por un lado, el sub-algoritmo a ser reutilizado, y por otro, el algoritmo simplificado al hacer uso del sub-algoritmo.\n",
    "\n",
    "En la siguiente sección veremos cómo hacer esto en Python."
   ]
  },
  {
   "cell_type": "markdown",
   "metadata": {},
   "source": [
    "<a id='sec4.2'></a>\n",
    "## 4.2 Funciones en Python\n",
    "<a id='sec4.2a'></a>\n",
    "### Definición de una función\n",
    "Como vimos, para crear una función debemos definir su nombre, sus entradas y salidas, y el código que formará el cuerpo de la función. En el siguiente código se muestra una función sencilla que recibe dos cadenas de caracteres y entrega falso o verdadero de acuerdo a si ambas tienen igual longitud o no."
   ]
  },
  {
   "cell_type": "markdown",
   "metadata": {},
   "source": [
    "**Código 4.1**"
   ]
  },
  {
   "cell_type": "code",
   "execution_count": 4,
   "metadata": {},
   "outputs": [],
   "source": [
    "def slen(a, b):\n",
    "    if len(a)==len(b):\n",
    "        x = True\n",
    "    else:\n",
    "        x = False\n",
    "    return x"
   ]
  },
  {
   "cell_type": "markdown",
   "metadata": {},
   "source": [
    "La instrucción `def` hace parte del lenguaje Python e indica que se va a **definir una función**. Seguido de un espacio va el **nombre de la función**, que es elegido por el programador pero que debe seguir las mismas reglas y buenas prácticas que los nombres de las variables. Es importante tener claro que en *tiempo de ejecución* cuando se define una función, lo que se está haciendo es construirla y guardando"
   ]
  },
  {
   "cell_type": "markdown",
   "metadata": {},
   "source": [
    "Luego, entre paréntesis y separadas por comas debe ir la lista de las **variables de entrada** que requiere el subprograma. Lo que sigue es el **código de la función** que debe ir desplazado a la derecha con respecto a la posición de `def`. De esta manera se indica que esas instrucciones hacen parte de la función.\n",
    "\n",
    "Finalmente, la instrucción `return` sirve para indicar qué dato se entregará como **resultado** al programa que invoque la función. La ejecución de una función finaliza cuando se encuentra la instrucción `return` o cuando no hay más instrucciones por ejecutar."
   ]
  },
  {
   "cell_type": "markdown",
   "metadata": {},
   "source": [
    "Si el programador lo requiere, también es posible crear una función que no tenga variables de entrada ni de salida. El siguiente código muestra un ejemplo de tal situación, donde los paréntesis están vacíos y no aparece la instrucción `return`."
   ]
  },
  {
   "cell_type": "markdown",
   "metadata": {},
   "source": [
    "**Código 4.2**"
   ]
  },
  {
   "cell_type": "code",
   "execution_count": null,
   "metadata": {},
   "outputs": [],
   "source": [
    "def name2ascii():\n",
    "    name = input('Ingresa tu nombre: ')\n",
    "    print('Los códigos ASCII de tu nombre son:')\n",
    "    for c in name:\n",
    "        print(ord(c), end=' ')"
   ]
  },
  {
   "cell_type": "markdown",
   "metadata": {},
   "source": [
    "<a id='sec4.2b'></a>\n",
    "### Invocación de una función\n",
    "La definición de una función es solamente la mitad de la historia acerca de las funciones. Una vez la función se ha creado (definido), ésta puede ser usada en el resto del programa.\n",
    "\n",
    "Decimos que invocamos una función cuando la llamamos por medio de su nombre para que se ejecute."
   ]
  },
  {
   "cell_type": "markdown",
   "metadata": {},
   "source": [
    "<a id='sec4.2c'></a>\n",
    "### Parámetros y argumentos\n",
    "Esta sección..."
   ]
  },
  {
   "cell_type": "markdown",
   "metadata": {},
   "source": [
    "<a id='sec4.2d'></a>\n",
    "### Ventajas de usar funciones\n",
    "Esta sección..."
   ]
  },
  {
   "cell_type": "markdown",
   "metadata": {},
   "source": [
    "<a id='sec4.2e'></a>\n",
    "### Documentación del código\n",
    "A pesar de que los lenguajes de alto nivel tratan en cierta de medida de acercarse al lenguaje natural de las personas, existe en todo caso una brecha que puede ser grande cuando los algoritmos son complejos. En otras palabras, el código fuente de los programas es en muchos casos difícil de entender, especialmente para alguien diferente a la persona que lo escribió.\n",
    "\n",
    "Ya habíamos visto que Python (al igual que todos los lenguajes de programación) nos da la posibilidad de agregar texto en el código fuente sin que éste haga parte de las instrucciones a ejecutar. Con el símbolo numeral `#` o con las comillas triples `'''` podemos agregar comentarios al código fuente para facilitar su entendimiento. La documentación del código fuente de un programa consiste en agregar comentarios en las partes que son críticas para su entendimiento, su funcionamiento y su eficiencia."
   ]
  },
  {
   "cell_type": "markdown",
   "metadata": {},
   "source": [
    "### Especificación de funciones\n",
    "Quizás lo más importante que se debe documentar en un programa, son las funciones."
   ]
  },
  {
   "cell_type": "markdown",
   "metadata": {},
   "source": [
    "<a id='sec4.3'></a>\n",
    "## 4.3 Ámbito de las variables\n",
    "Esta sección..."
   ]
  },
  {
   "cell_type": "markdown",
   "metadata": {},
   "source": [
    "<a id='sec4.3a'></a>\n",
    "### Marcos de pilas\n",
    "Esta sección..."
   ]
  },
  {
   "cell_type": "markdown",
   "metadata": {},
   "source": [
    "<a id='sec4.3b'></a>\n",
    "### Funciones anidadas\n",
    "Esta sección..."
   ]
  },
  {
   "cell_type": "markdown",
   "metadata": {},
   "source": [
    "<a id='sec4.3c'></a>\n",
    "### Variables globales y locales\n",
    "Fácil reutilización y mantenimiento de código. También, comodidad para organizar y entender el código."
   ]
  },
  {
   "cell_type": "markdown",
   "metadata": {},
   "source": [
    "<a id='sec4.4'></a>\n",
    "## 4.4 Programas multi-archivo\n",
    "Esta sección..."
   ]
  },
  {
   "cell_type": "markdown",
   "metadata": {},
   "source": [
    "<a id='sec4.5'></a>\n",
    "## 4.5 Manejo de archivos de datos\n",
    "Esta sección..."
   ]
  }
 ],
 "metadata": {
  "kernelspec": {
   "display_name": "Python 3",
   "language": "python",
   "name": "python3"
  },
  "language_info": {
   "codemirror_mode": {
    "name": "ipython",
    "version": 3
   },
   "file_extension": ".py",
   "mimetype": "text/x-python",
   "name": "python",
   "nbconvert_exporter": "python",
   "pygments_lexer": "ipython3",
   "version": "3.6.4"
  }
 },
 "nbformat": 4,
 "nbformat_minor": 2
}
