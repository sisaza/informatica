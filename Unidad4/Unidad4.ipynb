{
 "cells": [
  {
   "cell_type": "markdown",
   "metadata": {},
   "source": [
    "# Unidad 4: Funciones\n",
    "Esta unidad presenta las funciones; un concepto muy importante en programación que permite reutilizar código y construir programas modulares para facilitar su organización y el trabajo en equipo. Una vez los programas usan funciones, otros conceptos como el ámbito de las variables cobra importancia y por lo tanto también son estudiados. Finalmente, como complemento, esta unidad introduce el manejo de archivos y módulos (programas multiarchivo)."
   ]
  },
  {
   "cell_type": "markdown",
   "metadata": {},
   "source": [
    "[4.1 Introducción](#sec4.1)\n",
    "\n",
    "[4.2 Funciones en Python](#sec4.2)\n",
    "\n",
    "[4.3 Ámbito de las variables](#sec4.3)\n",
    "\n",
    "[4.4 Programas multi-archivo](#sec4.4)\n",
    "\n",
    "[4.5 Manejo de archivos de datos](#sec4.5)"
   ]
  },
  {
   "cell_type": "markdown",
   "metadata": {},
   "source": [
    "<a id='sec4.1'></a>\n",
    "## 4.1 Introducción\n",
    "A pesar de la importancia práctica de las funciones, es posible hacer cualquier programa sin funciones. La ventaja fundamental de las funciones es que facilita el desarrollo y mantenimiento de un programa.\n",
    "\n",
    "Las funciones nacen de la necesidad de reutilizar un segmento de un programa que se necesita en otra parte del mismo. Si uno no sabe que existen las funciones, lo que hace es simplemente copiar y pegar el código que quiere reutilizar. Sin embargo, aparecen varios inconvenientes al hacerlo:\n",
    "\n",
    "* Los nombres de las variables deberán cambiarse para ajustarse a los nombres usados en la parte del programa donde se quiere reutilizar el código.\n",
    "* Si luego de haber reutilizado el código en varios lugares del programa, se quiere hacer algún cambio en el algoritmo reutilizado, será necesario aplicar el cambio en todos los lugares dnde se reutilizó."
   ]
  },
  {
   "cell_type": "markdown",
   "metadata": {},
   "source": [
    "Una **función** es un segmento de código que ha sido independizado y puesto aparte para que pueda ser utilizado y reutilizado en cualquier parte de un programa. Al crear una función es necesario definir tres elementos básicos:\n",
    "* El nombre\n",
    "* Las entradas y salidas\n",
    "* El segmento de código que formará el cuerpo de la función\n",
    "\n",
    "Las funciones son a veces llamadas también subrutinas o subprogramas y están presentes y casi todos los lenguajes de programación."
   ]
  },
  {
   "cell_type": "markdown",
   "metadata": {},
   "source": [
    "**Figura 4.1**\n",
    "\n",
    "![motfunciones](images/motivacion_funciones.png)"
   ]
  },
  {
   "cell_type": "markdown",
   "metadata": {},
   "source": [
    "La Figura 4.1 muestra un algoritmo en el que se resaltan en amarillo dos partes del mismo que son iguales, es decir, un sub-algoritmo que es utilizado dos veces. El lado derecho muestra cómo se puede representar el mismo algoritmo en dos partes: por un lado, el sub-algoritmo a ser reutilizado, y por otro, el algoritmo simplificado al hacer uso del sub-algoritmo.\n",
    "\n",
    "En la siguiente sección veremos cómo hacer esto en Python."
   ]
  },
  {
   "cell_type": "markdown",
   "metadata": {},
   "source": [
    "<a id='sec4.2'></a>\n",
    "## 4.2 Funciones en Python\n",
    "<a id='sec4.2a'></a>\n",
    "### Definición de una función\n",
    "Como vimos, para crear una función debemos definir su nombre, sus entradas y salidas, y el código que formará el cuerpo de la función. En el siguiente código se muestra una función sencilla que recibe dos cadenas de caracteres y entrega falso o verdadero de acuerdo a si ambas tienen igual longitud o no."
   ]
  },
  {
   "cell_type": "markdown",
   "metadata": {},
   "source": [
    "**Código 4.1**"
   ]
  },
  {
   "cell_type": "code",
   "execution_count": null,
   "metadata": {},
   "outputs": [],
   "source": [
    "def slen(a, b):\n",
    "    if len(a)==len(b):\n",
    "        x = True\n",
    "    else:\n",
    "        x = False\n",
    "    return x"
   ]
  },
  {
   "cell_type": "markdown",
   "metadata": {},
   "source": [
    "La instrucción `def` hace parte del lenguaje Python e indica que se va a **definir una función**. Seguido de un espacio va el **nombre de la función**, que es elegido por el programador pero que debe seguir las mismas reglas y buenas prácticas que los nombres de las variables."
   ]
  },
  {
   "cell_type": "markdown",
   "metadata": {},
   "source": [
    "Luego, entre paréntesis y separadas por comas debe ir la lista de las variables de entrada que requiere el subprograma y que llamaremos los **parámetros** de la función. Lo que sigue es el **cuerpo de la función** que debe ir desplazado a la derecha con respecto a la posición de `def`. De esta manera se indica que esas instrucciones hacen parte de la función.\n",
    "\n",
    "Finalmente, la instrucción `return` sirve para indicar qué dato se entregará como **resultado** al programa que invoque la función. La ejecución de una función finaliza cuando se encuentra la instrucción `return` o cuando no hay más instrucciones por ejecutar."
   ]
  },
  {
   "cell_type": "markdown",
   "metadata": {},
   "source": [
    "Si el programador lo requiere, también es posible crear una función que no tenga variables de entrada ni de salida. El siguiente código muestra un ejemplo de tal situación, donde los paréntesis están vacíos y no aparece la instrucción `return`."
   ]
  },
  {
   "cell_type": "markdown",
   "metadata": {},
   "source": [
    "**Código 4.2**"
   ]
  },
  {
   "cell_type": "code",
   "execution_count": null,
   "metadata": {},
   "outputs": [],
   "source": [
    "def name2ascii():\n",
    "    name = input('Ingresa tu nombre: ')\n",
    "    print('Los códigos ASCII de tu nombre son:')\n",
    "    for c in name:\n",
    "        print(ord(c), end=' ')"
   ]
  },
  {
   "cell_type": "markdown",
   "metadata": {},
   "source": [
    "<a id='sec4.2b'></a>\n",
    "### Invocación de una función\n",
    "La definición de una función es solamente la mitad de la historia acerca de las funciones. Una vez la función se ha creado (definido), ésta puede ser usada en el resto del programa.\n",
    "\n",
    "Decimos que invocamos una función cuando la llamamos por medio de su nombre para que se ejecute. Al invocarla debemos también entregarle datos para sus variables de entrada (si las tiene) y asignar los datos de salida (si los hay) a alguna variable del ámbito desde donde se invoca la función.\n",
    "\n",
    "El siguiente código muestra un programa que incluye no solo la definición de una función, si no que también tiene un programa principal donde se invoca la función previamente definida."
   ]
  },
  {
   "cell_type": "markdown",
   "metadata": {},
   "source": [
    "**Código 4.3**"
   ]
  },
  {
   "cell_type": "code",
   "execution_count": 7,
   "metadata": {},
   "outputs": [
    {
     "name": "stdout",
     "output_type": "stream",
     "text": [
      "Ingrese dos palabras de igual longitud separadas por un espacio: casa luis\n",
      "Usteeeeed ha ingresado dos palabras de igual longitud:  casa luis\n"
     ]
    }
   ],
   "source": [
    "def slen(a, b):\n",
    "    if len(a)==len(b):\n",
    "        x = True\n",
    "    else:\n",
    "        x = False\n",
    "    return x\n",
    "\n",
    "res = False\n",
    "while res==False:\n",
    "    pals = input('Ingrese dos palabras de igual longitud separadas por un espacio: ')\n",
    "    ind_esp = pals.find(' ')\n",
    "    pri = pals[:ind_esp]\n",
    "    seg = pals[ind_esp+1:]\n",
    "    res = slen(pri, seg)\n",
    "\n",
    "print('Usteeeeed ha ingresado dos palabras de igual longitud: ', pri, seg)"
   ]
  },
  {
   "cell_type": "markdown",
   "metadata": {},
   "source": [
    "Note que en la línea 14 del código mostrado se hace la invocación o llamado de la función `slen()`. Seguido del nombre de la función van unos paréntesis que encierran los **argumentos** de la función (datos de entrada). Además, usamos el operador de asignación para asociar el dato de salida de la función, con la variable `res`."
   ]
  },
  {
   "cell_type": "markdown",
   "metadata": {},
   "source": [
    "Cuando se ejecuta el programa mostrado en el Código 4.3, la primera línea de código le indica al intérprete que debe definirse la función `slen()`, lo hara que el intérprete almacene en la memoria las instrucciones que hacen parte de la función y asocia el nombre de la función con la dirección de la memoria donde quedó almacenada ésta. Debe quedar claro que la función no se ha ejecutado todavía, solamente se definió. La siguiente línea de código en ejecutarse es la 8, luego la 9 y así hasta llegar a la línea 14 donde se invoca `slen()`. En ese momento, el programa asigna a la variable `a` el valor de `pri` y a `b` el valor de `seg`.\n",
    "\n",
    "Luego el programa salta a la línea 2 para ejecutar la función que fue invocada. La última línea de la función en ejecutarse será la 6, donde se encuentra la instrucción `return`. De ahí el programa retorna la línea 14 y asigna el valor que tenía la variable `x` de `slen()` a la variable `res` del programa principal."
   ]
  },
  {
   "cell_type": "markdown",
   "metadata": {},
   "source": [
    "### Ejercicio 4.1\n",
    "Haga una función que reciba una cadena de caracteres que contiene un número telefónico marcado desde un teléfono celular. La función debe decir si éste corresponde a una llamada a fijo nacional, a celular nacional o larga distancia internacional. Además, haga un programa simple que use la función definida."
   ]
  },
  {
   "cell_type": "code",
   "execution_count": null,
   "metadata": {},
   "outputs": [],
   "source": [
    "def calltype(pn):\n",
    "    if pn[:2]=='00' and len(pn)>4:\n",
    "        return 'llamada internacional ' + pn\n",
    "    elif pn[:2]=='03' and len(pn)==10:\n",
    "        return 'llamada a fijo nacional ' + pn\n",
    "    elif pn[0]=='3' and len(pn)==10:\n",
    "        return 'llamada a celular nacional ' + pn\n",
    "    else:\n",
    "        return 'Error'\n",
    "\n",
    "tel = input('Ingrese el número telefónico a llamar: ')\n",
    "while calltype(tel)=='Error':\n",
    "    print('El número marcado es incorrecto')\n",
    "    tel = input('Ingrese el número telefónico a llamar: ')\n",
    "\n",
    "print('Su ' + calltype(tel) + ' será conectada a continuación')"
   ]
  },
  {
   "cell_type": "markdown",
   "metadata": {},
   "source": [
    "<a id='sec4.2c'></a>\n",
    "### Parámetros por defecto y argumentos por nombre\n",
    "Las funciones en Python tienen algunas características de configuración opcional que ofrecen mayor flexibilidad al programador. Al crear la lista de parámetros de una función, es posible asignarle un valor por defecto a la variable. Cuando se hace esto, el parámetro se convierte en opcional, es decir, cuando la función es invocada puede hacerse sin asignarle un argumento a dicho parámetro opcional, ya que éste tiene un valor po defecto. Si al invocar una función sí se le asigna argumento a un parámetro opcional, este simplemente tomará el valor del argumento asignado y se ignorará su valor por defecto. A esta característica de las funciones en Python se le conocer como **parámetros por defecto** y es útil cuando se quiere simplificar el uso de una función. De esta manera, no es necesario darle argumentos a funciones que quizás tengan muchos parámetros. Pueden simplemente tener valores por defecto que si el usuario de la función lo quiere, puede modificarlos en todo caso.\n",
    "\n",
    "Otra opción especial para el uso de funciones es la de los **argumentos por nombre**. Como se ha visto, al invocar una función no es necesario conocer el nombre de las variables internas (parámetros) que reciben los argumentos (datos de entrada). Basta con saber el significado y orden de cada uno de los parámetros. Sin embargo, Python permite que los argumentos sean asignados de manera directa utilizando los nombres de los parámetros y en ese caso puede hacerse en cualquier orden.\n",
    "\n",
    "El siguiente ejemplo muestra ambas opciones. La definición de la función `strIsIn()` asigna un valor por defecto al parámetro `sen`, y es por eso, que la invocación de `strIsIn()` de las líneas 13 y 23, solo tiene dos argumentos."
   ]
  },
  {
   "cell_type": "code",
   "execution_count": null,
   "metadata": {},
   "outputs": [],
   "source": [
    "def strIsIn(str1, str2, sen=True): \n",
    "    if not sen: \n",
    "        str1 = str1.lower() \n",
    "        str2 = str2.lower() \n",
    "    if str1 in str2: \n",
    "        return 'Yes'\n",
    "    else: \n",
    "        return 'No'\n",
    "\n",
    "a = 'Hola' \n",
    "b = 'holas' \n",
    "\n",
    "print(strIsIn(a, b))\n",
    "\n",
    "print(strIsIn(a, b, False))\n",
    "\n",
    "print(strIsIn(a, b, True))\n",
    "\n",
    "print(strIsIn(b, a, False))\n",
    "\n",
    "print(strIsIn(sen=False, str2=a, str1=b))\n",
    "\n",
    "print(strIsIn(str2=a, str1=b))"
   ]
  },
  {
   "cell_type": "markdown",
   "metadata": {},
   "source": [
    "### Ejercicio 4.2\n",
    "Haga una función que reciba una cadena de caracteres y determine si esta es o no un palíndromo, es decir, si la cadena se lee igual al derecho y al revés; la función debe tener un parámetro por defecto. Además, haga un programa simple que haga uso de la función definida."
   ]
  },
  {
   "cell_type": "code",
   "execution_count": null,
   "metadata": {},
   "outputs": [],
   "source": [
    "def palindr(x, pm=False):\n",
    "    if pm:\n",
    "        s = ''\n",
    "        punctuation = ' !\"#$%&\\'()*+,-./:;<=>?@[\\\\]^_`{|}~'\n",
    "        for c in x:\n",
    "            if not c in punctuation:\n",
    "                s += c\n",
    "        x = s\n",
    "    a = 0\n",
    "    b = len(x)-1\n",
    "    while a < b and x[a] == x[b]:\n",
    "        a += 1\n",
    "        b -= 1\n",
    "    if a < b:\n",
    "        return False\n",
    "    else:\n",
    "        return True\n",
    "\n",
    "word = input('Ingrese una frase: ')\n",
    "while not palindr(word, True):\n",
    "    print('\"' + word + '\" no es un palíndromo...')\n",
    "    word = input('Ingrese una frase: ')\n",
    "\n",
    "print('Usted ha ingresado un palíndromo: \"' + word + '\"')"
   ]
  },
  {
   "cell_type": "markdown",
   "metadata": {},
   "source": [
    "<a id='sec4.2d'></a>\n",
    "### Documentación del código  y especificación de funciones\n",
    "A pesar de que los lenguajes de alto nivel tratan en cierta de medida de acercarse al lenguaje natural de las personas, existe en todo caso una brecha que puede ser grande cuando los algoritmos son complejos. En otras palabras, el código fuente de los programas es en muchos casos difícil de entender, especialmente para alguien diferente a la persona que lo escribió.\n",
    "\n",
    "Ya habíamos visto que Python (al igual que todos los lenguajes de programación) nos da la posibilidad de agregar texto en el código fuente sin que éste haga parte de las instrucciones a ejecutar. Con el símbolo numeral `#` o con las comillas triples `'''` podemos agregar comentarios al código fuente para facilitar su entendimiento. La documentación del código fuente de un programa consiste en agregar comentarios en las partes que son críticas para su entendimiento, su funcionamiento y su eficiencia."
   ]
  },
  {
   "cell_type": "markdown",
   "metadata": {},
   "source": [
    "Quizás lo más importante que se debe documentar en un programa, son las funciones, debido a que son las fronteras naturales entre las diferentes partes de un programa. Al abrir un código fuente, lo más importante que debe encontrar quien lo lee es una documentación apropiada que informe sobre los datos de entrada y salida, así como el propósito de la función. A esta información le llamamos la **especificación** de la función.\n",
    "\n",
    "El siguiente ejemplo muestra la definición de una función con su respectiva especificación."
   ]
  },
  {
   "cell_type": "markdown",
   "metadata": {},
   "source": [
    "**Código 4.4**"
   ]
  },
  {
   "cell_type": "code",
   "execution_count": null,
   "metadata": {},
   "outputs": [],
   "source": [
    "def findRoot(x, power, epsilon=0.01): \n",
    "    ''' Asume que x y epsilon son int o float, que power es int, epsilon > 0 y power >= 1\n",
    "    Retorna un dato float tal que dato**power está dentro de una distancia epsilon de x \n",
    "    Si no existe tal dato, retorna None''' \n",
    "    if x<0 and power%2==0: \n",
    "        return None \n",
    "    low = 0.0 \n",
    "    high = max(1.0, x) \n",
    "    ans = (high + low)/2.0 \n",
    "    while abs(ans**power - x) >= epsilon: \n",
    "        if ans**power < x: \n",
    "            low = ans \n",
    "        else: \n",
    "            high = ans \n",
    "        ans = (high + low)/2.0 \n",
    "    return ans"
   ]
  },
  {
   "cell_type": "markdown",
   "metadata": {},
   "source": [
    "La especificación de una función tiene dos partes:\n",
    "* **Suposiciones**: son los requisitos que deben cumplir los argumentos al invocar una función para ésta funcione bien.\n",
    "* **Garantías**: es la descripción de lo que hace la función siempre y cuando se cumplan las suposiciones.\n",
    "\n",
    "En el Código 4.4, la línea 2 son las suposiciones y las líneas 3 y 4 son las garantías."
   ]
  },
  {
   "cell_type": "markdown",
   "metadata": {},
   "source": [
    "La especificación de una función es muy importante porque con solo leerla yo puedo hacer uso de la función sin necesidad de inspeccioner el cuerpo de la función para deducirlo. Podemos pensar en la especificación como el manual de usuario de la función."
   ]
  },
  {
   "cell_type": "markdown",
   "metadata": {},
   "source": [
    "### Ejercicio 4.3\n",
    "Haga una función que reciba dos cadenas de caracteres que contienen fechas en el formato DD-MM-AAAA y retorne la fecha más vieja; la función debe tener un comentario con su especificación. Además, haga un programa simple que haga uso de la función definida."
   ]
  },
  {
   "cell_type": "code",
   "execution_count": null,
   "metadata": {},
   "outputs": [],
   "source": [
    "def oldest(d1, d2):\n",
    "    '''Recibe dos cadenas de caracteres con fechas en formato DD-MM-AAAA,\n",
    "    retorna la fecha más vieja.'''\n",
    "    d1_num = int(d1[6:]+d1[3:5]+d1[:2])\n",
    "    d2_num = int(d2[6:]+d2[3:5]+d2[:2])\n",
    "    if d1_num < d2_num:\n",
    "        return d1\n",
    "    else:\n",
    "        return d2\n",
    "\n",
    "a = input('Ingrese una fecha en formato DD-MM-AAAA: ')\n",
    "b = input('Ingrese otra fecha en formato DD-MM-AAAA: ')\n",
    "print('La fecha ' + oldest(a, b) + ' es la más vieja')"
   ]
  },
  {
   "cell_type": "markdown",
   "metadata": {},
   "source": [
    "<a id='sec4.2e'></a>\n",
    "### Ventajas de usar funciones\n",
    "El uso de funciones tiene ventajas muy importantes y se puede decir que practicamente todos los programas en todos los lenguajes utilizan funciones. Las principales ventajas son:\n",
    "* Programas más cortos: Al reutilizar segmentos de código en varios lugares de un programa nos evitamos repetir estos segmentos una y otra vez. Usando funciones, solo es necesario definir el segmento de código una única vez como subrutina que luego puede ser utilizada cuantas veces sea necesario. Esto ahorra tiempo del programador y memoria al ejecutar el programa.\n",
    "* Eficiencia para hacer cambios: Cuando se decide hacer un cambio al cuerpo de una función, todos los lugares donde se invoque la función \"verán\" el cambio automáticamente. Si no se usaran funciones, sería necesario hacer el cambio en todos los lugares donde se utilice el mismo segmento de código.\n",
    "* Organización del código fuente: Un programa que usa funciones adquiere una estructura modular que permite lograr un código fuente mucho más organizado, fácil de entender y modificar.\n",
    "* Facilidad de trabajo en equipo: Un programa que está dividido en funciones puede ser más fácilmente desarrollado entre varias personas y que las funciones definen fronteras claras de hasta dónde llega la responsabilidad de cada programador."
   ]
  },
  {
   "cell_type": "markdown",
   "metadata": {},
   "source": [
    "La única desventaja que podría asociarse al uso de funciones, es que el salto que debe hacer un programa al invocar una función junto con los operaciones para copiar los datos de entrada toman un tiempo adicional que, en caso de que se haga un uso excesivo de funciones, podría llegar a afectar la velocidad del programa."
   ]
  },
  {
   "cell_type": "markdown",
   "metadata": {},
   "source": [
    "<a id='sec4.3'></a>\n",
    "## 4.3 Ámbito de las variables\n",
    "Al organizar un programa en funciones, se crean también fronteras en el código fuente, es decir, el código queda separado de acuerdo al conjunto de variables e instrucciones que hay dentro de cada función definida, así como aquellas variables e instrucciones que no pertenecen a ninguna función. Estas fronteras se conocen como los **ámbitos** y es muy importante entender sus implicaciones para el correcto desarrollo de los programas.\n",
    "\n",
    "El ámbito de una variable es la región dentro del código donde una variable existe. Fuera de su ámbito, una variable no puede ser utilizada ni para leer sus datos ni para asignarle datos. Las limitaciones que imponen los ámbitos de las variables, son en realidad deseables pues hacen que el código sea más organizado y que se cometan menos errores. Cuando un programador está trabajando en un región del código, éste solo debe tener en mente las variables del ámbito en que se encuentra."
   ]
  },
  {
   "cell_type": "markdown",
   "metadata": {},
   "source": [
    "Las variables cuyo ámbito se encuentra enmarcado dentro de una función, se llaman **variables locales**. Por otro lado, a las variables cuyo ámbito está por fuera de cualquier función, se les llama **variables globales**."
   ]
  },
  {
   "cell_type": "markdown",
   "metadata": {},
   "source": [
    "**Código 4.5**"
   ]
  },
  {
   "cell_type": "code",
   "execution_count": null,
   "metadata": {},
   "outputs": [],
   "source": [
    "def f(x):\n",
    "    # a, x y w son variables locales a la función f\n",
    "    a = 7\n",
    "    w = 1\n",
    "    x = x + w + a\n",
    "    print('x =', x)\n",
    "    return x\n",
    "\n",
    "# x, w, y z son variables globales\n",
    "x = 3\n",
    "w = 2\n",
    "z = f(x) # valor de x usado como argumento\n",
    "print('z =', z)\n",
    "print('x =', x)\n",
    "print('w =', w)"
   ]
  },
  {
   "cell_type": "markdown",
   "metadata": {},
   "source": [
    "El Código 4.5 muestra un programa que define e invoca una función. Aunque la variable `a` es claramente una variable del ámbito local de la función `f()`, note que las variables `x` y `w` aparecen tanto afuera como adentro de la función. Debe quedar claro aquí, que las variables `x` y `w` que se usan dentro de `f()` son variables completamente independientes de las que se usan por fuera de la función. Es decir, son dos pares de variables que simplemente tienen el mismo nombre, lo cual es posible dado que pertenecen a ámbitos diferentes.\n",
    "\n",
    "El ejemplo anterior usa los mismos nombres de variables en ambos ámbitos a propósito para hacer énfasis en su diferencia a pesar de tener el mismo nombre. Sin embargo, en la mayoría de los casos se aconseja dar nombres diferentes a variables de diferentes ámbitos para no crear confusiones en quien está leyendo el código."
   ]
  },
  {
   "cell_type": "markdown",
   "metadata": {},
   "source": [
    "**Funciones anidadas**\n",
    "\n",
    "Las funciones en Python comparten muchas propiedades con las variables. En ambos casos, son nombres que le asignamos a datos que se almacenan en la memoria. En el caso de las funciones, los datos son en realidad instrucciones que cuando la función es invocada son ejecutadas por el procesador. En el caso de las variables, los datos son procesados por las instrucciones.\n",
    "\n",
    "El concepto de ámbito que acabamos de definir para las variables, también es una propiedad que comparten las funciones, es decir, las funciones también tienen un ámbito. Hasta ahora, en los ejemplos que hemos visto siempre hemos definido las funciones en el ámbito global, sin embargo, podemos definir funciones en cualquier ámbito con el objetivo de restringir su uso y organizar mejor un programa.\n",
    "\n",
    "El Código 4.6 muestra cómo definir una función dentro de otra. La función `mini()` queda entonces restringida al ámbito de la función `compare()`.\n",
    "\n",
    "Si se habilita la línea 17 del código mostrado, se generará un error debido a que en el ámbito global, la función `mini()` no existe. En cambio, no hay problema en invocar a `mini()` en las líneas 11 y 12 ya que hacen parte del ámbito de `compare()`."
   ]
  },
  {
   "cell_type": "markdown",
   "metadata": {},
   "source": [
    "**Código 4.6**"
   ]
  },
  {
   "cell_type": "code",
   "execution_count": null,
   "metadata": {},
   "outputs": [],
   "source": [
    "def compare():\n",
    "    def mini(x, y): \n",
    "        if x<y: \n",
    "            return x\n",
    "        else:\n",
    "            return y \n",
    "    age1 = int(input('Enter age of first person: ')) \n",
    "    weight1 = int(input('Enter weight of first person: ')) \n",
    "    age2 = int(input('Enter age of second person: ')) \n",
    "    weight2 = int(input('Enter weight of second person: '))\n",
    "    young = mini(age1, age2) \n",
    "    slim = mini(weight1, weight2) \n",
    "    print('The young one is', young, 'years old') \n",
    "    print('and the slim one weights', slim, 'kilos') \n",
    "\n",
    "while(True):\n",
    "    #print(mini(7,8))\n",
    "    wish = input('Do you want to compare people? ') \n",
    "    if wish == 'no': \n",
    "        break \n",
    "    compare()\n"
   ]
  },
  {
   "cell_type": "markdown",
   "metadata": {},
   "source": [
    "<a id='sec4.3a'></a>\n",
    "### Marcos de pilas\n",
    "Cuando se está ejecutando un programa, el intérprete debe mantener la información asociada a funciones, variables y datos asociados a cada uno de los ámbitos activos. Cuando una función inicia su ejecución se crea un nuevo ámbito activo, es decir, un espacio de memoria donde se almacenan las variables y funciones del ámbito. A este espacio se le conoce como **marco de pila** o **stack frame** en inglés."
   ]
  },
  {
   "cell_type": "markdown",
   "metadata": {},
   "source": [
    "La Figura 4.2 muestra un código fuente que al ejecutarse crea varios marcos de pila. Si ejecutamos el código y nos detenemos en 8 momentos para analizar el estado de los marcos de pila, podemos entender su funcionamiento. La parte derecha de la Figura 4.2 debe mirarse en un barrido que va de izquierda a derecha, donde cada número representa un instante de tiempo diferente y las variables que aparecen en apiladas en marcos encima del número, son las variables activas en ese momento en cada marco. En el código se indica a qué línea de código corresponde cada momento de ejecución que se quiere mostrar."
   ]
  },
  {
   "cell_type": "markdown",
   "metadata": {},
   "source": [
    "En el momento 1 apenas se ha ejecutado ha definido la función `f()` y se le ha asignado un valor a `x`. También se ha creado la variable `z` pero todavía no tiene un valor asociado ya que apenas el programa va a invocar la función `f()` que es la que retornará un valor para `z`. En el momento 1 entonces, podemos ver que solo está activo el marco global en el que existen la función `f()` y las variables `x` y `z`.\n",
    "\n",
    "En el momento 3, por ejemplo, se está ejecutando la función `h()` que fue invocada por la función `f()`, por lo que existen tres marcos de pilas: el global, el de `f()` y el de `h()`."
   ]
  },
  {
   "cell_type": "markdown",
   "metadata": {},
   "source": [
    "**Figura 4.2**\n",
    "\n",
    "![sframes](images/stackframes.png)"
   ]
  },
  {
   "cell_type": "markdown",
   "metadata": {},
   "source": [
    "Note que la función `f()` retorna `g`, que no es una variable si no el nombre de una función. Al igual que cuando se retorna una variable, aqui se le está asignando a `z` (del ámbito global), los datos asociados a `g`. Como `g` está asociada a una función, esto hace que `z` quede siendo en realidad una función, una copia de `g()` pero con un nuevo nombre. Esta es una manera de ejecutar indirectamente, una función desde otro ámbito. Aunque no es muy común, sí es una opción que en ocasiones se requiere en el desarrollo de programas."
   ]
  },
  {
   "cell_type": "markdown",
   "metadata": {},
   "source": [
    "**Tiempo de vida de las variables**\n",
    "Como vimos, cuando se invoca una función se crea una pila para almacenar las variables locales de la función. Sin embargo, es importante decir que cuando una función termina su ejecución, su pila de variables desaparece, lo que implica que todas las variables local de dicha función desaparecen. Decimos entonces que una variable local está viva, si su ámbito esta activo, es decir, si la función a la que pertenece esta siendo ejecutada. Una consecuencia importante de este comportamiento es que los datos asociados a las variables locales, se pierden (se borran de la memoria) cuando la función termina de ejecutarse. Si queremos conservar algún dato asociado a una variable local, es necesario copiarlo en una variable global. Esto se puede hacer con una signación directa o a través del `return` de la función.\n",
    "\n",
    "Por último, notemos que el tiempo de vida de las variables globales es el mismo que el del programa, es decir, estarán vivas durante toda la ejecución del programa. Sin embargo, al terminarse la ejecución del programa, ninguna variable permancerá viva, todos los datos se borrarán de la memoria. En la [Sección 4.5](#sec4.5) veremos cómo guardar datos de variable en archivos para que permanezcan incluso después de finalizar la ejecución de un programa."
   ]
  },
  {
   "cell_type": "markdown",
   "metadata": {},
   "source": [
    "<a id='sec4.3b'></a>\n",
    "### Variables globales y locales\n",
    "La Figura 4.3 nos muestra un ejemplo de un código en el que se ilustran varias situaciones a través de las cuales podemos aprender cuándo una variables es local y cuándo global."
   ]
  },
  {
   "cell_type": "markdown",
   "metadata": {},
   "source": [
    "Las variables `a`, `b` y `k` que están por fuera de la función `f1()` son obviamente variables globales, pero analicemos qué pasa con las variables que aparecen dentro de la función:\n",
    "* `d`: La primera vez que el intérprete encuentra la variable `d` es cuando se le asigna el valor `23` dentro de la función, lo que la convierte en una variable **local** a `f1()`. En la última línea de `f1()` se imprime el valor de `d` sin problema, pero luego en el ámbito global se intenta imprimir de nuevo a `d`, generando un error debido a que `d` no existe en el ámbito global.\n",
    "* `h`: La variable `h` aparece por primera vez al asignarle, dentro de `f1()`, el resultado de `k + 1`. Esto la hace también una variable **local**.\n",
    "* `k`: Aparece por primera vez en el ámbito global al asignársele el valor `15`. Luego aparece en la función en una operación de lectura, es decir, donde se usa su valor pero no se modifica. En este caso, al requerirse un valor para `k`, que no existía hasta el momento en el ámbito de la función pero sí en el global, se asume que es la misma variable **global** que ya estaba definida.\n",
    "* `c`: Esta variable aparentaría compartir las mismas propiedades de `d` (variable local), sin embargo, la instrucción `global c` hace explícito que debe tratarse como una variable **global**. Esto permite que la instrucción `print(c)` que está en el ámbito global se pueda ejecutar sin problemas.\n",
    "* `b`: En el ámbito global se le asigna inicialmente un valor a `b`. Luego dentro de la función `b` aparece por primera vez a la izquierda del operador de asignación, por lo que el intéprete la toma como una variable local. Es decir, otra variable diferente a la `b` del ámbito global. Sin embargo, al procesar la instrucción completa, se requiere un valor para la variable local `b`, que no lo tiene todavía, lo que lleva a un error en la expresión `b + 1`.\n",
    "* `a`: En el ámbito global se le asigna a `a` el valor `4`. En la función aparece `a` pr primera vez en la instrucción `global a`, dejando explícito que ésta debe tratarse como global, en otras palabras, que solo existe una `a`. A diferencia de lo explicado para `b`, no hay ningún problema con la instrucción `a = a + 1` ya que `a` sí tiene un dato asociado (`4`)."
   ]
  },
  {
   "cell_type": "markdown",
   "metadata": {},
   "source": [
    "**Figura 4.3**\n",
    "\n",
    "![blobloc](images/globaleslocales.png)"
   ]
  },
  {
   "cell_type": "markdown",
   "metadata": {},
   "source": [
    "La **primera vez** que el intérprete encuentra una variable en una función, se aplican las siguientes reglas para determinar si la variable es del ámbito local de la función o no, y de ahí en adelante será tratada igual dentro de esa función:\n",
    "* Si está acompañada de `global`, entonces se tratará como global. Si ya existe otra variable global con el mismo nombre, entonces ambas serán la misma variable.\n",
    "* Si se encuentra por primera vez al lado izquierdo del operador de asignación, se tratará como local, sin importar que exista una variable con el mismo nombre en otro ámbito.\n",
    "* Si se encuentra por primera vez en una operación de lectura, por ejemplo al lado derecho del operador de asignación, o en una condición de un `if` o un `while`, se tratará como una variable de un ámbito exterior al local. Si no existe tal variable con valor asignado en ningún ámbito externo superior al de la función, entonces se producirá un error."
   ]
  },
  {
   "cell_type": "markdown",
   "metadata": {},
   "source": [
    "**Código 4.7**"
   ]
  },
  {
   "cell_type": "code",
   "execution_count": null,
   "metadata": {},
   "outputs": [],
   "source": [
    "def f1():\n",
    "    global a\n",
    "    a = a + 1\n",
    "    b = b + 1\n",
    "    h = k + 1\n",
    "    global c\n",
    "    c = 7\n",
    "    d = 23\n",
    "    print(a, b, c, d) \n",
    "\n",
    "a=4 \n",
    "b=15 \n",
    "k=15 \n",
    "f1() \n",
    "print(a, b) \n",
    "print(c) \n",
    "print(d)"
   ]
  },
  {
   "cell_type": "markdown",
   "metadata": {},
   "source": [
    "<a id='sec4.4'></a>\n",
    "## 4.4 Módulos: programas multi-archivo\n",
    "Para manejar más fácilmente el código fuente de los programas que sobrepasan cierto tamaño, es conveniente dividir el código fuente en varios archivos. Esto facilita, entre otros, que un programa sea desarrollado por varias personas, ya que cada programador podrá trabajar en archivos independientes. Similarmente a como se decide empaquetar un segmento de código para hacerlo una función, podemos entonces reunir grupos de funciones en diferentes archivos de código fuente. A cada archivo de código fuente se le conoce en la terminología de Python como un **módulo**.\n",
    "\n",
    "Un estrategia que comunmente se utiliza, consiste en agrupar funciones en módulos y tener otro módulo principal donde se desarrolla el código que integra los diferentes módulos, invocando las funciones que están en cada módulo."
   ]
  },
  {
   "cell_type": "markdown",
   "metadata": {},
   "source": [
    "**Código 4.8**"
   ]
  },
  {
   "cell_type": "markdown",
   "metadata": {},
   "source": [
    "**radio.py**"
   ]
  },
  {
   "cell_type": "code",
   "execution_count": null,
   "metadata": {},
   "outputs": [],
   "source": [
    "pi = 3.14159 \n",
    "\n",
    "def area_circ(radio):\n",
    "    '''Recibe un float o int,\n",
    "    retorna el área (float o int) de un círculo con ese radio'''\n",
    "    return pi*(radio**2) \n",
    "\n",
    "def perim_circ(radio):\n",
    "    '''Recibe un float o int,\n",
    "    retorna el perímetro (float o int) de un círculo con ese radio'''\n",
    "    return 2*pi*radio \n",
    "\n",
    "def area_esf(radio):\n",
    "    '''Recibe un float o int,\n",
    "    retorna el área (float o int) de una esfera con ese radio'''\n",
    "    return 4*pi*(radio**2) \n",
    "\n",
    "def vol_esf(radio):\n",
    "    '''Recibe un float o int,\n",
    "    retorna el volumen (float o int) de una esfera con ese radio''' \n",
    "    return (4/3)*pi*(radio**3)"
   ]
  },
  {
   "cell_type": "markdown",
   "metadata": {},
   "source": [
    "**lado.py**"
   ]
  },
  {
   "cell_type": "code",
   "execution_count": null,
   "metadata": {},
   "outputs": [],
   "source": [
    "def area_cuad(lado):\n",
    "    '''Recibe un float o int,\n",
    "    retorna el área (float o int) de un cuadrado con ese lado'''  \n",
    "    return lado*lado\n",
    "\n",
    "def perim_cuad(lado): \n",
    "    '''Recibe un float o int,\n",
    "    retorna el perímetro (float o int) de un cuadrado con ese lado'''  \n",
    "    return 4*lado\n",
    "\n",
    "def area_cubo(lado): \n",
    "    '''Recibe un float o int,\n",
    "    retorna el área (float o int) de un cubo con ese lado'''  \n",
    "    return 6*area_cuad(lado)\n",
    "\n",
    "def vol_cubo(lado): \n",
    "    '''Recibe un float o int,\n",
    "    retorna el volumen (float o int) de un cubo con ese lado'''  \n",
    "    return lado*lado*lado"
   ]
  },
  {
   "cell_type": "markdown",
   "metadata": {},
   "source": [
    "**prog.py**"
   ]
  },
  {
   "cell_type": "code",
   "execution_count": null,
   "metadata": {},
   "outputs": [],
   "source": [
    "from radio import *\n",
    "from lado import *\n",
    "\n",
    "n = float(input('Ingrese número positivo: '))\n",
    "while n <= 0:\n",
    "    n = float(input('Ingrese número positivo: '))\n",
    "\n",
    "print('El área y perímetro de un círculo de radio', n, 'son: ', area_circ(n), 'y', perim_circ(n))\n",
    "\n",
    "print('El área y volumen de una esfera de radio', n, 'son: ', area_esf(n), 'y', vol_esf(n))\n",
    "\n",
    "print('Se ha utilizado el valor', pi, 'para la constante pi')\n",
    "\n",
    "print('El área y perímetro de un cuadrado de lado', n, 'son: ', area_cuad(n), 'y', perim_cuad(n))\n",
    "\n",
    "print('El área y volumen de un cubo de lado', n, 'son: ', area_cubo(n), 'y', vol_cubo(n))"
   ]
  },
  {
   "cell_type": "markdown",
   "metadata": {},
   "source": [
    "<a id='sec4.5'></a>\n",
    "## 4.5 Manejo de archivos de datos\n",
    "Como vimos en la [Sección 4.3](#sec4.3), cuando se termina la ejecución de un programa, todos los datos asociados a las variables se pierden. Para conservar datos después de que un programa se cierre, es necesario guardarlos en archivos. De esta manera, los datos se conservarán incluso aunque se apague el computador, debido a que los archivos se almacenan en discos duros que tienen la capacidad de conservar los datos guardados en ellos, a diferencia de la memoria RAM donde se guardan las variables.\n",
    "\n",
    "El manejo de archivos en un programa consite principalmente de cuatro procesos: abrir el archivo, leer datos del archivo, escribir datos en el archivo, cerrar el archivo. Aunque un archivo de datos siempre debe abrirse al inicio y cerrarse al final, uno puede abrirlo solo para leer datos, solo para escribir datos o para ambos procesos combinados."
   ]
  },
  {
   "cell_type": "markdown",
   "metadata": {},
   "source": [
    "### Abrir un archivo\n",
    "Lo primero que debe hacerse para leer o escribir datos en un archivo es abrirlo. Al abrir un archivo, el sistema operativo se encarga de traerlo del disco duro a la memoria RAM para que sus datos puedan ser manipulados por instrucciones en el procesador, ya que este no puede trabajar directamente con datos en el disco duro.\n",
    "\n",
    "Para abrir un archivo en Python se utiliza la función buil-in `open()` como se muestra en el siguiente código:"
   ]
  },
  {
   "cell_type": "code",
   "execution_count": null,
   "metadata": {},
   "outputs": [],
   "source": [
    "x = open('datos.txt')"
   ]
  },
  {
   "cell_type": "markdown",
   "metadata": {},
   "source": [
    "La variable `x` es un objeto de tipo archivo, lo que quiere decir que a través de esa variables se pueden invocar funciones para por ejemplo leer el archivo. Debe quedar claro que la variable `x` no es diractamente la que tiene los datos del archivo, si no que a través de ella se puede acceder como se verá en la próxima sección. Si se ejecuta `print(x)` no se imprimirán los datos contenidos en el archivo.\n",
    "\n",
    "La función `open()` tiene un segundo parámetro opcional para especificar en que modo se abre el archivo, por ejemplo, si se quiere abrir solo para lectura, para escritura o para ambas. El siguiente código muestra cómo abrir un archivo para escribir en él:"
   ]
  },
  {
   "cell_type": "code",
   "execution_count": null,
   "metadata": {},
   "outputs": [],
   "source": [
    "x = open('datos.txt', 'w')"
   ]
  },
  {
   "cell_type": "markdown",
   "metadata": {},
   "source": [
    "Los principales modos de apertura de arhcivos son:\n",
    "\n",
    "* `'r'`: modo lectura, no es posible modificar el archivo (no permite escritura).\n",
    "* `'r+'`: modo lectoescritra, es posible leer y escribir.\n",
    "* `'w'`: modo escritura, al escribir el archivo se borrar el contido que había (no permite lectura).\n",
    "* `'a'`: modo agregar, lo que se escriba se agrega al final del contenido existente (no permite lectura).\n",
    "\n",
    "Si no se espeficia un modo, por defecto el archivo se abre en modo `r`."
   ]
  },
  {
   "cell_type": "markdown",
   "metadata": {},
   "source": [
    "### Leer un archivo\n",
    "Para leer un archivo se utiliza la función `read()` a través de una variable tipo archivo como se muestra en el siguiente ejemplo:"
   ]
  },
  {
   "cell_type": "code",
   "execution_count": null,
   "metadata": {},
   "outputs": [],
   "source": [
    "x = open('datos.txt')\n",
    "t =  x.read()\n",
    "print(t)"
   ]
  },
  {
   "cell_type": "markdown",
   "metadata": {},
   "source": [
    "La función `read()`, al igual que `input()`, siempre retornan un `string`. De esta manera, la variable `t` será una cadena de caracteres con todos los datos del archivo."
   ]
  },
  {
   "cell_type": "markdown",
   "metadata": {},
   "source": [
    "También puede usarse la función `readline()` para leer únicamente una línea del archivo:"
   ]
  },
  {
   "cell_type": "code",
   "execution_count": null,
   "metadata": {},
   "outputs": [],
   "source": [
    "x = open('datos.txt')\n",
    "t =  x.readline()\n",
    "print('Primera línea:', t)\n",
    "t =  x.readline()\n",
    "print('Segunda línea:', t)\n",
    "\n",
    "x.seek(0)\n",
    "t =  x.readline()\n",
    "print('Primera línea:', t)"
   ]
  },
  {
   "cell_type": "markdown",
   "metadata": {},
   "source": [
    "En llamados sucesivos a la función `readline()`, ésta avanzará hasta la próxima línea. Invocando la función `seek(0)` es posible devolver la posición del archivo al inicio, como se muestra en el ejemplo."
   ]
  },
  {
   "cell_type": "markdown",
   "metadata": {},
   "source": [
    "**Leer un archivo con ciclo for**\n",
    "\n",
    "Es posible utilizar un ciclo `for` para recorrer un archivo línea por línea, así:"
   ]
  },
  {
   "cell_type": "code",
   "execution_count": null,
   "metadata": {},
   "outputs": [],
   "source": [
    "x = open('datos.txt')\n",
    "c = 0\n",
    "for lin in x:\n",
    "    print('Línea: ', lin)\n",
    "    c += 1\n",
    "print('Se leyeron', c, 'líneas del archivo.')"
   ]
  },
  {
   "cell_type": "markdown",
   "metadata": {},
   "source": [
    "En cada iteración del `for`, éste leerá una línea del archivo y la guardará en la variable `lin`. El `for` terminará de iterar cuando no haya más líneas en el archivo."
   ]
  },
  {
   "cell_type": "markdown",
   "metadata": {},
   "source": [
    "**Cerrar un archivo**\n",
    "\n",
    "Finalmente, luego de terminar con la manipulación de un archivo (lectura o escritura) es importante cerrarlo para guardar los cambios y para que se libere su espacio en memoria RAM. El siguiente código muestra cómo cerrar un archivo previamente abierto:"
   ]
  },
  {
   "cell_type": "code",
   "execution_count": null,
   "metadata": {},
   "outputs": [],
   "source": [
    "x = open('datos.txt')\n",
    "t =  x.read()\n",
    "print(t)\n",
    "x.close()"
   ]
  },
  {
   "cell_type": "markdown",
   "metadata": {},
   "source": [
    "### Escribir un archivo\n",
    "Para escribir datos en un archivo se utiliza la función `write()` a través de una variable tipo archivo como se muestra en el siguiente ejemplo:"
   ]
  },
  {
   "cell_type": "code",
   "execution_count": null,
   "metadata": {},
   "outputs": [],
   "source": [
    "x = open('datos_temp.txt', 'w')\n",
    "x.write('Texto de prueba para escritura de archivo.\\n')\n",
    "x.write('Otra línea de texto.\\n')\n",
    "x.close()"
   ]
  },
  {
   "cell_type": "markdown",
   "metadata": {},
   "source": [
    "Sin embargo, para agregar datos a un archivo sin borrar los que existan previamente, seguimos el mismo proceso pero abriendo el archivo en modo `a`:"
   ]
  },
  {
   "cell_type": "code",
   "execution_count": null,
   "metadata": {},
   "outputs": [],
   "source": [
    "x = open('datos_temp.txt', 'a')\n",
    "x.write('Línea que se agrega al archivo.')\n",
    "x.close()"
   ]
  },
  {
   "cell_type": "markdown",
   "metadata": {},
   "source": [
    "### Lectoescritura de un archivo\n",
    "Cuando queremos abrir un archivo para modificar partes de él, por lo general también necesitamos leerlo para definir donde hacer las modificaciones. Para abrir un archivo en modo lectoescritura se utiliza el modo `'r+'` como se muestra en el siguiente ejemplo."
   ]
  },
  {
   "cell_type": "code",
   "execution_count": null,
   "metadata": {},
   "outputs": [],
   "source": [
    "def cambiar_separador(ar, carac):\n",
    "    '''Recibe el string ar con el nombre del archivo a modificar\n",
    "    y el string carac con el caracter que debe reemplazar la coma.\n",
    "    Modifica el archivo ar cambiando todas las comas por el caracter carac.'''\n",
    "    x = open(ar, 'r+')\n",
    "    palabras = x.read()\n",
    "\n",
    "    palsmod = '' # cadena para almacenar el listado de palabras modificado\n",
    "    \n",
    "    for letra in palabras: # por cada letra del archivo\n",
    "        if letra == ',':\n",
    "            palsmod = palsmod + carac # agregar caracter de reemplazo\n",
    "        else:\n",
    "            palsmod = palsmod + letra # agregar caracter original\n",
    "    \n",
    "    x.seek(0) # reposicionar el archivo al inicio\n",
    "    x.write(palsmod)\n",
    "    x.close()\n",
    "\n",
    "nomarchivo = 'palabras.txt'\n",
    "c = input('Caracter para reemplazar la coma: ')\n",
    "cambiar_separador(nomarchivo, c)\n",
    "print('Se han reemplazado las comas por', c, 'en el archivo', nomarchivo)"
   ]
  },
  {
   "cell_type": "markdown",
   "metadata": {},
   "source": [
    "En el ejemplo anterior se define una función que cambia en el archivo palabras.txt todas las comas por el caracter que especificque el usuario. Note que en la línea 16 se invoca el método `seek(0)` para reposicionar el archivo al inicio previo a la escritura. Si no se invocara `seek(0)`, el texto modificado se agregaría al final del archivo, conservándose el texto original, tal como sucedería con el modo `'a'`."
   ]
  }
 ],
 "metadata": {
  "kernelspec": {
   "display_name": "Python 3",
   "language": "python",
   "name": "python3"
  },
  "language_info": {
   "codemirror_mode": {
    "name": "ipython",
    "version": 3
   },
   "file_extension": ".py",
   "mimetype": "text/x-python",
   "name": "python",
   "nbconvert_exporter": "python",
   "pygments_lexer": "ipython3",
   "version": "3.6.4"
  }
 },
 "nbformat": 4,
 "nbformat_minor": 2
}
