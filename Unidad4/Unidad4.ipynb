{
 "cells": [
  {
   "cell_type": "markdown",
   "metadata": {},
   "source": [
    "# Unidad 4: Funciones\n",
    "Esta unidad presenta las funciones; un concepto muy importante en programación que permite reutilizar código y construir programas modulares para facilitar su organización y el trabajo en equipo. Una vez los programas usan funciones, otros conceptos como el ámbito de las variables cobra importancia y por lo tanto también son estudiados. Finalmente, como complemento, esta unidad introduce el manejo de archivos y módulos (programas multiarchivo)."
   ]
  },
  {
   "cell_type": "markdown",
   "metadata": {},
   "source": [
    "[4.1 Introducción](#sec4.1)\n",
    "\n",
    "[4.2 Funciones en Python](#sec4.2)\n",
    "\n",
    "[4.3 Ámbito de las variables](#sec4.3)\n",
    "\n",
    "[4.4 Programas multi-archivo](#sec4.4)\n",
    "\n",
    "[4.5 Manejo de archivos de datos](#sec4.5)"
   ]
  },
  {
   "cell_type": "markdown",
   "metadata": {},
   "source": [
    "<a id='sec4.1'></a>\n",
    "## 4.1 Introducción\n",
    "A pesar de la importancia práctica de las funciones, es posible hacer cualquier programa sin funciones. La ventaja fundamental de las funciones es que facilita el desarrollo y mantenimiento de un programa.\n",
    "\n",
    "Las funciones nacen de la necesidad de reutilizar un segmento de un programa que se necesita en otra parte del mismo. Si uno no sabe que existen las funciones, lo que hace es simplemente copiar y pegar el código que quiere reutilizar. Sin embargo, aparecen varios inconvenientes al hacerlo:\n",
    "\n",
    "* Los nombres de las variables deberán cambiarse para ajustarse a los nombres usados en la parte del programa donde se quiere reutilizar el código.\n",
    "* Si luego de haber reutilizado el código en varios lugares del programa, se quiere hacer algún cambio en el algoritmo reutilizado, será necesario aplicar el cambio en todos los lugares dnde se reutilizó."
   ]
  },
  {
   "cell_type": "markdown",
   "metadata": {},
   "source": [
    "Una **función** es un segmento de código que ha sido independizado y puesto aparte para que pueda ser utilizado y reutilizado en cualquier parte de un programa. Al crear una función es necesario definir tres elementos básicos:\n",
    "* El nombre\n",
    "* Las entradas y salidas\n",
    "* El segmento de código que formará el cuerpo de la función\n",
    "\n",
    "Las funciones son a veces llamadas también subrutinas o subprogramas y están presentes y casi todos los lenguajes de programación."
   ]
  },
  {
   "cell_type": "markdown",
   "metadata": {},
   "source": [
    "**Figura 4.1**\n",
    "\n",
    "![motfunciones](images/motivacion_funciones.png)"
   ]
  },
  {
   "cell_type": "markdown",
   "metadata": {},
   "source": [
    "La Figura 4.1 muestra un algoritmo en el que se resaltan en amarillo dos partes del mismo que son iguales, es decir, un sub-algoritmo que es utilizado dos veces. El lado derecho muestra cómo se puede representar el mismo algoritmo en dos partes: por un lado, el sub-algoritmo a ser reutilizado, y por otro, el algoritmo simplificado al hacer uso del sub-algoritmo.\n",
    "\n",
    "En la siguiente sección veremos cómo hacer esto en Python."
   ]
  },
  {
   "cell_type": "markdown",
   "metadata": {},
   "source": [
    "<a id='sec4.2'></a>\n",
    "## 4.2 Funciones en Python\n",
    "<a id='sec4.2a'></a>\n",
    "### Definición de una función\n",
    "Como vimos, para crear una función debemos definir su nombre, sus entradas y salidas, y el código que formará el cuerpo de la función. En el siguiente código se muestra una función sencilla que recibe dos cadenas de caracteres y entrega falso o verdadero de acuerdo a si ambas tienen igual longitud o no."
   ]
  },
  {
   "cell_type": "markdown",
   "metadata": {},
   "source": [
    "**Código 4.1**"
   ]
  },
  {
   "cell_type": "code",
   "execution_count": null,
   "metadata": {},
   "outputs": [],
   "source": [
    "def slen(a, b):\n",
    "    if len(a)==len(b):\n",
    "        x = True\n",
    "    else:\n",
    "        x = False\n",
    "    return x"
   ]
  },
  {
   "cell_type": "markdown",
   "metadata": {},
   "source": [
    "La instrucción `def` hace parte del lenguaje Python e indica que se va a **definir una función**. Seguido de un espacio va el **nombre de la función**, que es elegido por el programador pero que debe seguir las mismas reglas y buenas prácticas que los nombres de las variables."
   ]
  },
  {
   "cell_type": "markdown",
   "metadata": {},
   "source": [
    "Luego, entre paréntesis y separadas por comas debe ir la lista de las variables de entrada que requiere el subprograma y que llamaremos los **parámetros** de la función. Lo que sigue es el **cuerpo de la función** que debe ir desplazado a la derecha con respecto a la posición de `def`. De esta manera se indica que esas instrucciones hacen parte de la función.\n",
    "\n",
    "Finalmente, la instrucción `return` sirve para indicar qué dato se entregará como **resultado** al programa que invoque la función. La ejecución de una función finaliza cuando se encuentra la instrucción `return` o cuando no hay más instrucciones por ejecutar."
   ]
  },
  {
   "cell_type": "markdown",
   "metadata": {},
   "source": [
    "Si el programador lo requiere, también es posible crear una función que no tenga variables de entrada ni de salida. El siguiente código muestra un ejemplo de tal situación, donde los paréntesis están vacíos y no aparece la instrucción `return`."
   ]
  },
  {
   "cell_type": "markdown",
   "metadata": {},
   "source": [
    "**Código 4.2**"
   ]
  },
  {
   "cell_type": "code",
   "execution_count": null,
   "metadata": {},
   "outputs": [],
   "source": [
    "def name2ascii():\n",
    "    name = input('Ingresa tu nombre: ')\n",
    "    print('Los códigos ASCII de tu nombre son:')\n",
    "    for c in name:\n",
    "        print(ord(c), end=' ')"
   ]
  },
  {
   "cell_type": "markdown",
   "metadata": {},
   "source": [
    "<a id='sec4.2b'></a>\n",
    "### Invocación de una función\n",
    "La definición de una función es solamente la mitad de la historia acerca de las funciones. Una vez la función se ha creado (definido), ésta puede ser usada en el resto del programa.\n",
    "\n",
    "Decimos que invocamos una función cuando la llamamos por medio de su nombre para que se ejecute. Al invocarla debemos también entregarle datos para sus variables de entrada (si las tiene) y asignar los datos de salida (si los hay) a alguna variable del ámbito desde donde se invoca la función.\n",
    "\n",
    "El siguiente código muestra un programa que incluye no solo la definición de una función, si no que también tiene un programa principal donde se invoca la función previamente definida."
   ]
  },
  {
   "cell_type": "markdown",
   "metadata": {},
   "source": [
    "**Código 4.3**"
   ]
  },
  {
   "cell_type": "code",
   "execution_count": null,
   "metadata": {},
   "outputs": [],
   "source": [
    "def slen(a, b):\n",
    "    if len(a)==len(b):\n",
    "        x = True\n",
    "    else:\n",
    "        x = False\n",
    "    return x\n",
    "\n",
    "res = False\n",
    "while res==False:\n",
    "    pals = input('Ingrese dos palabras de igual longitud separadas por un espacio: ')\n",
    "    ind_esp = pals.find(' ')\n",
    "    pri = pals[:ind_esp]\n",
    "    seg = pals[ind_esp+1:]\n",
    "    res = slen(pri, seg)\n",
    "\n",
    "print('Usted ha ingresado dos palabras de igual longitud: ', pri, seg)"
   ]
  },
  {
   "cell_type": "markdown",
   "metadata": {},
   "source": [
    "Note que en la línea 14 del código mostrado se hace la invocación o llamado de la función `slen()`. Seguido del nombre de la función van unos paréntesis que encierran los **argumentos** de la función (datos de entrada). Además, usamos el operador de asignación para asociar el dato de salida de la función, con la variable `res`."
   ]
  },
  {
   "cell_type": "markdown",
   "metadata": {},
   "source": [
    "Cuando se ejecuta el programa mostrado en el Código 4.3, la primera línea de código le indica al intérprete que debe definirse la función `slen()`, lo hara que el intérprete almacene en la memoria las instrucciones que hacen parte de la función y asocia el nombre de la función con la dirección de la memoria donde quedó almacenada ésta. Debe quedar claro que la función no se ha ejecutado todavía, solamente se definió. La siguiente línea de código en ejecutarse es la 8, luego la 9 y así hasta llegar a la línea 14 donde se invoca `slen()`. En ese momento, el programa asigna a la variable `a` el valor de `pri` y a `b` el valor de `seg`.\n",
    "\n",
    "Luego el programa salta a la línea 2 para ejecutar la función que fue invocada. La última línea de la función en ejecutarse será la 6, donde se encuentra la instrucción `return`. De ahí el programa retorna la línea 14 y asigna el valor que tenía la variable `x` de `slen()` a la variable `res` del programa principal."
   ]
  },
  {
   "cell_type": "markdown",
   "metadata": {},
   "source": [
    "<a id='sec4.2c'></a>\n",
    "### Parámetros por defecto y argumentos por nombre\n",
    "Las funciones en Python tienen algunas características de configuración opcional que ofrecen mayor flexibilidad al programador. Al crear la lista de parámetros de una función, es posible asignarle un valor por defecto a la variable. Cuando se hace esto, el parámetro se convierte en opcional, es decir, cuando la función es invocada puede hacerse sin asignarle un argumento a dicho parámetro opcional, ya que éste tiene un valor po defecto. Si al invocar una función sí se le asigna argumento a un parámetro opcional, este simplemente tomará el valor del argumento asignado y se ignorará su valor por defecto. A esta característica de las funciones en Python se le conocer como **parámetros por defecto** y es útil cuando se quiere simplificar el uso de una función. De esta manera, no es necesario darle argumentos a funciones que quizás tengan muchos parámetros. Pueden simplemente tener valores por defecto que si el usuario de la función lo quiere, puede modificarlos en todo caso.\n",
    "\n",
    "Otra opción especial para el uso de funciones es la de los **argumentos por nombre**. Como se ha visto, al invocar una función no es necesario conocer el nombre de las variables internas (parámetros) que reciben los argumentos (datos de entrada). Basta con saber el significado y orden de cada uno de los parámetros. Sin embargo, Python permite que los argumentos sean asignados de manera directa utilizando los nombres de los parámetros y en ese caso puede hacerse en cualquier orden.\n",
    "\n",
    "El siguiente ejemplo muestra ambas opciones. La definición de la función `strIsIn()` asigna un valor por defecto al parámetro `sen`, y es por eso, que la invocación de `strIsIn()` de las líneas 13 y 23, solo tiene dos argumentos."
   ]
  },
  {
   "cell_type": "code",
   "execution_count": null,
   "metadata": {},
   "outputs": [],
   "source": [
    "def strIsIn(str1, str2, sen=True): \n",
    "    if not sen: \n",
    "        str1 = str1.lower() \n",
    "        str2 = str2.lower() \n",
    "    if str1 in str2: \n",
    "        return 'Yes'\n",
    "    else: \n",
    "        return 'No'\n",
    "\n",
    "a = 'Hola' \n",
    "b= 'holas' \n",
    "\n",
    "print(strIsIn(a, b))\n",
    "\n",
    "print(strIsIn(a, b, False))\n",
    "\n",
    "print(strIsIn(a, b, True))\n",
    "\n",
    "print(strIsIn(b, a, False))\n",
    "\n",
    "print(strIsIn(sen=False, str2=a, str1=b))\n",
    "\n",
    "print(strIsIn(str2=a, str1=b))"
   ]
  },
  {
   "cell_type": "markdown",
   "metadata": {},
   "source": [
    "<a id='sec4.2d'></a>\n",
    "### Documentación del código  y especificación de funciones\n",
    "A pesar de que los lenguajes de alto nivel tratan en cierta de medida de acercarse al lenguaje natural de las personas, existe en todo caso una brecha que puede ser grande cuando los algoritmos son complejos. En otras palabras, el código fuente de los programas es en muchos casos difícil de entender, especialmente para alguien diferente a la persona que lo escribió.\n",
    "\n",
    "Ya habíamos visto que Python (al igual que todos los lenguajes de programación) nos da la posibilidad de agregar texto en el código fuente sin que éste haga parte de las instrucciones a ejecutar. Con el símbolo numeral `#` o con las comillas triples `'''` podemos agregar comentarios al código fuente para facilitar su entendimiento. La documentación del código fuente de un programa consiste en agregar comentarios en las partes que son críticas para su entendimiento, su funcionamiento y su eficiencia."
   ]
  },
  {
   "cell_type": "markdown",
   "metadata": {},
   "source": [
    "Quizás lo más importante que se debe documentar en un programa, son las funciones, debido a que son las fronteras naturales entre las diferentes partes de un programa. Al abrir un código fuente, lo más importante que debe encontrar quien lo lee es una documentación apropiada que informe sobre los datos de entrada y salida, así como el propósito de la función. A esta información le llamamos la **especificación** de la función.\n",
    "\n",
    "El siguiente ejemplo muestra la definición de una función con su respectiva especificación."
   ]
  },
  {
   "cell_type": "markdown",
   "metadata": {},
   "source": [
    "**Código 4.4**"
   ]
  },
  {
   "cell_type": "code",
   "execution_count": null,
   "metadata": {},
   "outputs": [],
   "source": [
    "def findRoot(x, power, epsilon=0.01): \n",
    "    ''' Asume que x y epsilon son int o float, que power es int, epsilon > 0 y power >= 1\n",
    "    Retorna un dato float tal que dato**power está dentro de una distancia epsilon de x \n",
    "    Si no existe tal dato, retorna None''' \n",
    "    if x<0 and power%2==0: \n",
    "        return None \n",
    "    low = 0.0 \n",
    "    high = max(1.0, x) \n",
    "    ans = (high + low)/2.0 \n",
    "    while abs(ans**power - x) >= epsilon: \n",
    "        if ans**power < x: \n",
    "            low = ans \n",
    "        else: \n",
    "            high = ans \n",
    "        ans = (high + low)/2.0 \n",
    "    return ans"
   ]
  },
  {
   "cell_type": "markdown",
   "metadata": {},
   "source": [
    "La especificación de una función tiene dos partes:\n",
    "* **Suposiciones**: son los requisitos que deben cumplir los argumentos al invocar una función para ésta funcione bien.\n",
    "* **Garantías**: es la descripción de lo que hace la función siempre y cuando se cumplan las suposiciones.\n",
    "\n",
    "En el Código 4.4, la línea 2 son las suposiciones y las líneas 3 y 4 son las garantías."
   ]
  },
  {
   "cell_type": "markdown",
   "metadata": {},
   "source": [
    "La especificación de una función es muy importante porque con solo leerla yo puedo hacer uso de la función sin necesidad de inspeccioner el cuerpo de la función para deducirlo. Podemos pensar en la especificación como el manual de usuario de la función."
   ]
  },
  {
   "cell_type": "markdown",
   "metadata": {},
   "source": [
    "<a id='sec4.2e'></a>\n",
    "### Ventajas de usar funciones\n",
    "El uso de funciones tiene ventajas muy importantes y se puede decir que practicamente todos los programas en todos los lenguajes utilizan funciones. Las principales ventajas son:\n",
    "* Programas más cortos: Al reutilizar segmentos de código en varios lugares de un programa nos evitamos repetir estos segmentos una y otra vez. Usando funciones, solo es necesario definir el segmento de código una única vez como subrutina que luego puede ser utilizada cuantas veces sea necesario. Esto ahorra tiempo del programador y memoria al ejecutar el programa.\n",
    "* Eficiencia para hacer cambios: Cuando se decide hacer un cambio al cuerpo de una función, todos los lugares donde se invoque la función \"verán\" el cambio automáticamente. Si no se usaran funciones, sería necesario hacer el cambio en todos los lugares donde se utilice el mismo segmento de código.\n",
    "* Organización del código fuente: Un programa que usa funciones adquiere una estructura modular que permite lograr un código fuente mucho más organizado, fácil de entender y modificar.\n",
    "* Facilidad de trabajo en equipo: Un programa que está dividido en funciones puede ser más fácilmente desarrollado entre varias personas y que las funciones definen fronteras claras de hasta dónde llega la responsabilidad de cada programador."
   ]
  },
  {
   "cell_type": "markdown",
   "metadata": {},
   "source": [
    "La única desventaja que podría asociarse al uso de funciones, es que el salto que debe hacer un programa al invocar una función junto con los operaciones para copiar los datos de entrada toman un tiempo adicional que, en caso de que se haga un uso excesivo de funciones, podría llegar a afectar la velocidad del programa."
   ]
  },
  {
   "cell_type": "markdown",
   "metadata": {},
   "source": [
    "<a id='sec4.3'></a>\n",
    "## 4.3 Ámbito de las variables\n",
    "Esta sección..."
   ]
  },
  {
   "cell_type": "markdown",
   "metadata": {},
   "source": [
    "<a id='sec4.3a'></a>\n",
    "### Marcos de pilas\n",
    "Esta sección..."
   ]
  },
  {
   "cell_type": "markdown",
   "metadata": {},
   "source": [
    "<a id='sec4.3b'></a>\n",
    "### Funciones anidadas\n",
    "Esta sección..."
   ]
  },
  {
   "cell_type": "markdown",
   "metadata": {},
   "source": [
    "<a id='sec4.3c'></a>\n",
    "### Variables globales y locales\n",
    "Fácil reutilización y mantenimiento de código. También, comodidad para organizar y entender el código."
   ]
  },
  {
   "cell_type": "markdown",
   "metadata": {},
   "source": [
    "<a id='sec4.4'></a>\n",
    "## 4.4 Programas multi-archivo\n",
    "Esta sección..."
   ]
  },
  {
   "cell_type": "markdown",
   "metadata": {},
   "source": [
    "<a id='sec4.5'></a>\n",
    "## 4.5 Manejo de archivos de datos\n",
    "Esta sección..."
   ]
  }
 ],
 "metadata": {
  "kernelspec": {
   "display_name": "Python 3",
   "language": "python",
   "name": "python3"
  },
  "language_info": {
   "codemirror_mode": {
    "name": "ipython",
    "version": 3
   },
   "file_extension": ".py",
   "mimetype": "text/x-python",
   "name": "python",
   "nbconvert_exporter": "python",
   "pygments_lexer": "ipython3",
   "version": "3.6.4"
  }
 },
 "nbformat": 4,
 "nbformat_minor": 2
}
