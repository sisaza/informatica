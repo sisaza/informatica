{
 "cells": [
  {
   "cell_type": "markdown",
   "metadata": {
    "colab_type": "text",
    "id": "y2Ipgu3-Iaml"
   },
   "source": [
    "<img src=\"images/Inf1_cabezotedocumentos.png\" alt=\"header\"/>"
   ]
  },
  {
   "cell_type": "markdown",
   "metadata": {
    "colab_type": "text",
    "id": "Gm8ijdk4Iamn"
   },
   "source": [
    "# Unidad 5: Tipos de datos estructurados\n",
    "### Autor: Sebastián Isaza Ramírez - Profesor UdeA\n",
    "\n",
    "Hasta ahora se ha trabajado con 4 tipos de datos: `int`, `float`, `bool` y `string`. La Figura 1 muestra ejemplos de esos datos y su descripción. El tipo `string` tiene una propiedad especial que lo diferencia de los otros: es un tipo *arreglo*, es decir, es un tipo de dato que se compone de varios elementos a los que el lenguaje Python permite acceder mediante la primitiva de la indexación `[]`. Aunque con los `string` se tiene la gran ventaja de poder almacenar arreglos de cualquier tamaño, también existe una gran limitación: los elementos de un `string` solo pueden ser caracteres."
   ]
  },
  {
   "cell_type": "markdown",
   "metadata": {
    "colab_type": "text",
    "id": "ppeYbiN2Iamo"
   },
   "source": [
    "<img src=\"images/Inf1-u5-fig-1.png\" alt=\"Tipos de datos\" width=\"600\"/>\n",
    "\n",
    "                         Fig. 1. Tipos de datos vistos hasta el momento: `int`, `float`, `bool` y `string`"
   ]
  },
  {
   "cell_type": "markdown",
   "metadata": {
    "colab_type": "text",
    "id": "jEM5FwlQIamp"
   },
   "source": [
    "Si en un programa se necesita crear un arreglo de números enteros o reales, o quizas un arreglo mixto donde algunos elementos sean números y otros booleanos o cadenas, se deben utilizar otros tipos de datos del lenguaje.\n",
    "\n",
    "En este capítulo se verán tres tipos de datos adicionales que permiten crear arreglos de características mucho más flexibles que los `string`. Estos son las **tuplas**, las **listas** y los **diccionarios**."
   ]
  },
  {
   "cell_type": "markdown",
   "metadata": {
    "colab_type": "text",
    "id": "wbbXhISQIamq"
   },
   "source": [
    "### Tabla de contenido\n",
    "\n",
    "[5.1 Tuplas](#sec5.1)\n",
    "\n",
    "[5.2 Listas](#sec5.2)\n",
    "\n",
    "[5.3 Mutabilidad](#sec5.3)\n",
    "\n",
    "[5.3.1 Clonación y aliasing](#sec5.3.1)\n",
    "\n",
    "[5.3.2 Cadenas vs. tuplas vs. listas](#sec5.3.2)\n",
    "\n",
    "[5.4 Diccionarios](#sec5.4)\n",
    "\n",
    "[5.4.1 Operaciones con diccionarios](#sec5.4.1)"
   ]
  },
  {
   "cell_type": "markdown",
   "metadata": {
    "colab_type": "text",
    "id": "RMhgenjmIamr"
   },
   "source": [
    "<a id='sec5.1'></a>\n",
    "## 5.1 Tuplas\n",
    "Las tuplas (tuples en inglés) son arreglos de elementos al igual que los strings, pero en los que se puede combinar cualquier tipo de dato entre los diferentes elementos del arreglo."
   ]
  },
  {
   "cell_type": "code",
   "execution_count": null,
   "metadata": {
    "colab": {},
    "colab_type": "code",
    "id": "e0-hZrnnIams",
    "outputId": "416acf0f-26ea-4676-fe6b-a1f02583a012"
   },
   "outputs": [],
   "source": [
    "t1 = (5.24,) # tupla de un solo elemento\n",
    "t2 = (3.67, 'hola', 4, True)\n",
    "t3 = (t2, 4, False) # tupla como elemento de otra tupla\n",
    "t4 = t3 + t2 # concatenación\n",
    "print(t4)\n",
    "print(t4[2]) # indexación\n",
    "print(t4[0])\n",
    "print(t4[2:4]) # segmentación"
   ]
  },
  {
   "cell_type": "markdown",
   "metadata": {
    "colab_type": "text",
    "id": "4McnVezhIamz"
   },
   "source": [
    "Como se ve en el código anterior, en lugar de utilizar comillas (como en las cadenas) para especificar un valor literal de una tupla, se utilizan los paréntesis (ver líneas 1, 2 y 3 del ejemplo). Nótese que para crear el literal de una tupla con un solo elemento es necesario poner una coma luego del elemento."
   ]
  },
  {
   "cell_type": "code",
   "execution_count": null,
   "metadata": {
    "colab": {},
    "colab_type": "code",
    "id": "Tz7EMiUoIam0"
   },
   "outputs": [],
   "source": [
    "def find_divs(n1, n2): \n",
    "    '''Asume que n1 y n2 son enteros positivos,\n",
    "    retorna una tupla con todos los divisores comunes de n1 y n2''' \n",
    "    divisors = () #tupla vacía \n",
    "    for i in range(1, min(n1,n2)+1): \n",
    "        if n1%i == 0 and n2%i == 0: \n",
    "            divisors = divisors + (i,)\n",
    "    return divisors\n",
    "\n",
    "divs = find_divs(20, 100)\n",
    "print(divs)\n",
    "total = 0\n",
    "\n",
    "for d in divs:\n",
    "    total += d\n",
    "\n",
    "print('La suma de los divisores es: ', total)"
   ]
  },
  {
   "cell_type": "markdown",
   "metadata": {
    "colab_type": "text",
    "id": "8xttZmiSIam3"
   },
   "source": [
    "<a id='sec5.2'></a>\n",
    "## 5.2 Listas\n",
    "Las listas, al igual que las tuplas, son un tipo con el se pueden crear arreglos cuyos elementos pueden ser de cualquier tipo. Sin embargo, las listas tienen una importante característica que las diferencia de las tuplas y de las cadenas: son objetos de datos mutables. En la próxima sección se estudairá la mutabilidad y sus implicaciones, pero por el momento se puede decir que con las listas es posible indexar un elemento y modificarlo directamente, como se ve en la línea 6 del siguiente código:"
   ]
  },
  {
   "cell_type": "code",
   "execution_count": null,
   "metadata": {
    "colab": {},
    "colab_type": "code",
    "id": "Kkt4oeb3Iam4"
   },
   "outputs": [],
   "source": [
    "list1 = [9] \n",
    "list2 = [4, 'free', 8.4] \n",
    "list3 = [list2, True] \n",
    "list4 = list3 + [4, -7.8] \n",
    "print(list4) \n",
    "list2[1] = 6.34 # indexación de un elemento para modificar su valor\n",
    "print(list4[2]) \n",
    "print(list4[0]) \n",
    "print(list4[2:4])"
   ]
  },
  {
   "cell_type": "markdown",
   "metadata": {
    "colab_type": "text",
    "id": "qui_WktiIam6"
   },
   "source": [
    "Si se intenta modificar un elemento de un `string` o un `tuple`, como se muestra en el código anterior, el programa se detendrá con un error, pues esta no es una operación permitida para esos tipos de datos. Para las listas sí."
   ]
  },
  {
   "cell_type": "markdown",
   "metadata": {
    "colab_type": "text",
    "id": "ADOAAmrWIam7"
   },
   "source": [
    "El siguiente código muestra intentos incorrectos de modificar elementos de una tupla y de una cadena en las líneas 5 y 6. Al borrar o comentar estas líneas de código se podrá ejecutar para probar la segunda parte que muestra la forma correcta. En ese caso, estrictamente hablando, no se puede decir que se están *modificando* las variables `tup` y `name`, sino que se están construyendo una nueva tupla y una nueva cadena en otro lugar de la memoria, a las cuales se les dará el mismo nombre que tenían las originales. En otras palabras, se están asignando las nuevas tupla y cadena a los mismos nombres de variables. En el caso de las listas, se está modificando directamente el arreglo de datos original."
   ]
  },
  {
   "cell_type": "code",
   "execution_count": null,
   "metadata": {
    "colab": {},
    "colab_type": "code",
    "id": "x0-YQYt2Iam8"
   },
   "outputs": [],
   "source": [
    "tup = (4, 'free', 8.4)\n",
    "name = 'Fernando'\n",
    "\n",
    "# intento incorrecto de modificación de una tupla y una cadena\n",
    "tup[1] = 'locked'\n",
    "name[4] = '-'\n",
    "\n",
    "# forma correcta\n",
    "tup = tup[0:2] + (7,)\n",
    "name = name[:4] + '-' + name[5:]\n",
    "print(tup, name)"
   ]
  },
  {
   "cell_type": "markdown",
   "metadata": {
    "colab_type": "text",
    "id": "DHnur5ruIanA"
   },
   "source": [
    "Las listas en Python vienen acompañadas de un conjunto de métodos para procesarlas. La Figura 2 muestra algunos de los principales métodos, donde los únicos que no modifican la lista son `count()` e `index()`. La utlización de cualquiera de los restantes implica una modificación directa en la lista y, por lo tanto, son métodos que no están disponibles para tuplas o cadenas."
   ]
  },
  {
   "cell_type": "markdown",
   "metadata": {
    "colab_type": "text",
    "id": "Y2ORIOj-IanB"
   },
   "source": [
    "<img src=\"images/Inf1-u5-fig-2.png\" alt=\"Métodos asociados a listas\" width=\"600\"/>\n",
    "\n",
    "                                           Fig. 2. Algunos métodos asociados a las listas"
   ]
  },
  {
   "cell_type": "markdown",
   "metadata": {
    "colab_type": "text",
    "id": "cXgwB0pCIanC"
   },
   "source": [
    "<a id='sec5.3'></a>\n",
    "## 5.3 Mutabilidad\n",
    "La mutabilidad es la propiedad de un objeto de datos de Python de ser modificado. Se debe recordar que una cosa es el objeto de datos y otra cosa son los nombres o identificadores que se les da a estos. Todos los nombres pueden cambiar, es decir, siempre se puede asociar un nombre de una variable a otro objeto de datos al que estaba asociado previamente. El nuevo objeto de datos puede ser del mismo tipo o de otro. Incluso, un nombre que en un momento estaba asociado a un entero, por ejemplo, podría luego asociarse a una función, como se muestra en el siguiente código."
   ]
  },
  {
   "cell_type": "code",
   "execution_count": null,
   "metadata": {
    "colab": {},
    "colab_type": "code",
    "id": "nowhWb98IanJ"
   },
   "outputs": [],
   "source": [
    "def f(x):\n",
    "    x = x + 1\n",
    "    return x\n",
    "\n",
    "k = 9 # el nombre de variable k se asocia a un dato int\n",
    "k = f # el nombre k ahora se asocia a la función f\n",
    "h = k(6) # se invoca la función k(), que es la misma que f()\n",
    "print(h)"
   ]
  },
  {
   "cell_type": "markdown",
   "metadata": {
    "colab_type": "text",
    "id": "4dJXyP0VIanL"
   },
   "source": [
    "De otra parte, los datos que se asocian a los nombres, pueden ser mutables o inmutables. Los `int`, `float`, `bool`, `str` y `tuple`, son todos datos inmutables. Los datos tipo `list`, en cambio, son mutables. Pueden modificarse directamente como se vio en la sección anterior."
   ]
  },
  {
   "cell_type": "markdown",
   "metadata": {
    "colab_type": "text",
    "id": "m_hEFE2qIanM"
   },
   "source": [
    "<a id='sec5.3.1'></a>\n",
    "### 5.3.1 Clonación y aliasing\n",
    "\n",
    "La clonación es una operación en la que se crea una copia de un objeto de datos mutable. Por ejemplo, usando la primitiva de segmentación o la función built-in `list()`, se pueden tomar todos los elementos de una lista para crear una copia, así:"
   ]
  },
  {
   "cell_type": "code",
   "execution_count": null,
   "metadata": {
    "colab": {},
    "colab_type": "code",
    "id": "Jxv_JZrDIanN",
    "outputId": "e2de7890-03ca-4662-c2c3-01abed6131b0"
   },
   "outputs": [],
   "source": [
    "li = [11, 13, 17, 19]\n",
    "\n",
    "licop1 = li[:] # clonación con segmentación\n",
    "licop1[2] = 0\n",
    "print(li, licop1)\n",
    "\n",
    "licop2 = list(li) # clonación con función list()\n",
    "licop2[2] = 2\n",
    "print(li, licop2)"
   ]
  },
  {
   "cell_type": "markdown",
   "metadata": {
    "colab_type": "text",
    "id": "fyroeChzIanQ"
   },
   "source": [
    "Si en el código anterior se escribiera en cambio `licop = li`, se estaría asociando el nombre `licop` al mismo objeto de datos que está asociado `li`, no a una copia suya. Aunque esta diferencia puede parecer menor, en realidad tiene una implicación muy importante que se conoce como el efecto **aliasing**. Éste se da cuando dos nombres están asociados con un mismo objeto de datos mutable; cuando esto sucede, es posible modificar el objeto de datos a través de cualquiera de los dos nombres (variables)."
   ]
  },
  {
   "cell_type": "markdown",
   "metadata": {
    "colab_type": "text",
    "id": "mBqtl68iIanS"
   },
   "source": [
    "En el siguiente código los casos 1 y 2 muestran la diferencia en la implicación que tiene la instrucción `y = x` cuando el dato asociado a `x` es inmutable (caso 1) y mutable (caso 2). En el caso 1, la instrucción de la línea 5 hace que el nombre `y` se asocie a un nuevo objeto de datos creado a partir de una copia de `'Guido'` que se concatena con la cadena `' van Rossum'`. Al imprimir los datos asociados a `x` y `y` en la línea 6, se demuestra que son diferentes. En el caso 2 se asocia a `x` un dato mutable (una lista), por lo que la instrucción de la línea 12, que modifica la lista asociada a `y`, también modifica a `x`, dado que son en realidad la misma lista. Al imprimir los datos asociados a `x` y `y` en la línea 13, se demuestra que son iguales, a diferencia del caso 1."
   ]
  },
  {
   "cell_type": "code",
   "execution_count": null,
   "metadata": {
    "colab": {},
    "colab_type": "code",
    "id": "1Sfw5UI-IanT",
    "outputId": "464163fe-edb8-43bb-c95d-80fc78ce3fa5"
   },
   "outputs": [],
   "source": [
    "# Caso 1: cambio en copia de dato inmutable NO cambia original\n",
    "x = 'Guido'\n",
    "y = x\n",
    "print(x, y) # Guido Guido\n",
    "y += ' van Rossum'\n",
    "print(x, y) # Guido Guido van Rossum\n",
    "\n",
    "# Caso 2: cambio en alias de dato inmutable SÍ cambia original\n",
    "x = [1, 2, 3]\n",
    "y = x\n",
    "print(x, y) # [1, 2, 3] [1, 2, 3]\n",
    "y.extend([4, 5])\n",
    "print(x, y) # [1, 2, 3, 4, 5] [1, 2, 3, 4, 5]"
   ]
  },
  {
   "cell_type": "markdown",
   "metadata": {
    "colab_type": "text",
    "id": "9Xs3Ag-FIanW"
   },
   "source": [
    "#### Tipos mutables como argumentos de funciones\n",
    "Otro fenómeno importante que se deriva de los datos mutables está relacionado con el uso de argumentos mutables al invocar una función. Si se recuerda que al pasarle los argumentos a una función lo que se está haciendo es una operación de asignación, se puede entonces ver que esta tendrá implicaciones diferentes cuando el argumento es mutable. Cuando el argumento es inmutable, la variable local (el parámetro) que recibe el argumento simplemente se comportará como una copia del mismo y no será posible modificar la variable que se usó como argumento.\n",
    "\n",
    "El siguiente código muestra dos casos en los que se invocan funciones con argumentos mutables e inmutables para comparar sus efectos. En el caso 1, el argumento es una cadena (inmutable) y a pesar de que en la función la variable local `val` es modificada, la variable global `x` permanece igual ya que es inmutable. En el caso 2, el argumento es una lista (mutable) que al ser modificada dentro de la función `func2()` se modificará también el valor de `x`, ya que son la misma lista."
   ]
  },
  {
   "cell_type": "code",
   "execution_count": null,
   "metadata": {
    "colab": {},
    "colab_type": "code",
    "id": "CX9Y2NomIanX",
    "outputId": "e11e758e-913c-4137-966c-44eadaf947ca"
   },
   "outputs": [],
   "source": [
    "# Caso 1: cambio en argumento de dato inmutable NO cambia original\n",
    "def func(val):\n",
    "    print(val) # Guido\n",
    "    val += ' van Rossum'\n",
    "    print(val) # Guido van Rossum\n",
    "\n",
    "x = 'Guido'\n",
    "print(x) # Guido\n",
    "func(x)\n",
    "print(x) # Guido\n",
    "\n",
    "# Caso 2: cambio en argumento de dato mutable SÍ cambia original\n",
    "def func2(val):\n",
    "    print(val) # [1, 2, 3]\n",
    "    val.extend([4, 5])\n",
    "    print(val) # [1, 2, 3, 4, 5]\n",
    "\n",
    "x = [1, 2, 3]\n",
    "print(x) # [1, 2, 3]\n",
    "func2(x)\n",
    "print(x) # [1, 2, 3, 4, 5]"
   ]
  },
  {
   "cell_type": "markdown",
   "metadata": {
    "colab_type": "text",
    "id": "Ri4gRAsLIana"
   },
   "source": [
    "<a id='sec5.3.2'></a>\n",
    "### 5.3.2 Cadenas vs. tuplas vs. listas\n",
    "\n",
    "Ya se han estudiado las cadenas, las tuplas y las listas, y se puede decir que comparten una característica común que las diferencia de los enteros, los reales y los booleanos. Dicha característica es que son arreglos de datos a los que se puede acceder elemento por elemento con primitivas del lenguaje.\n",
    "\n",
    "La Figura 3 resume algunas de las principales operaciones que se pueden hacer de manera idéntica con cadenas, tuplas o listas."
   ]
  },
  {
   "cell_type": "markdown",
   "metadata": {
    "colab_type": "text",
    "id": "6A-PyFBJIanb"
   },
   "source": [
    "<img src=\"images/Inf1-u5-fig-3.png\" alt=\"Operaciones con listas\" width=\"500\"/>\n",
    "\n",
    "                                 Fig. 3. Algunas operaciones comunes a cadenas, tuplas y listas"
   ]
  },
  {
   "cell_type": "markdown",
   "metadata": {
    "colab_type": "text",
    "id": "wRRy9H7dIanc"
   },
   "source": [
    "Por otra parte, la Figura 4 permite comparar las diferencias básicas entre estos tipos de datos. Como se ve, la única diferencia entre las tuplas y las listas es la mutabilidad. Las tuplas son útiles cuando los datos a almacenar en un arreglo no van a cambiar. Al guardarlos en una tupla, el programador se está protegiendo contra posibles modificaciones accidentales. Además, se puede decir que en términos generales, el acceso a datos almacenados en tuplas es más rápido que el acceso a las listas."
   ]
  },
  {
   "cell_type": "markdown",
   "metadata": {
    "colab_type": "text",
    "id": "aLU2TmbNIand"
   },
   "source": [
    "<img src=\"images/Inf1-u5-fig-4.png\" alt=\"Diferencias básicas\" width=\"700\"/>\n",
    "\n",
    "                                Fig. 4. Diferencias básicas entre cadenas, tuplas y listas"
   ]
  },
  {
   "cell_type": "markdown",
   "metadata": {
    "colab_type": "text",
    "id": "GkP0QB5rIani"
   },
   "source": [
    "Finalmente, la Figura 5 resalta las ventajas del tipo `str`. De las comparaciones anteriores podría parecer que las cadenas de caracteres no tienen ventajas sobre las tuplas y las listas. Sin embargo, debido a que con mucha frecuencia los programadores necesitan construir algoritmos y programas que procesen información en forma de texto, el tipo `str` ofrece una serie de funciones que permiten ejecutar operaciones comunes con cadenas de texto."
   ]
  },
  {
   "cell_type": "markdown",
   "metadata": {
    "colab_type": "text",
    "id": "4SlB2ENdIanj"
   },
   "source": [
    "<img src=\"images/Inf1-u5-fig-5.png\" alt=\"Métodos asociados a str\" width=\"700\"/>\n",
    "\n",
    "                                                 Fig. 5. Ventajas del tipo `str`"
   ]
  },
  {
   "cell_type": "markdown",
   "metadata": {
    "colab_type": "text",
    "id": "AjQ9DfzdIank"
   },
   "source": [
    "<a id='sec5.4'></a>\n",
    "## 5.4 Diccionarios\n",
    "Los diccionarios (`dict`) son un tipo de dato arreglo mutable que, al igual que las listas, permite combinar elementos de diferentes tipos. La diferencia de los diccionarios está en la manera como se accede a los elementos que lo componen. En lugar de indexar con un número entero que representa el lugar del elemento en el arreglo (como se hace en las listas), en los diccionarios, a cada elemento se le asigna una etiqueta que puede ser cualquier dato inmutable, tal como un `int` o un `str`. A estas etiquetas que identifican los elementos del diccionario se les llama **claves** y a los elementos **valores**. Cada elemento de un diccionario está entonces conformado por una pareja clave-valor (key-value en inglés)."
   ]
  },
  {
   "cell_type": "markdown",
   "metadata": {
    "colab_type": "text",
    "id": "B1TeCerbIank"
   },
   "source": [
    "<img src=\"images/Inf1-u5-fig-6.png\" alt=\"Diccionario vs lista\" width=\"700\"/>\n",
    "\n",
    "                                        Fig. 6. Diferencias entre un diccionario y una lista"
   ]
  },
  {
   "cell_type": "markdown",
   "metadata": {
    "colab_type": "text",
    "id": "2UytVIBFIanl"
   },
   "source": [
    "La Figura 6 ilustra las diferencias que hay entre un diccionario y una lista. En el ejemplo mostrado de la lista, cada elemento que es un `str` con el nombre de una persona. Cada uno de esos elementos tienen una posición en la lista, un orden. El primer elemento es `\"Andrés Caro\"`, el segundo `\"Julia Mora\"` y así. Si se quiere acceder al elemento `\"Julia Mora\"` hay que indexar la lista indicando el índice `[2]`. En el diccionario, para acceder a `\"Julia Mora\"` se debe especificar su clave (no existe índice) que en este caso es `[1456132187]`. Por su puesto, la clave debe ser única en el diccionario, de lo contrario, al especificar una clave se estaría accediendo dos valores diferentes. En el ejemplo mostrado, se puede pensar que la clave es la cédula de la persona."
   ]
  },
  {
   "cell_type": "markdown",
   "metadata": {
    "colab_type": "text",
    "id": "cHZiuOeBIanm"
   },
   "source": [
    "El siguiente código muestra ejemplos de la sintaxis de los diccionarios. La línea 1 muestra cómo se puede asignar un diccionario literal a una variable. Se utilizan entonces las llaves `{}` y cada elemento debe estar compuesto por una pareja clave-valor separada por dos puntos `:`. Los elementos de un diccionario se separan por comas `,`, al igual que en listas y tuplas. Para acceder a los elementos de un diccionario se utilizan corchetes `[]`, al igual que en todos los tipos de arreglo, pero en lugar de poner un índice (número entero) entre los corchetes, se debe poner una clave.\n",
    "\n",
    "En el ejemplo mostrado se crea un diccionario para relacionar los meses con la cantidad de días que tienen. El nombre de cada mes es la clave y los días el valor. No podría ser al contrario ya que hay varios meses que tienen 31 días."
   ]
  },
  {
   "cell_type": "code",
   "execution_count": null,
   "metadata": {
    "colab": {},
    "colab_type": "code",
    "id": "fwgnIPG6Iant"
   },
   "outputs": [],
   "source": [
    "monthsdays = {'enero':31, 'febrero':28, 'marzo':31, 'abril':30, 'mayo':31} \n",
    "print(monthsdays['febrero']) \n",
    "print(monthsdays['abril']) \n",
    "m = input('Ingrese un mes: ') \n",
    "print('El mes', m.title())\n",
    "print( 'tiene', monthsdays[m.lower()], 'días')"
   ]
  },
  {
   "cell_type": "markdown",
   "metadata": {
    "colab_type": "text",
    "id": "QfzNUmcsIany"
   },
   "source": [
    "En el siguiente código se muestra cómo se puede iterar sobre un diccionario al igual que con cualquier otro arreglo. En este caso, es importante aclarar que en la variable `e` va a almacenarse una clave en cada iteración, más no los valores. En otras palabras, al iterar sobre un diccionario lo que se hace es acceder a sus claves y si se quiere acceder a los valores correspondientes, es necesario hacerlo explícitamente con los corchetes como se muestra en el ejemplo."
   ]
  },
  {
   "cell_type": "code",
   "execution_count": null,
   "metadata": {
    "colab": {},
    "colab_type": "code",
    "id": "OKakEA0aIanz"
   },
   "outputs": [],
   "source": [
    "monthsdays = {'enero':31, 'febrero':28, 'marzo':31, 'abril':30} \n",
    "for e in monthsdays: \n",
    "    print(e, monthsdays[e])"
   ]
  },
  {
   "cell_type": "markdown",
   "metadata": {
    "colab_type": "text",
    "id": "6Lb_cNrQIan1"
   },
   "source": [
    "<a id='sec5.4.1'></a>\n",
    "### 5.4.1 Operaciones con diccionarios\n",
    "\n",
    "La Figura 7 muestra algunas de las operaciones más comunes con diccionarios. Nótese que el operador `in` actúa sobre las claves y no sobre los valores, tanto en los `if` como en los `for`. También es importante resaltar que para crear un nuevo elemento en un diccionario no existe una función como `append()` en las listas. Simplemente basta con asignarle un valor a una clave. Si la clave ya existe, se convierte en una operación de modificación del valor de dicha clave. Si la clave no existe, entonces crea un nuevo elemento con la pareja clave-valor especificada, como se muestra en la tabla."
   ]
  },
  {
   "cell_type": "markdown",
   "metadata": {
    "colab_type": "text",
    "id": "u4qj7bezIan2"
   },
   "source": [
    "<img src=\"images/Inf1-u5-fig-7.png\" alt=\"Operaciones con diccionarios\" width=\"600\"/>\n",
    "\n",
    "                                            Fig. 7. Operaciones comunes con diccionarios"
   ]
  },
  {
   "cell_type": "code",
   "execution_count": null,
   "metadata": {},
   "outputs": [],
   "source": [
    "demo = {}   # diccionario vacío\n",
    "country = input('Ingrese el nombre de un país o x para salir: ')\n",
    "while country!='x':\n",
    "    area = int(input('Área: '))\n",
    "    hab = int(input('Habitantes: '))\n",
    "    demo[country] = [area, hab]   # crear una pareja clave:valor\n",
    "    country = input('Ingrese el nombre de un país o x para salir: ')\n",
    "    \n",
    "print(demo)\n",
    "\n",
    "c = input('Ingrese el nombre de un país: ')\n",
    "h = int(input('Población según último censo: '))\n",
    "if c in demo:\n",
    "    demo[c][1] = h   #modificar los datos asociados a una clave\n",
    "else:\n",
    "    print('Error: ', c, 'no existe en la base de datos')\n",
    "print(demo)"
   ]
  },
  {
   "cell_type": "markdown",
   "metadata": {
    "colab_type": "text",
    "id": "0vLwXWmVIan3"
   },
   "source": [
    "#### Nota: las figuras y fragmentos de código presentados en esta Unidad son de autoría del profesor Sebastián Isaza Ramírez."
   ]
  }
 ],
 "metadata": {
  "colab": {
   "collapsed_sections": [],
   "name": "Unidad5.ipynb",
   "provenance": [],
   "version": "0.3.2"
  },
  "kernelspec": {
   "display_name": "Python 3",
   "language": "python",
   "name": "python3"
  },
  "language_info": {
   "codemirror_mode": {
    "name": "ipython",
    "version": 3
   },
   "file_extension": ".py",
   "mimetype": "text/x-python",
   "name": "python",
   "nbconvert_exporter": "python",
   "pygments_lexer": "ipython3",
   "version": "3.7.3"
  }
 },
 "nbformat": 4,
 "nbformat_minor": 1
}
