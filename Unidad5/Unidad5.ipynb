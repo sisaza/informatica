{
 "cells": [
  {
   "cell_type": "markdown",
   "metadata": {},
   "source": [
    "# Unidad 5: Tipos de datos estructurados\n",
    "Hasta ahora hemos trabajado con 4 tipos de datos: `int`, `float`, `bool` y `string`. La Figura 5.1 muestra ejemplo de esos datos y su descripción. El tipo `string` tiene un propiedad especial que lo diferencia de los otros: es un tipo *arreglo*. En otra palabras, es un tipo de dato que se compone de varios elementos a los que el lenguaje Python permite acceder mediante la primitiva de la indexación `[]`. Aunque con los `string` se tiene la gran ventaja de poder almacenar arreglos de cualquier tamaño, también existe una gran limitación: los elementos de un `string` solo pueden ser caracteres."
   ]
  },
  {
   "cell_type": "markdown",
   "metadata": {},
   "source": [
    "**Figura 5.1**\n",
    "\n",
    "![tiposdatos](images/tiposdatos.png)"
   ]
  },
  {
   "cell_type": "markdown",
   "metadata": {},
   "source": [
    "Si en un programa necesitamos crear un arreglo de números enteros o reales, o quizas un arreglo mixto donde algunos elementos sean números y otros booleanos o cadenas, debemos utilizar otros tipos de datos del lenguaje.\n",
    "\n",
    "En este capítulo veremos tres tipos de datos adicionales que nos permiten crear arreglos de características mucho más flexibles que los `string`. Estos son las **tuplas**, las **listas** y los **diccionarios**."
   ]
  },
  {
   "cell_type": "markdown",
   "metadata": {},
   "source": [
    "[5.1 Tuplas](#sec5.1)\n",
    "\n",
    "[5.2 Listas](#sec5.2)\n",
    "\n",
    "[5.3 Mutabilidad](#sec5.3)\n",
    "\n",
    "[5.4 Diccionarios](#sec5.4)"
   ]
  },
  {
   "cell_type": "markdown",
   "metadata": {},
   "source": [
    "<a id='sec5.1'></a>\n",
    "## 4.1 Tuplas\n",
    "Las tuplas (tuples en inglés) son arreglos de elementos, al igual que los strings, pero en los que puedo combinar cualquier tipo de dato entre los diferentes elementos del arreglo."
   ]
  },
  {
   "cell_type": "code",
   "execution_count": null,
   "metadata": {},
   "outputs": [],
   "source": [
    "t1 = (5.24,) # tupla de un solo elemento\n",
    "t2 = (3.67, 'hola', 4, True)\n",
    "t3 = (t2, 4, False) # tupla como elemento de otra tupla\n",
    "t4 = t3 + t2 # concatenación\n",
    "print(t4)\n",
    "print(t4[2]) # indexación\n",
    "print(t4[0])\n",
    "print(t4[2:4]) # segmentación"
   ]
  },
  {
   "cell_type": "markdown",
   "metadata": {},
   "source": [
    "Como se ve en el código mostrado, en lugar de utilizar comillas (como en las cadenas), para especificar un valor literal de una tupla se utilizan los paréntesis (ver líneas 1, 2 y 3 del ejemplo). Note que para crear el literal de una tupla con un solo elemento es necesario poner una coma luego del elemento."
   ]
  },
  {
   "cell_type": "code",
   "execution_count": null,
   "metadata": {},
   "outputs": [],
   "source": [
    "def find_divs(n1, n2): \n",
    "    '''Asume que n1 y n2 son enteros positivos,\n",
    "    retorna una tupla con todos los divisores comunes de n1 y n2''' \n",
    "    divisors = () #tupla vacía \n",
    "    for i in range(1, min(n1,n2)+1): \n",
    "        if n1%i == 0 and n2%i == 0: \n",
    "            divisors = divisors + (i,)\n",
    "    return divisors\n",
    "\n",
    "divs = find_divs(20, 100)\n",
    "print(divs)\n",
    "total = 0\n",
    "\n",
    "for d in divs:\n",
    "    total += d\n",
    "\n",
    "print('La suma de los divisores es: ', total)"
   ]
  },
  {
   "cell_type": "markdown",
   "metadata": {},
   "source": [
    "### Ejercicio 5.1\n",
    "Hacer una función que reciba una tupla y retorne otra tupla solo con la mitad de los elementos alternados: uno sí uno no. Hacer una versión con ciclo for y otra con ciclo while."
   ]
  },
  {
   "cell_type": "code",
   "execution_count": null,
   "metadata": {},
   "outputs": [],
   "source": [
    "# solución..."
   ]
  },
  {
   "cell_type": "markdown",
   "metadata": {},
   "source": [
    "<a id='sec5.2'></a>\n",
    "## 4.2 Listas\n",
    "Las listas, al igual que las tuplas, son un tipo con el que podemos crear arreglos cuyos elementos pueden ser de cualquier tipo. Sin embargo, las listas tienen una importante característica que las diferencia de las tuplas de las cadenas: son objetos de datos mutables. En la próxima sección estudiaremos la mutabilidad y sus implicaciones pero por el momento podemos decir que con las listas es posible indexar un elemento y modificarlo directamente, como se ve en la línea 6 del siguiente código:"
   ]
  },
  {
   "cell_type": "code",
   "execution_count": null,
   "metadata": {},
   "outputs": [],
   "source": [
    "list1 = [9] \n",
    "list2 = [4, 'free', 8.4] \n",
    "list3 = [list2, True] \n",
    "list4 = list3 + [4, -7.8] \n",
    "print(list4) \n",
    "list2[1] = 6.34 # indexación de un elemento para modificar su valor\n",
    "print(list4[2]) \n",
    "print(list4[0]) \n",
    "print(list4[2:4])"
   ]
  },
  {
   "cell_type": "markdown",
   "metadata": {},
   "source": [
    "Si se intenta modificar un elemento de un `string` o un `tuple` como se muestra en el código anterior, el programa se detendrá con un error pues esta no es una operación permitida para esos tipos de datos. Para las listas sí."
   ]
  },
  {
   "cell_type": "markdown",
   "metadata": {},
   "source": [
    "El siguiente código muestra un intento incorrecto de modificar un elemento de una tupla y una cadena en las líneas 5 y 6. Al borrar o comentar estas líneas de código se podrá ejecutar para probar la segunda parte que muestra la forma correcta. En ese caso, estrictamente hablando, no podemos decir que estamos *modificando* las variables `tup` y `name`, si no que estamos construyendo una nueva tupla y cadena en otro lugar de la memoria a las cuales les daremos el mismo nombre que tenían las originales. En otras palabras, estamos asignando las nuevas tupla y cadena a los mismos nombre de variables. En el caso de las listas, estamos modificando directamente el arreglo de datos original."
   ]
  },
  {
   "cell_type": "code",
   "execution_count": null,
   "metadata": {},
   "outputs": [],
   "source": [
    "tup = (4, 'free', 8.4)\n",
    "name = 'Fernando'\n",
    "\n",
    "# intento incorrecto de modificación de una tupla y una cadena\n",
    "tup[1] = 'locked'\n",
    "name[4] = '-'\n",
    "\n",
    "# forma correcta\n",
    "tup = tup[0:2] + (7,)\n",
    "name = name[:4] + '-' + name[5:]\n",
    "print(tup, name)"
   ]
  },
  {
   "cell_type": "markdown",
   "metadata": {},
   "source": [
    "Las listas en Python vienen acompañadas de un conjunto de métodos para procesarlas. La Figura 5.2 muestra algunos de los principales métodos, donde los únicos que no modifican la lista son `count()` e `index()`. La utlización de cualquiera de los métodos restantes implica una modificación directa en la lista y por lo tanto, son métodos que no está disponibles para tuplas o cadenas."
   ]
  },
  {
   "cell_type": "markdown",
   "metadata": {},
   "source": [
    "**Figura 5.2**\n",
    "\n",
    "![listmet](images/listmet.png)"
   ]
  },
  {
   "cell_type": "markdown",
   "metadata": {},
   "source": [
    "### Ejercicio 5.2\n",
    "Hacer una función que reciba una lista para almacenar las notas de un curso. La función debe ofrecer un menú así: 1. Agregar nota 2. Borrar la nota más baja 3. Borrar la nota más alta 4. Mostrar el promedio 5. Mostrar la mediana. 6. Mostrar la nota más común."
   ]
  },
  {
   "cell_type": "code",
   "execution_count": null,
   "metadata": {},
   "outputs": [],
   "source": [
    "# solución..."
   ]
  },
  {
   "cell_type": "markdown",
   "metadata": {},
   "source": [
    "<a id='sec5.3'></a>\n",
    "## 5.3 Mutabilidad\n",
    "La mutabilidad es la propiedad de un objeto de datos de Python de ser modificado. Recordemos que una cosa es el objeto de datos y otra cosa son los nombres o identificadores que damos a esos datos. Todos los nombres pueden cambiar, es decir, siempre puedo asociar un nombre de una variable a otro objeto de datos al que estaba asociado previamente. El nuevo objeto de datos puede ser del mismo tipo o de otro. Incluso, un nombre que en un momento estaba asociado a un entero, por ejemplo, podría luego asociarse a una función, como se muestra en el siguiente código."
   ]
  },
  {
   "cell_type": "code",
   "execution_count": null,
   "metadata": {},
   "outputs": [],
   "source": [
    "def f(x):\n",
    "    x = x + 1\n",
    "    return x\n",
    "\n",
    "k = 9 # el nombre de variable k se asocia a un dato int\n",
    "k = f # el nombre k ahora se asocia a la función f\n",
    "h = k(6) # se invoca la función k(), que es la misma que f()\n",
    "print(h)"
   ]
  },
  {
   "cell_type": "markdown",
   "metadata": {},
   "source": [
    "De otra parte, los datos que se asocian a los nombres, pueden ser mutables o inmutables. Los int, float, bool, str y tuple son todos datos inmutables. Los datos tipo list, en cambio, son mutables. Pueden modificarse directamente como se vio en la sección anterior."
   ]
  },
  {
   "cell_type": "markdown",
   "metadata": {},
   "source": [
    "### Clonación y aliasing\n",
    "La clonación es una operación en la que se crea una copia de un objeto de datos mutable. Usando la primitiva de segmentación o la función built-in `list()`, podemos tomar todos los elementos de una lista para crear una copia, así:"
   ]
  },
  {
   "cell_type": "code",
   "execution_count": 22,
   "metadata": {},
   "outputs": [
    {
     "name": "stdout",
     "output_type": "stream",
     "text": [
      "[11, 13, 17, 19] [11, 13, 0, 19]\n",
      "[11, 13, 17, 19] [11, 13, 2, 19]\n"
     ]
    }
   ],
   "source": [
    "li = [11, 13, 17, 19]\n",
    "\n",
    "licop1 = li[:] # clonación con segmentación\n",
    "licop1[2] = 0\n",
    "print(li, licop1)\n",
    "\n",
    "licop2 = list(li) # clonación con función list()\n",
    "licop2[2] = 2\n",
    "print(li, licop2)"
   ]
  },
  {
   "cell_type": "markdown",
   "metadata": {},
   "source": [
    "Si en el código anterior escribiéramos en cambio `licop = li`, estaríamos asociando el nombre `licop` al mismo objeto de datos que está asociado `li`, no a una copia suya. Aunque esta diferencia puede parecer menor, en realidad tiene una implicación muy importante que se conoce como el efecto **aliasing**. Éste se da cuando dos nombres están asociados con un mismo objeto de datos mutable. Cuando esto sucede, es posible modificar el objeto de datos a través de cualquier de los dos nombres (variables)."
   ]
  },
  {
   "cell_type": "markdown",
   "metadata": {},
   "source": [
    "En el siguiente código los casos 1 y 2 muestran la diferencia en la implicación que tiene la instrucción `y = x` cuando el dato asociado a `x` es inmutable (caso 1) y mutable (caso 2). En el caso 1, la instrucción de la línea 5 hace que el nombre `y` se asocie a un nuevo objeto de datos creado a partir de una copia de `'Guido'` que se concatena con la cadena `' van Rossum'`. Al imprimir los datos asociados a `x` y `y` en la línea 6, se demuestra que son diferentes. En caso 2 se asocia a `x` un dato mutable (una lista) por lo que la instrucción de la línea 12, que modifica la lista asociada a `y`, también modifica a `x`, dado que son en realidad la misma lista. Al imprimir los datos asociados a `x` y `y` en la línea 13, se demuestra que son iguales, a diferencia del caso 1."
   ]
  },
  {
   "cell_type": "code",
   "execution_count": null,
   "metadata": {},
   "outputs": [],
   "source": [
    "# Caso 1: cambio en copia de dato inmutable NO cambia original\n",
    "x = 'Guido'\n",
    "y = x\n",
    "print(x, y) # Guido Guido\n",
    "y += ' van Rossum'\n",
    "print(x, y) # Guido Guido van Rossum\n",
    "\n",
    "# Caso 2: cambio en alias de dato inmutable SÍ cambia original\n",
    "x = [1, 2, 3]\n",
    "y = x\n",
    "print(x, y) # [1, 2, 3] [1, 2, 3]\n",
    "y.extend([4, 5])\n",
    "print(x, y) # [1, 2, 3, 4, 5] [1, 2, 3, 4, 5]"
   ]
  },
  {
   "cell_type": "markdown",
   "metadata": {},
   "source": [
    "#### Tipos mutables como argumentos de funciones\n",
    "Otro fenómeno importante que se deriva de los datos mutables está relacionado con el uso de argumentos mutables al invocar una función. Si se recuerda que al pasarle los argumentos a una función lo que se esta haciendo es una operación de asignación, podemos entonces ver que esa asignación tendrá implicaciones diferentes cuando el argumento es mutable. Cuando el argumento es inmutable, la variable local (el parámetro) que recibe el argumento simplemente se compartará como una copia del mismo y no será posible modificar la variable que se usó como argumento.\n",
    "\n",
    "El siguiente código muestra dos caso en los que se invocan funciones con argumentos mutables e inmutables para comparar sus efectos. En el caso 1, el argumento es una cadena (inmutable) y a pesar de que en la función la variable local `val` es modificada, la variable global `x` permance igual ya que es inmutable. En el caso 2, el argumento es una lista (mutable) que al ser modificada dentro de la función `func2()` se modificará también el valor de `x`, ya que son la misma lista."
   ]
  },
  {
   "cell_type": "code",
   "execution_count": null,
   "metadata": {},
   "outputs": [],
   "source": [
    "# Caso 1: cambio en argumento de dato inmutable NO cambia original\n",
    "def func(val):\n",
    "    print(val) # Guido\n",
    "    val += ' van Rossum'\n",
    "    print(val) # Guido van Rossum\n",
    "\n",
    "x = 'Guido'\n",
    "print(x) # Guido\n",
    "func(x)\n",
    "print(x) # Guido\n",
    "\n",
    "# Caso 2: cambio en argumento de dato mutable SÍ cambia original\n",
    "def func2(val):\n",
    "    print(val) # [1, 2, 3]\n",
    "    val.extend([4, 5])\n",
    "    print(val) # [1, 2, 3, 4, 5]\n",
    "\n",
    "x = [1, 2, 3]\n",
    "print(x) # [1, 2, 3]\n",
    "func2(x)\n",
    "print(x) # [1, 2, 3, 4, 5]"
   ]
  },
  {
   "cell_type": "markdown",
   "metadata": {},
   "source": [
    "<a id='sec5.4'></a>\n",
    "## 5.4. Diccionarios\n",
    "..."
   ]
  }
 ],
 "metadata": {
  "kernelspec": {
   "display_name": "Python 3",
   "language": "python",
   "name": "python3"
  },
  "language_info": {
   "codemirror_mode": {
    "name": "ipython",
    "version": 3
   },
   "file_extension": ".py",
   "mimetype": "text/x-python",
   "name": "python",
   "nbconvert_exporter": "python",
   "pygments_lexer": "ipython3",
   "version": "3.6.4"
  }
 },
 "nbformat": 4,
 "nbformat_minor": 2
}
