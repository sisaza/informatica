{
 "cells": [
  {
   "cell_type": "markdown",
   "metadata": {},
   "source": [
    "# Unidad 5: Tipos de datos estructurados\n",
    "Hasta ahora hemos trabajado con 4 tipos de datos: `int`, `float`, `bool` y `string`. La Figura 5.1 muestra ejemplo de esos datos y su descripción. El tipo `string` tiene un propiedad especial que lo diferencia de los otros: es un tipo *arreglo*. En otra palabras, es un tipo de dato que se compone de varios elementos a los que el lenguaje Python permite acceder mediante la primitiva de la indexación `[]`. Aunque con los `string` se tiene la gran ventaja de poder almacenar arreglos de cualquier tamaño, también existe una gran limitación: los elementos de un `string` solo pueden ser caracteres."
   ]
  },
  {
   "cell_type": "markdown",
   "metadata": {},
   "source": [
    "**Figura 5.1**\n",
    "\n",
    "![tiposdatos](images/tiposdatos.png)"
   ]
  },
  {
   "cell_type": "markdown",
   "metadata": {},
   "source": [
    "Si en un programa necesitamos crear un arreglo de números enteros o reales, o quizas un arreglo mixto donde algunos elementos sean números y otros booleanos o cadenas, debemos utilizar otros tipos de datos del lenguaje.\n",
    "\n",
    "En este capítulo veremos tres tipos de datos adicionales que nos permiten crear arreglos de características mucho más flexibles que los `string`. Estos son las **tuplas**, las **listas** y los **diccionarios**."
   ]
  },
  {
   "cell_type": "markdown",
   "metadata": {},
   "source": [
    "[5.1 Tuplas](#sec5.1)\n",
    "\n",
    "[5.2 Listas](#sec5.2)\n",
    "\n",
    "[5.3 Mutabilidad](#sec5.3)\n",
    "\n",
    "[5.4 Diccionarios](#sec5.4)"
   ]
  },
  {
   "cell_type": "markdown",
   "metadata": {},
   "source": [
    "<a id='sec5.1'></a>\n",
    "## 4.1 Tuplas\n",
    "Las tuplas (tuples en inglés) son arreglos de elementos, al igual que los strings, pero en los que puedo combinar cualquier tipo de dato entre los diferentes elementos del arreglo."
   ]
  },
  {
   "cell_type": "code",
   "execution_count": null,
   "metadata": {},
   "outputs": [],
   "source": [
    "t1 = (5.24,) # tupla de un solo elemento\n",
    "t2 = (3.67, 'hola', 4, True)\n",
    "t3 = (t2, 4, False) # tupla como elemento de otra tupla\n",
    "t4 = t3 + t2 # concatenación\n",
    "print(t4)\n",
    "print(t4[2]) # indexación\n",
    "print(t4[0])\n",
    "print(t4[2:4]) # segmentación"
   ]
  },
  {
   "cell_type": "markdown",
   "metadata": {},
   "source": [
    "Como se ve en el código mostrado, en lugar de utilizar comillas (como en las cadenas), para especificar un valor literal de una tupla se utilizan los paréntesis (ver líneas 1, 2 y 3 del ejemplo). Note que para crear el literal de una tupla con un solo elemento es necesario poner una coma luego del elemento."
   ]
  },
  {
   "cell_type": "code",
   "execution_count": null,
   "metadata": {},
   "outputs": [],
   "source": [
    "def find_divs(n1, n2): \n",
    "    '''Asume que n1 y n2 son enteros positivos,\n",
    "    retorna una tupla con todos los divisores comunes de n1 y n2''' \n",
    "    divisors = () #tupla vacía \n",
    "    for i in range(1, min(n1,n2)+1): \n",
    "        if n1%i == 0 and n2%i == 0: \n",
    "            divisors = divisors + (i,)\n",
    "    return divisors\n",
    "\n",
    "divs = find_divs(20, 100)\n",
    "print(divs)\n",
    "total = 0\n",
    "\n",
    "for d in divs:\n",
    "    total += d\n",
    "\n",
    "print('La suma de los divisores es: ', total)"
   ]
  },
  {
   "cell_type": "markdown",
   "metadata": {},
   "source": [
    "<a id='sec5.2'></a>\n",
    "## 4.2 Listas\n",
    "Las listas, al igual que las tuplas, son un tipo con el que podemos crear arreglos cuyos elementos pueden ser de cualquier tipo. Sin embargo, las listas tienen una importante característica que las diferencia de las tuplas de las cadenas: son objetos de datos mutables. En la próxima sección estudiaremos la mutabilidad y sus implicaciones pero por el momento podemos decir que con las listas es posible indexar un elemento y modificarlo directamente, como se ve en la línea 6 del siguiente código:"
   ]
  },
  {
   "cell_type": "code",
   "execution_count": null,
   "metadata": {},
   "outputs": [],
   "source": [
    "list1 = [9] \n",
    "list2 = [4, 'free', 8.4] \n",
    "list3 = [list2, True] \n",
    "list4 = list3 + [4, -7.8] \n",
    "print(list4) \n",
    "list2[1] = 6.34 # indexación de un elemento para modificar su valor\n",
    "print(list4[2]) \n",
    "print(list4[0]) \n",
    "print(list4[2:4])"
   ]
  },
  {
   "cell_type": "markdown",
   "metadata": {},
   "source": [
    "Si se intenta modificar un elemento de un `string` o un `tuple` como se muestra en el código anterior, el programa se detendrá con un error pues esta no es una operación permitida para esos tipos de datos. Para las listas sí."
   ]
  },
  {
   "cell_type": "markdown",
   "metadata": {},
   "source": [
    "El siguiente código muestra un intento incorrecto de modificar un elemento de una tupla y una cadena en las líneas 5 y 6. Al borrar o comentar estas líneas de código se podrá ejecutar para probar la segunda parte que muestra la forma correcta. En ese caso, estrictamente hablando, no podemos decir que estamos *modificando* las variables `tup` y `name`, si no que estamos construyendo una nueva tupla y cadena en otro lugar de la memoria a las cuales les daremos el mismo nombre que tenían las originales. En otras palabras, estamos asignando las nuevas tupla y cadena a los mismos nombre de variables. En el caso de las listas, estamos modificando directamente el arreglo de datos original."
   ]
  },
  {
   "cell_type": "code",
   "execution_count": null,
   "metadata": {},
   "outputs": [],
   "source": [
    "tup = (4, 'free', 8.4)\n",
    "name = 'Fernando'\n",
    "\n",
    "# intento incorrecto de modificación de una tupla y una cadena\n",
    "tup[1] = 'locked'\n",
    "name[4] = '-'\n",
    "\n",
    "# forma correcta\n",
    "tup = tup[0:2] + (7,)\n",
    "name = name[:4] + '-' + name[5:]\n",
    "print(tup, name)"
   ]
  },
  {
   "cell_type": "markdown",
   "metadata": {},
   "source": [
    "Las listas en Python vienen acompañadas de un conjunto de métodos para procesarlas. La Figura 5.2 muestra algunos de los principales métodos, donde los únicos que no modifican la lista son `count()` e `index()`. La utlización de cualquiera de los métodos restantes implica una modificación directa en la lista y por lo tanto, son métodos que no está disponibles para tuplas o cadenas."
   ]
  },
  {
   "cell_type": "markdown",
   "metadata": {},
   "source": [
    "**Figura 5.2**\n",
    "\n",
    "![listmet](images/listmet.png)"
   ]
  },
  {
   "cell_type": "markdown",
   "metadata": {},
   "source": [
    "<a id='sec5.3'></a>\n",
    "## 5.3 Mutabilidad\n",
    "La mutabilidad es la propiedad de un objeto de datos de Python de ser modificado. Recordemos que una cosa es el objeto de datos y otra cosa son los nombres o identificadores que damos a esos datos. Todos los nombres pueden cambiar, es decir, siempre puedo asociar un nombre de una variable a otro objeto de datos al que estaba asociado previamente. El nuevo objeto de datos puede ser del mismo tipo o de otro. Incluso, un nombre que en un momento estaba asociado a un entero, por ejemplo, podría luego asociarse a una función, como se muestra en el siguiente código."
   ]
  },
  {
   "cell_type": "code",
   "execution_count": null,
   "metadata": {},
   "outputs": [],
   "source": [
    "def f(x):\n",
    "    x = x + 1\n",
    "    return x\n",
    "\n",
    "k = 9 # el nombre de variable k se asocia a un dato int\n",
    "k = f # el nombre k ahora se asocia a la función f\n",
    "h = k(6) # se invoca la función k(), que es la misma que f()\n",
    "print(h)"
   ]
  },
  {
   "cell_type": "markdown",
   "metadata": {},
   "source": [
    "De otra parte, los datos que se asocian a los nombres, pueden ser mutables o inmutables. Los `int`, `float`, `bool`, `str` y `tuple` son todos datos inmutables. Los datos tipo `list`, en cambio, son mutables. Pueden modificarse directamente como se vio en la sección anterior."
   ]
  },
  {
   "cell_type": "markdown",
   "metadata": {},
   "source": [
    "### Clonación y aliasing\n",
    "La clonación es una operación en la que se crea una copia de un objeto de datos mutable. Por ejemplo, usando la primitiva de segmentación o la función built-in `list()`, podemos tomar todos los elementos de una lista para crear una copia, así:"
   ]
  },
  {
   "cell_type": "code",
   "execution_count": null,
   "metadata": {},
   "outputs": [],
   "source": [
    "li = [11, 13, 17, 19]\n",
    "\n",
    "licop1 = li[:] # clonación con segmentación\n",
    "licop1[2] = 0\n",
    "print(li, licop1)\n",
    "\n",
    "licop2 = list(li) # clonación con función list()\n",
    "licop2[2] = 2\n",
    "print(li, licop2)"
   ]
  },
  {
   "cell_type": "markdown",
   "metadata": {},
   "source": [
    "Si en el código anterior escribiéramos en cambio `licop = li`, estaríamos asociando el nombre `licop` al mismo objeto de datos que está asociado `li`, no a una copia suya. Aunque esta diferencia puede parecer menor, en realidad tiene una implicación muy importante que se conoce como el efecto **aliasing**. Éste se da cuando dos nombres están asociados con un mismo objeto de datos mutable. Cuando esto sucede, es posible modificar el objeto de datos a través de cualquiera de los dos nombres (variables)."
   ]
  },
  {
   "cell_type": "markdown",
   "metadata": {},
   "source": [
    "En el siguiente código los casos 1 y 2 muestran la diferencia en la implicación que tiene la instrucción `y = x` cuando el dato asociado a `x` es inmutable (caso 1) y mutable (caso 2). En el caso 1, la instrucción de la línea 5 hace que el nombre `y` se asocie a un nuevo objeto de datos creado a partir de una copia de `'Guido'` que se concatena con la cadena `' van Rossum'`. Al imprimir los datos asociados a `x` y `y` en la línea 6, se demuestra que son diferentes. En el caso 2 se asocia a `x` un dato mutable (una lista) por lo que la instrucción de la línea 12, que modifica la lista asociada a `y`, también modifica a `x`, dado que son en realidad la misma lista. Al imprimir los datos asociados a `x` y `y` en la línea 13, se demuestra que son iguales, a diferencia del caso 1."
   ]
  },
  {
   "cell_type": "code",
   "execution_count": null,
   "metadata": {},
   "outputs": [],
   "source": [
    "# Caso 1: cambio en copia de dato inmutable NO cambia original\n",
    "x = 'Guido'\n",
    "y = x\n",
    "print(x, y) # Guido Guido\n",
    "y += ' van Rossum'\n",
    "print(x, y) # Guido Guido van Rossum\n",
    "\n",
    "# Caso 2: cambio en alias de dato inmutable SÍ cambia original\n",
    "x = [1, 2, 3]\n",
    "y = x\n",
    "print(x, y) # [1, 2, 3] [1, 2, 3]\n",
    "y.extend([4, 5])\n",
    "print(x, y) # [1, 2, 3, 4, 5] [1, 2, 3, 4, 5]"
   ]
  },
  {
   "cell_type": "markdown",
   "metadata": {},
   "source": [
    "#### Tipos mutables como argumentos de funciones\n",
    "Otro fenómeno importante que se deriva de los datos mutables está relacionado con el uso de argumentos mutables al invocar una función. Si se recuerda que al pasarle los argumentos a una función lo que se esta haciendo es una operación de asignación, podemos entonces ver que esa asignación tendrá implicaciones diferentes cuando el argumento es mutable. Cuando el argumento es inmutable, la variable local (el parámetro) que recibe el argumento simplemente se comportará como una copia del mismo y no será posible modificar la variable que se usó como argumento.\n",
    "\n",
    "El siguiente código muestra dos caso en los que se invocan funciones con argumentos mutables e inmutables para comparar sus efectos. En el caso 1, el argumento es una cadena (inmutable) y a pesar de que en la función la variable local `val` es modificada, la variable global `x` permance igual ya que es inmutable. En el caso 2, el argumento es una lista (mutable) que al ser modificada dentro de la función `func2()` se modificará también el valor de `x`, ya que son la misma lista."
   ]
  },
  {
   "cell_type": "code",
   "execution_count": null,
   "metadata": {},
   "outputs": [],
   "source": [
    "# Caso 1: cambio en argumento de dato inmutable NO cambia original\n",
    "def func(val):\n",
    "    print(val) # Guido\n",
    "    val += ' van Rossum'\n",
    "    print(val) # Guido van Rossum\n",
    "\n",
    "x = 'Guido'\n",
    "print(x) # Guido\n",
    "func(x)\n",
    "print(x) # Guido\n",
    "\n",
    "# Caso 2: cambio en argumento de dato mutable SÍ cambia original\n",
    "def func2(val):\n",
    "    print(val) # [1, 2, 3]\n",
    "    val.extend([4, 5])\n",
    "    print(val) # [1, 2, 3, 4, 5]\n",
    "\n",
    "x = [1, 2, 3]\n",
    "print(x) # [1, 2, 3]\n",
    "func2(x)\n",
    "print(x) # [1, 2, 3, 4, 5]"
   ]
  },
  {
   "cell_type": "markdown",
   "metadata": {},
   "source": [
    "### Cadenas vs. tuplas vs. listas\n",
    "Ya hemos estudiado las cadenas, las tuplas y las listas, y podemos decir que comparten una característica común que las diferencia de los enteros, los reales y los booleanos. Dicha característica es que son arreglos de datos a los que podemos acceder elemento por elemento con primitivas del lenguaje.\n",
    "\n",
    "La Figura 5.3 nos resume algunas de las principales operaciones que podemos hacer de manera idéntica con cadenas, tuplas o listas."
   ]
  },
  {
   "cell_type": "markdown",
   "metadata": {},
   "source": [
    "**Figura 5.3**\n",
    "\n",
    "![listmet](images/proparreglos.png)"
   ]
  },
  {
   "cell_type": "markdown",
   "metadata": {},
   "source": [
    "Por otra parte, la Figura 5.4 nos permite comparar las diferencias básicas entre estos tipos de datos. Como se ve, la única diferencia entre las tuplas y las listas es la mutabilidad. Las tuplas son útiles cuando los datos a almacenar en un arreglo no van a cambiar. Al guardarlos en una tupla, el programador se está protegiendo contra posibles modificaciones accidentales de los datos almacenados. Además, se puede decir que en términos generales, el acceso a datos alacenados en tuplas es más rápido que el acceso a las listas."
   ]
  },
  {
   "cell_type": "markdown",
   "metadata": {},
   "source": [
    "**Figura 5.4**\n",
    "\n",
    "![difsdatos](images/difsdatos.png)"
   ]
  },
  {
   "cell_type": "markdown",
   "metadata": {},
   "source": [
    "Finalmente, la Figura 5.5 resalta las ventajas del tipo `str`. De las comparaciones anteriores podrían parecer que las cadenas de caracteres no tienen ventajas sobre las tuplas y las listas. Sin embargo, debido a que con mucha frecuencia los programadores necesitan construir algoritmos y programas que procesen información en forma de texto, el tipo `str` ofrece una serie de funciones que permiten ejecutar operaciones comunes con cadenas de texto."
   ]
  },
  {
   "cell_type": "markdown",
   "metadata": {},
   "source": [
    "**Figura 5.5**\n",
    "\n",
    "![ventcadenas](images/ventcadenas.png)"
   ]
  },
  {
   "cell_type": "markdown",
   "metadata": {},
   "source": [
    "<a id='sec5.4'></a>\n",
    "## 5.4 Diccionarios\n",
    "Los diccionarios (`dict`) son un tipo de dato arreglo mutable que, al igual que las listas, permite combinar elementos de diferentes tipos. La diferencia de los diccionarios está en la manera como se accede a los elementos que lo componen. En lugar de indexar con un número entero que representa el lugar del elemento en el arreglo (comos e hace en las listas), en los diccionarios, a cada elemento se le asigna una etiqueta que puede ser cualquier dato inmutable, tal como un `int` o un `str`. A estas etiquetas que identifican los elementos del diccionario se les llama **claves** y a los elementos **valores**. Cada elemento de un diccionario está entonces conformado por una pareja clave-valor (key-value en inglés)."
   ]
  },
  {
   "cell_type": "markdown",
   "metadata": {},
   "source": [
    "**Figura 5.6**\n",
    "\n",
    "![listvsdict](images/listvsdict.png)"
   ]
  },
  {
   "cell_type": "markdown",
   "metadata": {},
   "source": [
    "La Figura 5.6 ilustra la diferencia que hay entre un diccionario y una lista. En el ejemplo mostrado de la lista, cada elemento que es un `str` con el nombre de una persona. Cada uno de ese elementos tiene una posición en la lista, un orden. El primer elemento es `\"Andrés Caro\"`, el segundo `\"Julia Mora\"` y así. Si se quiere acceder al elemento `\"Julia Mora\"` hay que indexar la lista indicando el índice `[2]`. En el diccionario, para acceder a `\"Julia Mora\"` debemos especificar su clave (no existe índice) que en este caso es `[1456132187]`. Por su puesto, la clave debe ser única en el diccionario, de lo contrario, al especificar una clave estaríamos accediendo dos valores diferentes. En el ejemplo mostrado, podemos pensar que la clave es la cédula de la persona."
   ]
  },
  {
   "cell_type": "markdown",
   "metadata": {},
   "source": [
    "El siguiente código muestra ejemplos de la sintáxis de los diccionarios. La línea 1 muestra cómo se puede asignar un diccionario literal a una variable. Se utilizan entonces las llaves `{}` y cada elemento debe estar compuesto por una pareja clave-valor separada por dos puntos `:`. Los varios elementos de un diccionario se separan por comas `,` al igual que en listas y tuplas. Para acceder a los elementos de un diccionario se utilizan corchetes `[]` al igual que en todos los tipos de arreglo pero en lugar de poner un índice (número entero) entre los corchetes, se debe poner una clave.\n",
    "\n",
    "En el ejemplo mostrado se crea un diccionario para relacionar los meses con la cantidad de días que tienen. El nombre de cada mes es la clave y los días el valor. No podría ser al contrario ya que hay varios meses que tienen 31 días."
   ]
  },
  {
   "cell_type": "code",
   "execution_count": null,
   "metadata": {},
   "outputs": [],
   "source": [
    "monthsdays = {'enero':31, 'febrero':28, 'marzo':31, 'abril':30, 'mayo':31} \n",
    "print(monthsdays['febrero']) \n",
    "print(monthsdays['abril']) \n",
    "m = input('Ingrese un mes: ') \n",
    "print('El mes', m.title())\n",
    "print( 'tiene', monthsdays[m.lower()], 'días')"
   ]
  },
  {
   "cell_type": "markdown",
   "metadata": {},
   "source": [
    "En el siguiente código se muestra cómo se puede iterar sobre un diccionario al igual que con cualquier otro arreglo. En este caso, es importante aclarar que en la variable `e` va a almacenarse una clave en cada iteración, más no los valores. En otras palabras, al iterar sobre un diccionario lo que se hace es acceder a sus claves y si se quiere acceder a los valores correspondientes, es necesario hacerlo explícitamente con los corchetes como se muestra en el ejemplo."
   ]
  },
  {
   "cell_type": "code",
   "execution_count": null,
   "metadata": {},
   "outputs": [],
   "source": [
    "monthsdays = {'enero':31, 'febrero':28, 'marzo':31, 'abril':30} \n",
    "for e in monthsdays: \n",
    "    print(e, monthsdays[e])"
   ]
  },
  {
   "cell_type": "markdown",
   "metadata": {},
   "source": [
    "## Operaciones con diccionarios\n",
    "La Figura 5.7 muestra algunas de las operaciones más comunes con diccionarios. Note que el operador `in` actúa sobre las claves y no sobre los valores, tanto en los `if` como en los `for`. También es importante resaltar que para crear un nuevo elemento en un diccionario no existe una función como `append()` en las listas. Simplemente basta con asignarle un valor a una clave. Si la clave ya existe, se convierte en una operación de modificación del valor de dicha clave. Si la clave no existe, entonces crea un nuevo elemento con la pareja clave-valor especificada, como se muestra en la tabla."
   ]
  },
  {
   "cell_type": "markdown",
   "metadata": {},
   "source": [
    "**Figura 5.7**\n",
    "\n",
    "![dictmeth](images/dictmeth.png)"
   ]
  }
 ],
 "metadata": {
  "kernelspec": {
   "display_name": "Python 3",
   "language": "python",
   "name": "python3"
  },
  "language_info": {
   "codemirror_mode": {
    "name": "ipython",
    "version": 3
   },
   "file_extension": ".py",
   "mimetype": "text/x-python",
   "name": "python",
   "nbconvert_exporter": "python",
   "pygments_lexer": "ipython3",
   "version": "3.6.4"
  }
 },
 "nbformat": 4,
 "nbformat_minor": 2
}
