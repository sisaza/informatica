{
 "cells": [
  {
   "cell_type": "markdown",
   "metadata": {},
   "source": [
    "# Unidad 3: Programas eficientes con Python\n",
    "\n",
    "Después de aprender los principales conceptos alrededor del hardware y el software, y de saber contruir algoritmos represetnados en diagramas de flujo, en esta unidad empezaremos, finalmente, a construir programas utilizando el lenguaje de programación Python. A la vez que vamos aprendiendo el lenguaje, invocaremos ejemplos de algoritmos que nos demostrarán la importancia de la eficiencia en la programación."
   ]
  },
  {
   "cell_type": "markdown",
   "metadata": {},
   "source": [
    "## Elementos básicos de Python"
   ]
  },
  {
   "cell_type": "markdown",
   "metadata": {},
   "source": [
    "### El lenguaje de programación Python\n",
    "Python es un lenguaje creado por el holandés [Guido van Rossum](https://en.wikipedia.org/wiki/Guido_van_Rossum) en 1991 pero que solo después del año 2000 se hizo popular. Es un lenguaje de programación de alto nivel que tiene entre sus principales características las siguientes:\n",
    "- Propósito general: puede ser utilizado para hacer programas en ámbitos muy diversos\n",
    "- Fácil lectura: el código fuente de un programa Python es fácil de entender\n",
    "- Interpretado: el lenguaje está diseñado para ser ejecutado a través de un intérprete\n",
    "\n",
    "Hoy en día, Python es considerado uno de los lenguajes más utilizados en todo el mundo ([IEEE](https://spectrum.ieee.org/computing/software/the-2017-top-programming-languages), [GitHub](https://octoverse.github.com/))."
   ]
  },
  {
   "cell_type": "markdown",
   "metadata": {},
   "source": [
    "### Ejecución de programas Python\n",
    "Un programa Python está compuesto por una secuencia de instrucciones que son ejecutadas por el intérprete. Existen dos modos de ejecución: interactiva y completa.\n",
    "#### Ejecución interactiva\n",
    "Se utiliza una terminal en la que se escribe y ejecuta una instrucción a la vez. Después de la ejecución de cada instrucción, en la terminal aparecen los resultados de se ejecución y ésta quedará lista para recibir una nueva instrucción. Este modo es utilizado por los programadores para probar el compartamiento de alguna instrucción antes de ser incorporada en un programa completo.\n",
    "#### Ejecución completa\n",
    "Se utiliza un editor de texto o un [IDE](https://en.wikipedia.org/wiki/Integrated_development_environment) para escribir el programa completo que luego será ejecutado al invocar el intérprete. Este es el modo que se utiliza para probar un programa completo y que le interesa al usuario final de un programa para se ejecución."
   ]
  },
  {
   "cell_type": "markdown",
   "metadata": {},
   "source": [
    "## AQUí FALTAN SECCIONES"
   ]
  },
  {
   "cell_type": "markdown",
   "metadata": {},
   "source": [
    "## La eficiencia de los algoritmos\n",
    "En esta sección vamos a seguir explorando aspectos del lenguaje Python pero nos concentraremos en estudiar la eficiencia de los algorithmos."
   ]
  },
  {
   "cell_type": "markdown",
   "metadata": {},
   "source": [
    "### Enumeración exhaustiva\n",
    "Considere el siguiente programa que calcula la raíz cúbica entera de un número, si la tiene:"
   ]
  },
  {
   "cell_type": "markdown",
   "metadata": {},
   "source": [
    "**Código 3.1**"
   ]
  },
  {
   "cell_type": "code",
   "execution_count": 4,
   "metadata": {},
   "outputs": [
    {
     "name": "stdout",
     "output_type": "stream",
     "text": [
      "Enter an integer number: 125\n",
      "Cube root of 125 is 5\n"
     ]
    }
   ],
   "source": [
    "n = int(input('Enter an integer number: ')) \n",
    "cube = 0\n",
    "while cube**3 < abs(n): \n",
    "    cube = cube + 1\n",
    "\n",
    "if cube**3 != abs(n): \n",
    "    print(n, 'is not a perfect cube') \n",
    "else: \n",
    "    if n < 0: \n",
    "        cube = -cube \n",
    "    print('Cube root of', n, 'is', cube)"
   ]
  },
  {
   "cell_type": "markdown",
   "metadata": {},
   "source": [
    "***Nota Python***\n",
    "\n",
    "- El ejemplo anterior se utiliza la función `abs()` de Python para calcular el *valor absoluto* de un número. De esta manera, el algoritmo mostrado funciona tanto para números positivos como negativos.\n",
    "- Pruebe borrar la segunda línea del ejemplo anterior y ejecutar el código. El intérprete dentendrá la ejecución y mostrará un error debido a que la expresión `cube**3` requiere que la variable `cube` ya tenga un valor."
   ]
  },
  {
   "cell_type": "markdown",
   "metadata": {},
   "source": [
    "Este algoritmo utiliza una estrategia muy simple para encontrar la raíz: probar cada número entero empezando por el cero hasta encontrar la raíz o superar el valor límite. A esta estrategia se le llama *enumeración exhaustiva* ya que se prueban *todas* las posibles soluciones hasta encontrarla. A este tipo de algoritmos se les conoce como de *fuerza bruta* en comparación a otras soluciones más elaboradas que resultan en algoritmos más eficientes."
   ]
  },
  {
   "cell_type": "markdown",
   "metadata": {},
   "source": [
    "Para entender mejor el comportamiento de un algoritmo que contiene un ciclo como este, podemos imprimir en cada iteración los valores de las variables que determinar si el ciclo continua o termina, es decir, aquellas que hacen parte de la *condición de terminación* del ciclo. De esta manera, podemos ver como cambian dichos valores y cuántas repeticiones del ciclo son necesarias para encontrar la respuesta. Si se prueba con un número muy grande como dato de entrada, se observará cómo la cantidad de repeticiones crecerá enormemente."
   ]
  },
  {
   "cell_type": "code",
   "execution_count": 12,
   "metadata": {
    "scrolled": true
   },
   "outputs": [
    {
     "name": "stdout",
     "output_type": "stream",
     "text": [
      "Enter an integer number: 125\n",
      "cube**3: 0 abs(n): 125 abs(n)-cube**3: 125\n",
      "cube**3: 1 abs(n): 125 abs(n)-cube**3: 124\n",
      "cube**3: 8 abs(n): 125 abs(n)-cube**3: 117\n",
      "cube**3: 27 abs(n): 125 abs(n)-cube**3: 98\n",
      "cube**3: 64 abs(n): 125 abs(n)-cube**3: 61\n",
      "Cube root of 125 is 5\n"
     ]
    }
   ],
   "source": [
    "n = int(input('Enter an integer number: ')) \n",
    "cube = 0 \n",
    "while cube**3 < abs(n): \n",
    "    print('cube**3:',cube**3,'abs(n):',abs(n),'abs(n)-cube**3:',abs(n)-cube**3)\n",
    "    cube = cube + 1    \n",
    "\n",
    "if cube**3 != abs(n): \n",
    "    print(n, 'is not a perfect cube') \n",
    "else: \n",
    "    if n < 0: \n",
    "        cube = -cube \n",
    "    print('Cube root of', n, 'is', cube)"
   ]
  },
  {
   "cell_type": "markdown",
   "metadata": {},
   "source": [
    "#### Ciclos `for`\n",
    "Los ciclos `for` de Python nos permiten expresar de una forma más simple, por ejemplo, ciclos que iteran sobre una secuencia de enteros. El siguiente código nos muestra una versión del algoritmo de enumeración exhaustica de la raíz cúbica utilizando la instrucción `for` en lugar de `while`:"
   ]
  },
  {
   "cell_type": "markdown",
   "metadata": {},
   "source": [
    "**Código 3.2**"
   ]
  },
  {
   "cell_type": "code",
   "execution_count": 5,
   "metadata": {
    "scrolled": true
   },
   "outputs": [
    {
     "name": "stdout",
     "output_type": "stream",
     "text": [
      "Enter an integer number: 125\n",
      "Cube root of 125 is 5\n"
     ]
    }
   ],
   "source": [
    "n = int(input('Enter an integer number: ')) \n",
    "for cube in range(0, abs(n)+1): \n",
    "    if cube **3 >= abs(n): \n",
    "        break \n",
    "\n",
    "if cube**3 != abs(n): \n",
    "    print(n, 'is not a perfect cube') \n",
    "else: \n",
    "    if n < 0: \n",
    "        cube = -cube \n",
    "    print('Cube root of', n, 'is', cube)"
   ]
  },
  {
   "cell_type": "markdown",
   "metadata": {},
   "source": [
    "La instrucción `for` le asigna en cada repetición del ciclo un valor a la variable `cube` de acuerdo a la lista de valores en el rango 0 a abs(n)+1. Decimos entonces que el ciclo `for` está *iterando* en ese rango. Sin embargo, el código tiene una condición dentro del ciclo, mediante la instrucción `if`, que hará terminar las repeticiones con un `break` si `cube **3 >= abs(n)`. Note que las instrucciones `cube = 0` y `cube = cube+1` no son necsarias en este caso ya que el `for` se encarga de asignarle valores a `cube`."
   ]
  },
  {
   "cell_type": "markdown",
   "metadata": {},
   "source": [
    "***Nota Python***\n",
    "- La función `range(a,b,c)` de Python genera una lista de números enteros que inicia en `a` y llega hasta `b` con incrementos opcionales de `c`. Pruebe por ejemplo ejecutar la instrucción `range(2,10,3)` o `range(30,15,-5)`.\n",
    "- La instrucción `break` de Python se utiliza siempre dentro de un ciclo (`for` o `while`) para detener sus repeticiones al cumplirse alguna condición."
   ]
  },
  {
   "cell_type": "markdown",
   "metadata": {},
   "source": [
    "#### Ciclos `for` con `strings`\n",
    "Los ciclos `for` también pueden *iterar* sobre cadenas de caracteres. En el siguiente código, cada iteración del ciclo hará que la variable `let` tome un caracter de la cadena `name`:"
   ]
  },
  {
   "cell_type": "markdown",
   "metadata": {},
   "source": [
    "**Código 3.3**"
   ]
  },
  {
   "cell_type": "code",
   "execution_count": 7,
   "metadata": {
    "scrolled": true
   },
   "outputs": [
    {
     "name": "stdout",
     "output_type": "stream",
     "text": [
      "Enter your name: Juan\n",
      "J*\n",
      "u*\n",
      "a*\n",
      "n*\n"
     ]
    }
   ],
   "source": [
    "#Print a string with each letter followed by a star\n",
    "name = input('Enter your name: ')\n",
    "for let in name: \n",
    "    print(let + '*')"
   ]
  },
  {
   "cell_type": "markdown",
   "metadata": {},
   "source": [
    "***Nota Python***\n",
    "- Los *comentarios* en un programa, son textos que el programador escribe a manera de explicaciones sobre el código. Para poner un comentario debe inciarse con el símbolo `#` y el intérprete ignorará todo el resto de texto en esa línea, ya que los comentarios son para los programadores, no para el intéprete que no sabrá entenderlos."
   ]
  },
  {
   "cell_type": "markdown",
   "metadata": {},
   "source": [
    "### Soluciones aproximadas\n",
    "Mientras que el algoritmo de enumeración exhaustiva (Código 3.1) evalúa todas las posibles soluciones, en muchos casos es imposible dado que el rango de posibles valores es infinito. En el siguiente ejemplo se muestra un algoritmo que calcula la raíz cuadrada real (con décimas) de un número de manera aproximada:"
   ]
  },
  {
   "cell_type": "markdown",
   "metadata": {},
   "source": [
    "**Código 3.4**"
   ]
  },
  {
   "cell_type": "code",
   "execution_count": 41,
   "metadata": {},
   "outputs": [
    {
     "name": "stdout",
     "output_type": "stream",
     "text": [
      "Enter a number: 25\n",
      "4.999000000001688 is approximately the square root of 25\n",
      "There were 49990 guesses\n"
     ]
    }
   ],
   "source": [
    "#Find an approximation of the square root \n",
    "x = int(input('Enter a number: ')) \n",
    "epsilon = 0.01 #epsilon = 0.0001 #epsilon = 0.1 \n",
    "step = 0.0001 #step = 0.1 #step = 0.8\n",
    "guesses = 0 \n",
    "ans = 0.0 \n",
    "while abs(ans**2 - x) >= epsilon and ans <= x: \n",
    "    ans += step \n",
    "    guesses += 1 \n",
    "\n",
    "if abs(ans**2 - x) >= epsilon:\n",
    "    print('Couldn\\'t find the square root of', x) \n",
    "else: \n",
    "    print(ans, 'is approximately the square root of', x)\n",
    "\n",
    "print('There were', guesses, 'guesses')"
   ]
  },
  {
   "cell_type": "markdown",
   "metadata": {},
   "source": [
    "Esta solución aproximada utiliza una estrategia de fuerza bruta, al igual que el algoritmo de enumeración exhaustiva (Código 3.1). Iniciando en el valor 0, la variable `ans` se incrementa en cada iteración en una cantidad fija determinada por `step`. Note que el ciclo tiene dos condiciones de terminación unidas por el operador `and`, lo que quiere decir que si cualquiera de las dos se vuelve falsa, el ciclo se terminará.\n",
    "\n",
    "La primera condición (`abs(ans**2 - x) >= epsilon`) dice que el ciclo debe continuar mientras que la posible solución (`ans`) elevada al cuadrado esté muy alejada del valor al cual se le está calculando la raíz (`x`). El valor de `epsilon` determina entonces cuándo la aproximación al resultado es suficientemente buena.\n",
    "\n",
    "Debe observarse, sin embargo, que es posible que la primera condición nunca se vuelva falsa, es decir, que el algoritmo no logre encontrar una aproximación suficientemente buena de acuerdo a `epsilon`. En ese caso, la segunda condición (`ans <= x`) sirve para detener el ciclo ya que no es posible que la raíz cuadrada de `x` sea mayor que `x`.\n",
    "\n",
    "Luego de que el ciclo termina, la condición `if abs(ans**2 - x) >= epsilon:` es necesaria para saber por qué se terminó el ciclo, si fue por la primera condición hacerse falsa (se encontró una solución) o por la segunda (no se encontró una solución)."
   ]
  },
  {
   "cell_type": "markdown",
   "metadata": {},
   "source": [
    "#### Precisión vs. velocidad\n",
    "En el algoritmo anterior (Código 3.4), la variable `guesses` está solo para contar la cantidad de repeticiones del ciclo, lo que nos da una buena idea de la cantidad de trabajo computacional que se requiere para su ejecución. Como vimos, la variable `step` determina el incremento que se le hace a `ans` en cada iteración; si step tiene un valor mayor, los saltos de `ans` serán mayores y se avanzará más rápido camino a la solución (pruebe con `step = 0.1`). Sin embargo, al dar pasos más grandes es más probable que el algoritmo no satisfaga la precisión definida por `epsilon` (pruebe con `step = 0.8`). Al mismo tiempo, valores menores o mayores de `epsilon` forzarán a que la solución sea más o menos precisa respectivamente (pruebe con `epsilon = 0.0001` y `epsilon = 0.1`). Si se reduce el valor de `epsilon` para aumentar la precisión, es probable que se requiera disminuir el valor de `step`, lo que disminuirá la velocidad del algoritmo."
   ]
  },
  {
   "cell_type": "markdown",
   "metadata": {},
   "source": [
    "Si el dato de entrada de este algoritmo (Código 3.4) es muy pequeño, quizás ni siquiera tenga sentivo escribir un programa para ello. Si los datos de entrada son números más grandes, este programa probablemente nos resultará útil y suficientemente rápido. Pero si los números son muy grandes o talves necesito calcular la raíz cuadrado de muchos números, lo mejor será buscar un algoritmo más eficiente."
   ]
  },
  {
   "cell_type": "markdown",
   "metadata": {},
   "source": [
    "### Búsqueda por bisección\n",
    "El algoritmo de bisección..."
   ]
  }
 ],
 "metadata": {
  "kernelspec": {
   "display_name": "Python 3",
   "language": "python",
   "name": "python3"
  },
  "language_info": {
   "codemirror_mode": {
    "name": "ipython",
    "version": 3
   },
   "file_extension": ".py",
   "mimetype": "text/x-python",
   "name": "python",
   "nbconvert_exporter": "python",
   "pygments_lexer": "ipython3",
   "version": "3.6.4"
  }
 },
 "nbformat": 4,
 "nbformat_minor": 2
}
