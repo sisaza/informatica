{
 "livereveal": {
        "autolaunch": true
        }
 "cells": [
  {
   "cell_type": "markdown",
   "metadata": {},
   "source": [
    "# Unidad 3: Programas eficientes con Python\n",
    "\n",
    "Después de aprender los principales conceptos alrededor del hardware y el software, y de saber contruir algoritmos represetnados en diagramas de flujo, en esta unidad empezaremos, finalmente, a construir programas utilizando el lenguaje de programación Python. A la vez que vamos aprendiendo el lenguaje, invocaremos ejemplos de algoritmos que nos demostrarán la importancia de la eficiencia en la programación."
   ]
  },
  {
   "cell_type": "markdown",
   "metadata": {},
   "source": [
    "## Elementos básicos de Python"
   ]
  },
  {
   "cell_type": "markdown",
   "metadata": {},
   "source": [
    "### El lenguaje de programación Python\n",
    "Python es un lenguaje creado por el holandés [Guido van Rossum](https://en.wikipedia.org/wiki/Guido_van_Rossum) en 1991 pero que solo después del año 2000 se hizo popular. Es un lenguaje de programación de alto nivel que tiene entre sus principales características las siguientes:\n",
    "- Propósito general: puede ser utilizado para hacer programas en ámbitos muy diversos\n",
    "- Fácil lectura: el código fuente de un programa Python es fácil de entender\n",
    "- Interpretado: el lenguaje está diseñado para ser ejecutado a través de un intérprete\n",
    "\n",
    "Hoy en día, Python es considerado uno de los lenguajes más utilizados en todo el mundo ([IEEE](https://spectrum.ieee.org/computing/software/the-2017-top-programming-languages), [GitHub](https://octoverse.github.com/))."
   ]
  },
  {
   "cell_type": "markdown",
   "metadata": {},
   "source": [
    "### Ejecución de programas Python\n",
    "Un programa Python está compuesto por una secuencia de instrucciones que son ejecutadas por el intérprete. Existen dos modos de ejecución: interactiva y completa.\n",
    "#### Ejecución interactiva\n",
    "Se utiliza una terminal en la que se escribe y ejecuta una instrucción a la vez. Después de la ejecución de cada instrucción, en la terminal aparecen los resultados de se ejecución y ésta quedará lista para recibir una nueva instrucción. Este modo es utilizado por los programadores para probar el compartamiento de alguna instrucción antes de ser incorporada en un programa completo.\n",
    "#### Ejecución completa\n",
    "Se utiliza un editor de texto o un [IDE](https://en.wikipedia.org/wiki/Integrated_development_environment) para escribir el programa completo que luego será ejecutado al invocar el intérprete. Este es el modo que se utiliza para probar un programa completo y que le interesa al usuario final de un programa para se ejecución."
   ]
  },
  {
   "cell_type": "markdown",
   "metadata": {},
   "source": [
    "## AQUí FALTAN SECCIONES"
   ]
  },
  {
   "cell_type": "markdown",
   "metadata": {},
   "source": [
    "## Efficient algorithms\n",
    "En esta sección vamos a seguir explorando aspectos del lenguaje Python pero nos concentraremos en estudiar la eficiencia de los algorithmos.\n",
    "### Enumeración exhaustiva\n",
    "Considere el siguiente programa que calcula la raíz cúbica entera de un número, si la tiene:"
   ]
  },
  {
   "cell_type": "code",
   "execution_count": 7,
   "metadata": {},
   "outputs": [
    {
     "name": "stdout",
     "output_type": "stream",
     "text": [
      "Enter an integer number: 8\n",
      "Cube root of 8 is 2\n"
     ]
    }
   ],
   "source": [
    "n = int(input('Enter an integer number: ')) \n",
    "cube = 0 \n",
    "while cube**3 < abs(n): \n",
    "    cube = cube + 1\n",
    "\n",
    "if cube**3 != abs(n): \n",
    "    print(n, 'is not a perfect cube') \n",
    "else: \n",
    "    if n < 0: \n",
    "        cube = -cube \n",
    "    print('Cube root of', n, 'is', cube)"
   ]
  },
  {
   "cell_type": "markdown",
   "metadata": {},
   "source": [
    "El algoritmo anterior utiliza una estrategia "
   ]
  },
  {
   "cell_type": "code",
   "execution_count": null,
   "metadata": {},
   "outputs": [],
   "source": [
    "n = int(input('Enter an integer number: ')) \n",
    "cube = 0 \n",
    "while cube**3 < abs(n): \n",
    "    cube = cube + 1\n",
    "    print('cube**3:',cube**3,'abs(n):',abs(n),'abs(n)-cube**3:',abs(n)-cube**3)\n",
    "\n",
    "if cube**3 != abs(n): \n",
    "    print(n, 'is not a perfect cube') \n",
    "else: \n",
    "    if n < 0: \n",
    "        cube = -cube \n",
    "    print('Cube root of', n, 'is', cube)"
   ]
  }
 ],
 "metadata": {
  "kernelspec": {
   "display_name": "Python 3",
   "language": "python",
   "name": "python3"
  },
  "language_info": {
   "codemirror_mode": {
    "name": "ipython",
    "version": 3
   },
   "file_extension": ".py",
   "mimetype": "text/x-python",
   "name": "python",
   "nbconvert_exporter": "python",
   "pygments_lexer": "ipython3",
   "version": "3.6.4"
  }
 },
 "nbformat": 4,
 "nbformat_minor": 2
}
