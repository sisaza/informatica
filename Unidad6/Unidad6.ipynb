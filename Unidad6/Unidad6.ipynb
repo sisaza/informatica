{
 "cells": [
  {
   "cell_type": "markdown",
   "metadata": {},
   "source": [
    "# Unidad 6: Pruebas y depuración\n",
    "\n",
    "[6.1 Datos de prueba](#sec6.1)\n",
    "\n",
    "[6.2 Pruebas de caja negra](#sec6.2)\n",
    "\n",
    "[6.3 Pruebas de caja blanca](#sec6.3)\n",
    "\n",
    "[6.4 Implementación de las pruebas](#sec6.4)\n",
    "\n",
    "[6.5 Clasificación de los errores](#sec6.5)\n",
    "\n",
    "[6.6 Depuración](#sec6.6)\n",
    "\n",
    "En esta unidad estudiaremos un aspecto metodológico muy importante en la programación: el proceso de pruebas y depuración. Cuando un programador termina de escribir el código fuente de un programa, su tarea no ha terminado. En la gran mayoría de los casos el programa va tener errores que pueden ser de diferentes tipos como veremos más adelante. Luego de escribir el código fuente, es necesario entonces hacerle **pruebas** para verificar si funciona bien, o en términos más realistas, para determinar qué errores tiene. Luego de constatar que hay errores, es necesario encontrar las causas de éstos y corregirlos, en el proceso conocido como **depuración**."
   ]
  },
  {
   "cell_type": "markdown",
   "metadata": {},
   "source": [
    "<a id='sec6.1'></a>\n",
    "## 6.1 Datos de prueba\n",
    "Las pruebas de un programa consisten en múltiples ejecuciones de éste con datos de entrada estratégicos que buscan evidenciar los posibles errores. De ahí que la selección de los datos de entrada para las pruebas sea crítico. Si las pruebas no se hacen bien, las probabilidades de que el usuario final experimente fallos en el programa serán mayores."
   ]
  },
  {
   "cell_type": "markdown",
   "metadata": {},
   "source": [
    "*\"Las pruebas de un programa pueden ser usadas para mostrar que hay fallos, pero nunca para mostrar su ausencia\". E. Dijkstra*"
   ]
  },
  {
   "cell_type": "markdown",
   "metadata": {},
   "source": [
    "Es importante notar que en la gran mayoría de los casos, es imposible probar todas las combinaciones de datos de entrada en un programa. Si nos remitimos por ejemplo a programas muy sencillos como los vistos en la Unidad 3 para calcular raíces de números reales, para hacer una prueba exhaustiva de todos los posibles valores de entrada, tendríamos que considerar todos los números reales posibles. Aunque no es un conjunto infinito, sí son muchos los valores a probar (2^64 dado que se utilizan 64 bits para almacenar un número)."
   ]
  },
  {
   "cell_type": "markdown",
   "metadata": {},
   "source": [
    "Dada la imposibilidad de probar todas las combinaciones de datos de entrada, es necesario construir un conjunto de datos de prueba (test suite en inglés) estratégico. Lo ideal es entonces dividir el universo de todas las combinaciones de valores de entrada en subconjuntos que compartan algunas propiedades. Por ejemplo, si el universo son todos los números enteros, podemos crear un subconjunto de los enteros positivos, otro de los negativos y otro con el cero. De cada subconjunto definido se selecciona un valor y así se tendría el conjunto de datos de prueba. Por lo general es difícil definir un buen conjunto de datos de prueba y depende mucho de la habilidad del programador."
   ]
  },
  {
   "cell_type": "markdown",
   "metadata": {},
   "source": [
    "El siguiente código muestra la definición de una función con su especificación. Sin necesidad de conocer el cuerpo de la función, de la especificación sabemos que los dos parámetros de la función son tipo `int`. Aplicando la división del universo de los enteros que planteamos en el párrafo anterior, podemos ahora proponer las siguientes combinaciones de valores para `a` y `b` con el objetivo de probar la función `isBigger()`:\n",
    "\n",
    "* `a` positivo y `b` positivo: `isBigger(10, 10)`\n",
    "* `a` negativo y `b` negativo: `isBigger(-5, -5)`\n",
    "* `a` positivo y `b` negativo: `isBigger(10, -5)`\n",
    "* `a` negativo y `b` positivo: `isBigger(-5, 10)`\n",
    "* `a` igual a cero y `b` igual a cero: `isBigger(0, 0)`\n",
    "* `a` diferente de cero y `b` igual a cero: `isBigger(5, 0)`\n",
    "* `a` igual a cero y `b` diferente de cero: `isBigger(0, 5)`"
   ]
  },
  {
   "cell_type": "code",
   "execution_count": null,
   "metadata": {},
   "outputs": [],
   "source": [
    "def isBigger(a, b):\n",
    "    '''Asume que a y b son int,\n",
    "    Retorna True si a es mayor que b y False de lo contrario'''"
   ]
  },
  {
   "cell_type": "markdown",
   "metadata": {},
   "source": [
    "Las pruebas pueden evidenciar que con ciertos valores de los datos de entrada el programa detiene su ejecución, en cuyo caso, resulta evidente que hay un error. Sin embargo, también es posible que aunque el programa no se detenga, los resultados que genere sean incorrectos. Para saber que un dato de salida de un programa o función es incorrecto, es necesario calcular manualmente, o a través de otro programa, los resultados esperados de las pruebas."
   ]
  },
  {
   "cell_type": "markdown",
   "metadata": {},
   "source": [
    "El proceso de pruebas consiste entonces de tres pasos: 1) definir los conjuntos de datos de prueba, 2) determinar los resultados esperados y 3) ejecutar las pruebas para identificar los errores. Los tres pasos requieren un esfuerzo significativo y con frecuencia sucede que un proceso de pruebas riguroso toma más tiempo que el desarrollo mismo del programa. Esto se traduce en que para una empresa es más caro probar los programas que desarrollarlos. Sin embargo, el precio de no hacer pruebas sería incluso mayor pues se reduciría la calidad de los programas que se ofrecen a los clientes y con ello la reputación y ventas de la empresa."
   ]
  },
  {
   "cell_type": "markdown",
   "metadata": {},
   "source": [
    "<a id='sec6.2'></a>\n",
    "## 6.2 Pruebas de caja negra\n",
    "En el ejemplo anterior diseñamos una prueba para una función sin necesidad de conocer el cuerpo de ella, es decir, sin conocer el algoritmo. Basta con conocer la especificación de un programa o función para hacerle pruebas. De hecho, cuando usamos cualquier programa, lo que estamos haciendo es probarlo sin conocer sus algoritmos internos (en la mayoría de los casos). A este tipo de pruebas se les llama **pruebas de caja negra** dado que el interior del programa o función (caja) es desconocido u oscuro (negro)."
   ]
  },
  {
   "cell_type": "markdown",
   "metadata": {},
   "source": [
    "Las pruebas de caja negra tienen ventajas importantes:\n",
    "* No es necesario conocer, estudiar ni entender los algoritmos internos.\n",
    "* Permite que quien hace las pruebas sea diferente de quien hace el programa, lo que reduce el sesgo que puede tener el programador.\n",
    "* No es necesario modificar las pruebas cuando se cambian los algoritmos sin cambiar su especificación."
   ]
  },
  {
   "cell_type": "markdown",
   "metadata": {},
   "source": [
    "En el siguiente ejemplo se muestra una función con su especificación pero sin su cuerpo. Teniendo en cuenta lar características de los parámetros de `sqrt()`, podemos construir un conjunto de datos de prueba como se muestra en la tabla."
   ]
  },
  {
   "cell_type": "code",
   "execution_count": null,
   "metadata": {},
   "outputs": [],
   "source": [
    "def sqrt(x, epsilon):\n",
    "    '''Asume que x y epsilon son float, que x >= 0 y que epsilon > 0\n",
    "    Retorna resultado tal que: x-epsilon <= resultado**2 <= x+epsilon'''"
   ]
  },
  {
   "cell_type": "markdown",
   "metadata": {},
   "source": [
    "**Figura 6.1**\n",
    "\n",
    "![cajanegra](images/cajanegra.png)"
   ]
  },
  {
   "cell_type": "markdown",
   "metadata": {},
   "source": [
    "**Tips para pruebas de caja negra**\n",
    "\n",
    "Muchos errores en los programas suceden en las condiciones de frontera, es decir, en los límites superiores e inferiores de los arreglos y estructuras de datos en general.\n",
    "\n",
    "Cuando el programa o función a probar tenga como parámetros tipos de dato arreglo (`str`, `tuple`, `list`, `dict`) es aconsejable probar:\n",
    "* arreglo vacío\n",
    "* arreglo con un solo elemento\n",
    "* arreglo de arreglos\n",
    "\n",
    "Cuando el programa o función a probar tenga como parámetros tipos de dato número (`int`, `float`) es aconsejable probar:\n",
    "* valores positivos\n",
    "* valores negativos\n",
    "* cero\n",
    "* valores muy grandes\n",
    "* valores muy pequeños"
   ]
  },
  {
   "cell_type": "markdown",
   "metadata": {},
   "source": [
    "<a id='sec6.3'></a>\n",
    "## 6.3 Pruebas de caja blanca\n",
    "Las **pruebas de caja blanca** son pruebas que se hacen conociendo la estructura interna del programa o función. En este tipo de pruebas es más fácil seleccionar algunos datos de prueba dado que se conocen los puntos críticos de los algoritmos. Una buena estrategia de pruebas debe incluir pruebas de caja negra y de caja blanca."
   ]
  },
  {
   "cell_type": "markdown",
   "metadata": {},
   "source": [
    "El siguiente ejemplo muestra el código de una función que sí incluye su cuerpo. Al analizar el algoritmo, podemos ver que el condicional de la línea 4 y la condición de que el parámetro `x` es no negativo (según especificación) hace que la función de un tratamiento especial a los valores 0, 1 y 2 para `x`, por lo tanto son valores que deben incluirse en el conjunto de datos de prueba."
   ]
  },
  {
   "cell_type": "code",
   "execution_count": null,
   "metadata": {},
   "outputs": [],
   "source": [
    "def isPrime(x):\n",
    "    '''Asume que x es un entero no negativo\n",
    "    Retorna True si x es primo y Falso de lo contrario'''\n",
    "    if x <= 2:\n",
    "        return False\n",
    "    for i in range(2, x):\n",
    "        if x%i == 0:\n",
    "            return False\n",
    "    return True"
   ]
  },
  {
   "cell_type": "markdown",
   "metadata": {},
   "source": [
    "Si hacemos solo esas tres pruebas, rápidamente observaremos que la prueba `isPrime(2)` genera un error. Dice que 2 no es primo pero sí lo es."
   ]
  },
  {
   "cell_type": "code",
   "execution_count": null,
   "metadata": {},
   "outputs": [],
   "source": [
    "print(isPrime(0))\n",
    "print(isPrime(1))\n",
    "print(isPrime(2))"
   ]
  },
  {
   "cell_type": "markdown",
   "metadata": {},
   "source": [
    "Dado que el universo de valores para `x` es todos los número naturales, es muy probable que una prueba de caja negra no hubiera seleccionado ese valor y por lo tanto no hubiera revelado que la función genera un resultado incorrecto para el 2. Solo después de inspeccionar el código se decidió incluir el 2 en el conjunto de datos de prueba."
   ]
  },
  {
   "cell_type": "markdown",
   "metadata": {},
   "source": [
    "**Pruebas de ruta completa**\n",
    "\n",
    "Una prueba de ruta completa (path complete en inglés) es aquella que hace que el programa recorra (ejecute) todos los posibles caminos del algoritmo. Una prueba de ruta completa para la función `isPrime()` del ejemplo anterior sería:"
   ]
  },
  {
   "cell_type": "code",
   "execution_count": null,
   "metadata": {},
   "outputs": [],
   "source": [
    "print(isPrime(0)) # para probar el condicional de la línea 4\n",
    "print(isPrime(5)) # para probar el for sin que se cumpla el condicional de la línea 7\n",
    "print(isPrime(4)) # para probar el condicional de la línea 7"
   ]
  },
  {
   "cell_type": "markdown",
   "metadata": {},
   "source": [
    "**Tips para pruebas de caja blanca**\n",
    "\n",
    "Cuando se hacen pruebas de caja blanca es recomendable considerar lo siguiente:\n",
    "* Probar ambas ramas de ejecución en los condicionales `if`.\n",
    "* Probar todas las ramas de ejecución en los condicionales `if-elif-else`.\n",
    "* En los ciclos `for` y `while`, probar que:\n",
    "    - El ciclo nunca itere (ej: arreglo vacío)\n",
    "    - Que itere solo una vez\n",
    "    - Que itere más de una vez\n",
    "    - Que el ciclo se termine por cada una de las condiciones que tenga y los `break`"
   ]
  },
  {
   "cell_type": "markdown",
   "metadata": {},
   "source": [
    "<a id='sec6.4'></a>\n",
    "## 6.4 Implementación de las pruebas"
   ]
  },
  {
   "cell_type": "markdown",
   "metadata": {},
   "source": [
    "Las pruebas de un programa se materializan al ejecutar el programa múltiples veces con el conjunto de datos de prueba definido. Existen dos tipos de pruebas complementarias que es importante definir:\n",
    "* Pruebas unitarias: Son pruebas de funciones o partes del programa que se hacen aisladas del resto del programa. Es recomendable hacer este tipo de prueba a medida que se avanza en el desarrollo de un programa, para que la acumulación de errores al final no haga más compleja la labor de depuración.\n",
    "* Pruebas integradas: Son pruebas del programa completo, que buscan verificar el correcto funcionamiento de la interconexión de las partes que forman el programa y que idealmente ya fueron probadas unitariamente."
   ]
  },
  {
   "cell_type": "markdown",
   "metadata": {},
   "source": [
    "**Automatización de las pruebas**\n",
    "\n",
    "Dado que los conjuntos de pruebas son en ocasiones extensos y que no siempre es fácil identificar a ojo que en efecto hay errores en los resultados de un programa o función, es muy común construir programas para automatizar las pruebas. Es decir, programas que ejecutan repetidamente el programa o función a probar usando el conjunto de datos de prueba.\n",
    "\n",
    "La instrucción `assert` es frecuentemente usada para verificar el correcto funcionamiento de un programa. Con esta instrucción podemos evaluar si una condición particular se cumple y hacer que el programa se detenga con un mensaje de error definido por el programador."
   ]
  },
  {
   "cell_type": "markdown",
   "metadata": {},
   "source": [
    "El siguiente ejemplo muestra un programa de prueba para la función `isPrime()` previamente vista. El conjunto de prueba es de caja blanca, por lo que se ha inspeccionado el código para determinar que existen dos rangos de valores de interés para la variable `x`, de `0` a `2` y mayores que `2`. Como vimos, es importante probar los valores frontera y probar las diferentes rutas del algoritmo. Es por eso que se ha definido el conjunto de valores `0`, `1`, `2`, `3`, `10` y `11` para el parámetro `x`.\n",
    "\n",
    "Al ejecutar la prueba vemos que ésta se detiene ante un error y aparece el mensaje que se asoció al correspondiente `assert`."
   ]
  },
  {
   "cell_type": "code",
   "execution_count": null,
   "metadata": {},
   "outputs": [],
   "source": [
    "def isPrime(x):\n",
    "    '''Asume que x es un entero no negativo\n",
    "    Retorna True si x es primo y Falso de lo contrario'''\n",
    "    if x <= 2:\n",
    "        return False\n",
    "    for i in range(2, x):\n",
    "        if x%i == 0:\n",
    "            return False\n",
    "    return True\n",
    "\n",
    "print('Prueba unitaria para la función isPrime()')\n",
    "assert isPrime(0) == False, '0 no es primo'\n",
    "assert isPrime(1) == False, '1 no es primo'\n",
    "assert isPrime(2) == True, '2 sí es primo'\n",
    "assert isPrime(3) == True, '3 sí es primo'\n",
    "assert isPrime(10) == False, '10 no es primo'\n",
    "assert isPrime(11) == True, '11 sí es primo'\n",
    "print('Fin de la prueba')"
   ]
  },
  {
   "cell_type": "markdown",
   "metadata": {},
   "source": [
    "<a id='sec6.5'></a>\n",
    "## 6.5 Clasificación de los errores\n",
    "Los errores en los programas son comunmente conocidos como **bugs** (bicho) debido a una anécdota histórica. Debido a que los primeros computadores electrónicos usaban elementos electromecánicos como los *relays*, una obstrucción mecánica a un relay causaría errores en el programa. La Figura 6.2 muestra el reporte de un bicho que se encontró en un computador en 1947 y que marcó un hecho anecdótico pero histórico pues sirvió para acuñar el termino bug como error en un programa de computador."
   ]
  },
  {
   "cell_type": "markdown",
   "metadata": {},
   "source": [
    "**Figura 6.1**\n",
    "\n",
    "![bug](images/bug.jpg)"
   ]
  },
  {
   "cell_type": "markdown",
   "metadata": {},
   "source": [
    "Hay muchos tipos diferentes de errores en los programas y es muy importante conocerlos ya que ayuda a encontrar y corregirlos más ágilmente. A continuación se presenta algunas de las principales categorías de errores.\n",
    "\n",
    "Dependiendo de si es obvio o no que ha habido un error en la ejecución de un programa, podemos clasificar los errores en:\n",
    "* **Evidente:** tiene una manifestación obvia, por ejemplo, el programa se detiene o se demora exageradamente sin avanzar o terminar.\n",
    "* **Oculto:** no es obvio que ha habido un error ya que el programa termina su ejecución sin interrumpirse y es necesario inspeccionar los resultados para observar que ante algunos datos de prueba, las salidas son incorrectas."
   ]
  },
  {
   "cell_type": "markdown",
   "metadata": {},
   "source": [
    "El siguiente código muestra dos funciones y dos pruebas que generan un error oculto en el primer caso y uno evidente en el segundo. El error oculto de la función `isPrime()` es debido a la comparación incorrecta de la línea 4 que resulta en decir que `2` no es un número primo. El error evidente de `incList()` es debido a que el rango del `for` de la línea 16 no debe ser sobre `k` si no sobre `len(h)`. Para valores de `k` mayores que `len(h)` se generarán accesos a posiciones inexistentes en la lista. Este error se llama `IndexError` y es evidente ya que se detiene la ejecución del programa."
   ]
  },
  {
   "cell_type": "code",
   "execution_count": null,
   "metadata": {},
   "outputs": [],
   "source": [
    "def isPrime(x):\n",
    "    '''Asume que x es un entero no negativo\n",
    "    Retorna True si x es primo y Falso de lo contrario'''\n",
    "    if x <= 2:\n",
    "        return False\n",
    "    for i in range(2, x):\n",
    "        if x%i == 0:\n",
    "            return False\n",
    "    return True\n",
    "\n",
    "print(isPrime(2))    # prueba que genera error oculto\n",
    "\n",
    "def incList(h, k):\n",
    "    '''Recibe una lista de enteros y un entero\n",
    "    que se le suma a cada elemento de la lista.'''\n",
    "    for i in range(k):\n",
    "        h[i] = h[i] + k\n",
    "        \n",
    "print(incList([1, 2, 3], 8))  # prueba que genera error evidente"
   ]
  },
  {
   "cell_type": "markdown",
   "metadata": {},
   "source": [
    "Dependiendo de las condiciones de frecuencia con las que se dan los errores, podemos clasificarlos en:\n",
    "* **Persistente:** cuando el fallo del programa se observa siempre que se ejecuta el programa con los mismos datos de entrada.\n",
    "* **Intermitente:** cuando el fallo se observa solo algunas veces a pesar de probar el programa (aparentemente) con los mismo datos de entrada."
   ]
  },
  {
   "cell_type": "markdown",
   "metadata": {},
   "source": [
    "La mayoría de los errores que aparecen en la práctica son persistentes, incluídos los vistos en el ejemplo anterior. Sin embargo, los errores intermitentes también ocurren con alguna frecuencia y tienden a ser muy difíciles de corregir. El siguiente código muestra un error intermitente muy simple."
   ]
  },
  {
   "cell_type": "code",
   "execution_count": null,
   "metadata": {},
   "outputs": [],
   "source": [
    "def greet(name):\n",
    "    import datetime\n",
    "    t = datetime.datetime.now().time()\n",
    "    t = str(t).split(':')\n",
    "    hour = t[0]    \n",
    "    if int(hour) < 12:\n",
    "        print('Buenos días', name)\n",
    "    elif hour < 18:\n",
    "        print('Buenas tardes', name)\n",
    "    else:\n",
    "        print('Buenas noches', name)\n",
    "\n",
    "greet('Diego')"
   ]
  },
  {
   "cell_type": "markdown",
   "metadata": {},
   "source": [
    "Si uno se sienta un día por la mañana a hacerle una prueba de caja negra a esta simple función que muestra un saludo para el nombre que uno le entregue como argumento, todas las pruebas serán existosas con cualquier nombre. Si por la tarde se vuelve a probar el programa, aparecerá un error evidente. Pero al otro día por la mañana el programa funcionará de nuevo sin errores. Este es un clásico error intermitente.\n",
    "\n",
    "A pesar de que aparentemente los datos de entrada no cambien, la hora del día que es utilizada por el programa sí está cambiando. En realidad, la hora del día es también un dato de entrada aunque no lo sea explícitamente. En las horas de la tarde, la línea 8 del código tiene un error ya que se olvidó hacer la conversión a `int`. Este error solo se evidenciará en las horas de la tarde."
   ]
  }
 ],
 "metadata": {
  "kernelspec": {
   "display_name": "Python 3",
   "language": "python",
   "name": "python3"
  },
  "language_info": {
   "codemirror_mode": {
    "name": "ipython",
    "version": 3
   },
   "file_extension": ".py",
   "mimetype": "text/x-python",
   "name": "python",
   "nbconvert_exporter": "python",
   "pygments_lexer": "ipython3",
   "version": "3.6.4"
  }
 },
 "nbformat": 4,
 "nbformat_minor": 2
}
