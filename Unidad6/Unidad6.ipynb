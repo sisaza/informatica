{
 "cells": [
  {
   "cell_type": "markdown",
   "metadata": {
    "colab_type": "text",
    "id": "LotgFLOxK4Jk"
   },
   "source": [
    "<img src=\"images/Inf1_cabezotedocumentos.png\" alt=\"header\"/>"
   ]
  },
  {
   "cell_type": "markdown",
   "metadata": {
    "colab_type": "text",
    "id": "xiS6kS0KK4Jm"
   },
   "source": [
    "# Unidad 6: Pruebas y depuración\n",
    "### Autor: Sebastián Isaza Ramírez - Profesor UdeA\n",
    "\n",
    "En esta unidad se estudiará un aspecto metodológico muy importante en la programación: el proceso de pruebas y depuración. Cuando un programador termina de escribir el código fuente de un programa, su tarea no ha terminado. En la gran mayoría de los casos el programa va a tener errores que pueden ser de diferentes tipos como se verá más adelante. Luego de escribir el código fuente, es necesario entonces hacerle **pruebas** para verificar si funciona bien, o en términos más realistas, para determinar qué errores tiene. Luego de constatar que hay errores, es necesario encontrar las causas de éstos y corregirlos, en el proceso conocido como **depuración**."
   ]
  },
  {
   "cell_type": "markdown",
   "metadata": {
    "colab_type": "text",
    "id": "FwHRjeH2K4Jn"
   },
   "source": [
    "**Tabla de contenido**\n",
    "\n",
    "[6.1 Datos de prueba](#sec6.1)\n",
    "\n",
    "[6.2 Pruebas de caja negra](#sec6.2)\n",
    "\n",
    "[6.3 Pruebas de caja blanca](#sec6.3)\n",
    "\n",
    "[6.4 Implementación de las pruebas](#sec6.4)\n",
    "\n",
    "[6.5 Clasificación de los errores](#sec6.5)\n",
    "\n",
    "[6.6 Depuración](#sec6.6)"
   ]
  },
  {
   "cell_type": "markdown",
   "metadata": {
    "colab_type": "text",
    "id": "Vm_nBnhAK4Jo"
   },
   "source": [
    "<a id='sec6.1'></a>\n",
    "## 6.1 Datos de prueba\n",
    "Las pruebas de un programa consisten en múltiples ejecuciones de éste con datos de entrada estratégicos que buscan evidenciar los posibles errores. De ahí que la selección de los datos de entrada para las pruebas sea crítico. Si las pruebas no se hacen bien, las probabilidades de que el usuario final experimente fallos en el programa serán mayores."
   ]
  },
  {
   "cell_type": "markdown",
   "metadata": {
    "colab_type": "text",
    "id": "JXGaIGiVK4Jp"
   },
   "source": [
    "*\"Las pruebas de un programa pueden ser usadas para mostrar que hay fallos, pero nunca para mostrar su ausencia\". E. Dijkstra*."
   ]
  },
  {
   "cell_type": "markdown",
   "metadata": {
    "colab_type": "text",
    "id": "Z5aIV-duK4Jq"
   },
   "source": [
    "Es importante notar que en la gran mayoría de los casos, es imposible probar todas las combinaciones de datos de entrada en un programa. Si se remite, por ejemplo, a programas muy sencillos como los vistos en la Unidad 3 para calcular raíces de números reales, para hacer una prueba exhaustiva de todos los posibles valores de entrada, se tendrían que considerar todos los números reales posibles. Aunque no es un conjunto infinito, sí son muchos los valores a probar (2^64 dado que se utilizan 64 bits para almacenar un número)."
   ]
  },
  {
   "cell_type": "markdown",
   "metadata": {
    "colab_type": "text",
    "id": "5lRICcwlK4Jt"
   },
   "source": [
    "Dada la imposibilidad de probar todas las combinaciones de datos de entrada, es necesario construir un conjunto de datos de prueba (test suite en inglés) estratégico. Lo ideal es dividir el universo de todas las combinaciones de valores de entrada en subconjuntos que compartan algunas propiedades. Por ejemplo, si el universo son todos los números enteros, se puede crear un subconjunto de los enteros positivos, otro de los negativos y otro con el cero. De cada subconjunto definido se selecciona un valor y así se tendría el conjunto de datos de prueba. Por lo general es difícil definir un buen conjunto de datos de prueba y depende mucho de la habilidad del programador."
   ]
  },
  {
   "cell_type": "markdown",
   "metadata": {
    "colab_type": "text",
    "id": "bwo1w_mXK4Ju"
   },
   "source": [
    "El siguiente código muestra la definición de una función con su especificación. Sin necesidad de conocer el cuerpo de la misma, de la especificación se sabe que los dos parámetros de la función son tipo `int`. Aplicando la división del universo de los enteros que se plantea en el párrafo anterior, se pueden ahora proponer las siguientes combinaciones de valores para `a` y `b` con el objetivo de probar la función `isBigger()`:\n",
    "\n",
    "* `a` positivo y `b` positivo: `isBigger(10, 10)`\n",
    "* `a` negativo y `b` negativo: `isBigger(-5, -5)`\n",
    "* `a` positivo y `b` negativo: `isBigger(10, -5)`\n",
    "* `a` negativo y `b` positivo: `isBigger(-5, 10)`\n",
    "* `a` igual a cero y `b` igual a cero: `isBigger(0, 0)`\n",
    "* `a` diferente de cero y `b` igual a cero: `isBigger(5, 0)`\n",
    "* `a` igual a cero y `b` diferente de cero: `isBigger(0, 5)`"
   ]
  },
  {
   "cell_type": "code",
   "execution_count": null,
   "metadata": {
    "colab": {},
    "colab_type": "code",
    "id": "0bO6QBL2K4Jx"
   },
   "outputs": [],
   "source": [
    "def isBigger(a, b):\n",
    "    '''Asume que a y b son int,\n",
    "    Retorna True si a es mayor que b y False de lo contrario'''"
   ]
  },
  {
   "cell_type": "markdown",
   "metadata": {
    "colab_type": "text",
    "id": "ilTAICtnK4J2"
   },
   "source": [
    "Las pruebas pueden evidenciar que con ciertos valores de los datos de entrada el programa detiene su ejecución, en cuyo caso, resulta evidente que hay un error. Sin embargo, también es posible que aunque el programa no se detenga, los resultados que genere sean incorrectos. Para saber que un dato de salida de un programa o función es incorrecto, es necesario calcular manualmente, o a través de otro programa, los resultados esperados de las pruebas."
   ]
  },
  {
   "cell_type": "markdown",
   "metadata": {
    "colab_type": "text",
    "id": "Mfty1D9dK4J3"
   },
   "source": [
    "El proceso de pruebas consiste entonces de tres pasos: 1) definir los conjuntos de datos de prueba, 2) determinar los resultados esperados, y 3) ejecutar las pruebas para identificar los errores. Los tres pasos requieren un esfuerzo significativo y con frecuencia sucede que un proceso de pruebas riguroso toma más tiempo que el desarrollo mismo del programa. Esto se traduce en que para una empresa es más caro probar los programas que desarrollarlos. Sin embargo, el precio de no hacer pruebas sería incluso mayor, pues se reduciría la calidad de los programas que se ofrecen a los clientes y con ello la reputación y ventas de la empresa."
   ]
  },
  {
   "cell_type": "markdown",
   "metadata": {
    "colab_type": "text",
    "id": "SV_PfYuzK4J4"
   },
   "source": [
    "<a id='sec6.2'></a>\n",
    "## 6.2 Pruebas de caja negra\n",
    "En el ejemplo anterior se diseñó una prueba para una función sin necesidad de conocer el cuerpo de ella, es decir, sin conocer el algoritmo. Basta con conocer la especificación de un programa o función para hacerle pruebas. De hecho, cuando se usa cualquier programa, lo que se está haciendo es probarlo sin conocer sus algoritmos internos (en la mayoría de los casos). A este tipo de pruebas se les llama **pruebas de caja negra**, dado que el interior del programa o función (caja) es desconocido u oscuro (negro)."
   ]
  },
  {
   "cell_type": "markdown",
   "metadata": {
    "colab_type": "text",
    "id": "zokeEi8AK4J5"
   },
   "source": [
    "Las pruebas de caja negra tienen ventajas importantes:\n",
    "* No es necesario conocer, estudiar ni entender los algoritmos internos.\n",
    "* Permite que quien hace las pruebas sea diferente de quien hace el programa, lo que reduce el sesgo que puede tener el programador.\n",
    "* No es necesario modificar las pruebas cuando se cambian los algoritmos sin cambiar su especificación."
   ]
  },
  {
   "cell_type": "markdown",
   "metadata": {
    "colab_type": "text",
    "id": "VYIrXvkqK4J6"
   },
   "source": [
    "En el siguiente ejemplo se muestra una función con su especificación pero sin su cuerpo. Teniendo en cuenta las características de los parámetros de `sqrt()`, se puede construir un conjunto de datos de prueba como se muestra en la tabla."
   ]
  },
  {
   "cell_type": "code",
   "execution_count": null,
   "metadata": {
    "colab": {},
    "colab_type": "code",
    "id": "KIh8w8kGK4J6"
   },
   "outputs": [],
   "source": [
    "def sqrt(x, epsilon):\n",
    "    '''Asume que x y epsilon son float, que x >= 0 y que epsilon > 0\n",
    "    Retorna resultado tal que: x-epsilon <= resultado**2 <= x+epsilon'''"
   ]
  },
  {
   "cell_type": "markdown",
   "metadata": {
    "colab_type": "text",
    "id": "0uvrlM6cK4J9"
   },
   "source": [
    "<img src=\"images/Inf1-u6-fig-1.png\" alt=\"Caja negra\" width=\"500\"/>\n",
    "\n",
    "                                 Fig. 1. Ejemplo de prueba de caja negra para la función `sqrt()"
   ]
  },
  {
   "cell_type": "markdown",
   "metadata": {
    "colab_type": "text",
    "id": "HO13XsbGK4J-"
   },
   "source": [
    "**Tips para pruebas de caja negra**\n",
    "\n",
    "Muchos errores en los programas suceden en las condiciones de frontera, es decir, en los límites superiores e inferiores de los arreglos y estructuras de datos en general.\n",
    "\n",
    "Cuando el programa o función a probar tenga como parámetros tipos de dato arreglo `str`, `tuple`, `list`, `dict`, es aconsejable probar:\n",
    "* arreglo vacío\n",
    "* arreglo con un solo elemento\n",
    "* arreglo de arreglos\n",
    "\n",
    "Cuando el programa o función a probar tenga como parámetros tipos de dato número `int` o `float`, es aconsejable probar:\n",
    "* valores positivos\n",
    "* valores negativos\n",
    "* cero\n",
    "* valores muy grandes\n",
    "* valores muy pequeños"
   ]
  },
  {
   "cell_type": "markdown",
   "metadata": {
    "colab_type": "text",
    "id": "JOLxuAL7K4J_"
   },
   "source": [
    "<a id='sec6.3'></a>\n",
    "## 6.3 Pruebas de caja blanca\n",
    "Las **pruebas de caja blanca** se hacen conociendo la estructura interna del programa o función. En este tipo de pruebas es más fácil seleccionar algunos, dado que se conocen los puntos críticos de los algoritmos. Una buena estrategia de pruebas debe incluir tanto de caja negra como de caja blanca."
   ]
  },
  {
   "cell_type": "markdown",
   "metadata": {
    "colab_type": "text",
    "id": "7nCI73jlK4KA"
   },
   "source": [
    "El siguiente ejemplo muestra el código de una función que sí incluye su cuerpo. Al analizar el algoritmo, se puede ver que el condicional de la línea 4 y la condición de que el parámetro `x` es no negativo (según especificación), hace que la función dé un tratamiento especial a los valores 0, 1 y 2 para `x`, por lo tanto son valores que deben incluirse en el conjunto de datos de prueba."
   ]
  },
  {
   "cell_type": "code",
   "execution_count": null,
   "metadata": {
    "colab": {},
    "colab_type": "code",
    "id": "-nCaurr0K4KB"
   },
   "outputs": [],
   "source": [
    "def isPrime(x):\n",
    "    '''Asume que x es un entero no negativo\n",
    "    Retorna True si x es primo y Falso de lo contrario'''\n",
    "    if x <= 2:\n",
    "        return False\n",
    "    for i in range(2, x):\n",
    "        if x%i == 0:\n",
    "            return False\n",
    "    return True"
   ]
  },
  {
   "cell_type": "markdown",
   "metadata": {
    "colab_type": "text",
    "id": "L92cwUQyK4KJ"
   },
   "source": [
    "Si se hacen solo esas tres pruebas, rápidamente se observa que `isPrime(2)` genera un error. Dice que 2 no es primo pero sí lo es."
   ]
  },
  {
   "cell_type": "code",
   "execution_count": null,
   "metadata": {
    "colab": {},
    "colab_type": "code",
    "id": "TFls3hrKK4KK"
   },
   "outputs": [],
   "source": [
    "print(isPrime(0))\n",
    "print(isPrime(1))\n",
    "print(isPrime(2))"
   ]
  },
  {
   "cell_type": "markdown",
   "metadata": {
    "colab_type": "text",
    "id": "fwJVw4trK4KN"
   },
   "source": [
    "Dado que el universo de valores para `x` es todos los número naturales, es muy probable que una prueba de caja negra no hubiera seleccionado ese valor y por lo tanto no hubiera revelado que la función genera un resultado incorrecto para el 2. Solo después de inspeccionar el código se decidió incluir el 2 en el conjunto de datos de prueba."
   ]
  },
  {
   "cell_type": "markdown",
   "metadata": {
    "colab_type": "text",
    "id": "g6XY4onuK4KN"
   },
   "source": [
    "**Pruebas de ruta completa**\n",
    "\n",
    "Una prueba de ruta completa (path complete en inglés) es aquella que hace que el programa recorra (ejecute) todos los posibles caminos del algoritmo. Una prueba de ruta completa para la función `isPrime()` del ejemplo anterior sería:"
   ]
  },
  {
   "cell_type": "code",
   "execution_count": null,
   "metadata": {
    "colab": {},
    "colab_type": "code",
    "id": "K0mBcrgvK4KO"
   },
   "outputs": [],
   "source": [
    "print(isPrime(0)) # para probar el condicional de la línea 4\n",
    "print(isPrime(5)) # para probar el for sin que se cumpla el condicional de la línea 7\n",
    "print(isPrime(4)) # para probar el condicional de la línea 7"
   ]
  },
  {
   "cell_type": "markdown",
   "metadata": {
    "colab_type": "text",
    "id": "agTyI4SwK4KR"
   },
   "source": [
    "**Tips para pruebas de caja blanca**\n",
    "\n",
    "Cuando se hacen pruebas de caja blanca es recomendable considerar lo siguiente:\n",
    "* Probar ambas ramas de ejecución en los condicionales `if`.\n",
    "* Probar todas las ramas de ejecución en los condicionales `if-elif-else`.\n",
    "* En los ciclos `for` y `while`, probar que:\n",
    "    - El ciclo nunca itere (ej.: arreglo vacío)\n",
    "    - Que itere solo una vez\n",
    "    - Que itere más de una vez\n",
    "    - Que el ciclo se termine por cada una de las condiciones que tenga y los `break`"
   ]
  },
  {
   "cell_type": "markdown",
   "metadata": {
    "colab_type": "text",
    "id": "nU8CZHlIK4KS"
   },
   "source": [
    "<a id='sec6.4'></a>\n",
    "## 6.4 Implementación de las pruebas"
   ]
  },
  {
   "cell_type": "markdown",
   "metadata": {
    "colab_type": "text",
    "id": "a7hYtZRUK4KT"
   },
   "source": [
    "Las pruebas de un programa se materializan al ejecutarlo múltiples veces con el conjunto de datos de prueba definido. Existen dos tipos de pruebas complementarias que es importante definir:\n",
    "* Pruebas unitarias: son pruebas de funciones o partes del programa que se hacen aisladas del resto del mismo. Es recomendable hacer este tipo de prueba a medida que se avanza en el desarrollo de un programa, para que la acumulación de errores al final no haga más compleja la labor de depuración.\n",
    "* Pruebas integradas: son pruebas del programa completo, que buscan verificar el correcto funcionamiento de la interconexión de las partes que forman el programa y que idealmente ya fueron probadas unitariamente."
   ]
  },
  {
   "cell_type": "markdown",
   "metadata": {
    "colab_type": "text",
    "id": "-9Q6VImLK4KT"
   },
   "source": [
    "**Automatización de las pruebas**\n",
    "\n",
    "Dado que los conjuntos de pruebas son en ocasiones extensos y que no siempre es fácil identificar a ojo que en efecto hay errores en los resultados de un programa o función, es muy común construir programas para automatizarlas. Es decir, programas que ejecutan repetidamente el programa o función a probar, usando el conjunto de datos de prueba.\n",
    "\n",
    "La instrucción `assert` es frecuentemente usada para verificar el correcto funcionamiento de un programa. Con esta instrucción se puede evaluar si una condición particular se cumple y hacer que el programa se detenga con un mensaje de error definido por el programador."
   ]
  },
  {
   "cell_type": "markdown",
   "metadata": {
    "colab_type": "text",
    "id": "uBx6riQyK4KU"
   },
   "source": [
    "El siguiente ejemplo muestra un programa de prueba para la función `isPrime()`, previamente vista. El conjunto de prueba es de caja blanca, por lo que se ha inspeccionado el código para determinar que existen dos rangos de valores de interés para la variable `x`, de `0` a `2` y mayores que `2`. Como se vio, es importante probar los valores frontera y probar las diferentes rutas del algoritmo. Es por eso que se ha definido el conjunto de valores `0`, `1`, `2`, `3`, `10` y `11` para el parámetro `x`.\n",
    "\n",
    "Al ejecutar la prueba se ve que esta se detiene ante un error y aparece el mensaje que se asoció al correspondiente `assert`."
   ]
  },
  {
   "cell_type": "code",
   "execution_count": null,
   "metadata": {
    "colab": {},
    "colab_type": "code",
    "id": "FWzysiZ4K4KV"
   },
   "outputs": [],
   "source": [
    "def isPrime(x):\n",
    "    '''Asume que x es un entero no negativo\n",
    "    Retorna True si x es primo y Falso de lo contrario'''\n",
    "    if x <= 2:\n",
    "        return False\n",
    "    for i in range(2, x):\n",
    "        if x%i == 0:\n",
    "            return False\n",
    "    return True\n",
    "\n",
    "print('Prueba unitaria para la función isPrime()')\n",
    "assert isPrime(0) == False, '0 no es primo'\n",
    "assert isPrime(1) == False, '1 no es primo'\n",
    "assert isPrime(2) == True, '2 sí es primo'\n",
    "assert isPrime(3) == True, '3 sí es primo'\n",
    "assert isPrime(10) == False, '10 no es primo'\n",
    "assert isPrime(11) == True, '11 sí es primo'\n",
    "print('Fin de la prueba')"
   ]
  },
  {
   "cell_type": "markdown",
   "metadata": {
    "colab_type": "text",
    "id": "1izLXHgVK4KY"
   },
   "source": [
    "<a id='sec6.5'></a>\n",
    "## 6.5 Clasificación de los errores\n",
    "Los errores en los programas son comunmente conocidos como **bugs** (bichos), debido a una anécdota histórica. Los primeros computadores electrónicos usaban elementos electromecánicos como los *relays*, una obstrucción mecánica a un relay causaría errores en el programa. La Figura 2 muestra el reporte de un bicho que se encontró en un computador en 1947 y que marcó un hecho anecdótico e histórico que sirvió para popularizar el termino bug como error en un programa de computador."
   ]
  },
  {
   "cell_type": "markdown",
   "metadata": {
    "colab_type": "text",
    "id": "SzjXcQtIK4KZ"
   },
   "source": [
    "<img src=\"images/Inf1-u6-fig-2.jpg\" alt=\"Bug\" width=\"700\"/>\n",
    "\n",
    "                                            Fig. 2. El primer *bug* de la historia\n",
    "\n",
    "Fuente: http://americanhistory.si.edu/collections/search/object/nmah_334663. The National Museum of American History."
   ]
  },
  {
   "cell_type": "markdown",
   "metadata": {
    "colab_type": "text",
    "id": "S8QD399_K4Ka"
   },
   "source": [
    "Hay muchos tipos diferentes de errores en los programas y aprender a reconocerlos ayuda a encontrarlos y corregirlos más ágilmente. A continuación se presentan algunas de las principales categorías de errores.\n",
    "\n",
    "Dependiendo de si es obvio o no que ha habido un error en la ejecución de un programa, se pueden clasificar los errores en:\n",
    "* **Evidente:** tiene una manifestación obvia, por ejemplo, el programa se detiene o se demora exageradamente sin avanzar o terminar.\n",
    "* **Oculto:** no es obvio que ha habido un error ya que el programa termina su ejecución sin interrumpirse y es necesario inspeccionar los resultados para observar que ante algunos datos de prueba, las salidas son incorrectas."
   ]
  },
  {
   "cell_type": "markdown",
   "metadata": {
    "colab_type": "text",
    "id": "psSaHbEjK4Kb"
   },
   "source": [
    "El siguiente código muestra dos funciones y dos pruebas que generan un error oculto en el primer caso y uno evidente en el segundo. El error oculto de la función `isPrime()` es debido a la comparación incorrecta de la línea 4 que resulta en decir que `2` no es un número primo. El error evidente de `incList()` es debido a que el rango del `for` de la línea 16 no debe ser sobre `k` si no sobre `len(h)`. Para valores de `k` mayores que `len(h)` se generarán accesos a posiciones inexistentes en la lista. Este error se llama `IndexError` y es evidente ya que se detiene la ejecución del programa."
   ]
  },
  {
   "cell_type": "code",
   "execution_count": null,
   "metadata": {
    "colab": {},
    "colab_type": "code",
    "id": "REYJ_aAPK4Kg"
   },
   "outputs": [],
   "source": [
    "def isPrime(x):\n",
    "    '''Asume que x es un entero no negativo\n",
    "    Retorna True si x es primo y Falso de lo contrario'''\n",
    "    if x <= 2:\n",
    "        return False\n",
    "    for i in range(2, x):\n",
    "        if x%i == 0:\n",
    "            return False\n",
    "    return True\n",
    "\n",
    "print(isPrime(2))    # prueba que genera error oculto\n",
    "\n",
    "def incList(h, k):\n",
    "    '''Recibe una lista de enteros y un entero\n",
    "    que se le suma a cada elemento de la lista.'''\n",
    "    for i in range(k):\n",
    "        h[i] = h[i] + k\n",
    "        \n",
    "print(incList([1, 2, 3], 8))  # prueba que genera error evidente"
   ]
  },
  {
   "cell_type": "markdown",
   "metadata": {
    "colab_type": "text",
    "id": "5Q4aeGHkK4Kk"
   },
   "source": [
    "Dependiendo de las condiciones de frecuencia con las que se dan los errores, se pueden clasificar en:\n",
    "* **Persistente:** cuando el fallo del programa se observa siempre que se ejecuta el programa con los mismos datos de entrada.\n",
    "* **Intermitente:** cuando el fallo se observa solo algunas veces a pesar de probar el programa (aparentemente) con los mismos datos de entrada."
   ]
  },
  {
   "cell_type": "markdown",
   "metadata": {
    "colab_type": "text",
    "id": "Y_zLOb_dK4Kl"
   },
   "source": [
    "La mayoría de los errores que aparecen en la práctica son persistentes, incluidos los vistos en el ejemplo anterior. Sin embargo, los errores intermitentes también ocurren con alguna frecuencia y tienden a ser muy difíciles de corregir. El siguiente código muestra un error intermitente de forma muy simple."
   ]
  },
  {
   "cell_type": "code",
   "execution_count": null,
   "metadata": {
    "colab": {},
    "colab_type": "code",
    "id": "Idj5Nq5JK4Kl"
   },
   "outputs": [],
   "source": [
    "def greet(name):\n",
    "    import datetime\n",
    "    t = datetime.datetime.now().time()\n",
    "    t = str(t).split(':')\n",
    "    hour = t[0]    \n",
    "    if int(hour) < 12:\n",
    "        print('Buenos días', name)\n",
    "    elif hour < 18:\n",
    "        print('Buenas tardes', name)\n",
    "    else:\n",
    "        print('Buenas noches', name)\n",
    "\n",
    "greet('Diego')"
   ]
  },
  {
   "cell_type": "markdown",
   "metadata": {
    "colab_type": "text",
    "id": "agFm7xLEK4Kq"
   },
   "source": [
    "Si alquien se sienta un día por la mañana a hacerle una prueba de caja negra a esta simple función que muestra un saludo para el nombre que uno le entregue como argumento, todas las pruebas serán existosas con cualquier nombre. Si por la tarde se vuelve a probar el programa, aparecerá un error evidente. Pero al otro día por la mañana el programa funcionará de nuevo sin errores. Este es un clásico error intermitente.\n",
    "\n",
    "A pesar de que, aparentemente, los datos de entrada no cambien, la hora del día que es utilizada por el programa sí está cambiando. En realidad, la hora del día es también un dato de entrada aunque no lo sea explícitamente. En las horas de la tarde, la línea 8 del código tiene un error ya que se olvidó hacer la conversión a `int`. Este error solo se evidenciará en las horas de la tarde."
   ]
  },
  {
   "cell_type": "markdown",
   "metadata": {},
   "source": [
    "<a id='sec6.6'></a>\n",
    "## 6.6 Depuración"
   ]
  },
  {
   "cell_type": "markdown",
   "metadata": {},
   "source": [
    "**Proceso de depuración**\n",
    "\n",
    "Luego de detectar errores a través de las pruebas, el programador debe descubrir la causa de los errores para poder corregirlos. A este proceso se le conoce como depuración (*debugging* en inglés).\n",
    "\n",
    "La Figura 3 muestra el proceso que sigue un programador para desarrollar un programa. En la primera fase se hace el diseño del alforitmo y se implementa el programa en algún lenguaje de programación. Luego se procede a las pruebas que en la mayoría de los casos revelan errores. Posteriormente se pasa al proceso de depuración para corregir los errores y repetir las preubas hasta que no se detecten más fallos.\n",
    "\n",
    "La depuración por lo general consiste en la ejecución del programa o partes de éste, donde el programador debe seguir cuidadosamente los cambios en las variables y así detectar la instrucción causante del error. Para ayudar al programador en esta tarea, la mayoría de entornos de programación (*IDEs*) ofrecen la opción de ejecutar el programa en modo depuración. De esta manera, el programa puede ser ejecutado \"en cámara lenta\", deteniendo el programa en las instrucciones que el programador considere de interés y así poder inspeccionar cuidadosamente los valores de las variables.\n",
    "\n",
    "Alternativamente, el programador puede optar simplemente por agregar instrucciones `print` con la desventaja de tener que hacer modificaciones al código que luego deben quitarse y que puede llevar a cometer errores adicionales."
   ]
  },
  {
   "cell_type": "markdown",
   "metadata": {},
   "source": [
    "<img src=\"images/Inf1-u6-fig-3.png\" alt=\"Bug\" width=\"400\"/>\n",
    "\n",
    "                                       Fig. 3. Metodología de depuración."
   ]
  },
  {
   "cell_type": "markdown",
   "metadata": {},
   "source": [
    "**Tips de depuración**\n",
    "\n",
    "Las habilidades de depuración mejoran significativamente con la práctica. Así, el programador va aprendiendo a identificar de manera más rápida las operaciones que causan los errores. Algunas errores comunes se presentan en la Figura 4."
   ]
  },
  {
   "cell_type": "markdown",
   "metadata": {},
   "source": [
    "<img src=\"images/Inf1-u6-fig-4.png\" alt=\"Bug\" width=\"800\"/>\n",
    "\n",
    "                                            Fig. 4. Tips de depuración."
   ]
  },
  {
   "cell_type": "markdown",
   "metadata": {
    "colab_type": "text",
    "id": "fM3OSD58K4Kr"
   },
   "source": [
    "#### Nota: las figuras y fragmentos de código presentados en esta Unidad que no remiten a una fuente, son de autoría del profesor Sebastián Isaza Ramírez."
   ]
  }
 ],
 "metadata": {
  "colab": {
   "collapsed_sections": [],
   "name": "Unidad6.ipynb",
   "provenance": [],
   "version": "0.3.2"
  },
  "kernelspec": {
   "display_name": "Python 3",
   "language": "python",
   "name": "python3"
  },
  "language_info": {
   "codemirror_mode": {
    "name": "ipython",
    "version": 3
   },
   "file_extension": ".py",
   "mimetype": "text/x-python",
   "name": "python",
   "nbconvert_exporter": "python",
   "pygments_lexer": "ipython3",
   "version": "3.6.4"
  }
 },
 "nbformat": 4,
 "nbformat_minor": 1
}
