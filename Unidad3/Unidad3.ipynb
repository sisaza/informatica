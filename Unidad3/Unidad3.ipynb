{
 "cells": [
  {
   "cell_type": "markdown",
   "metadata": {
    "colab_type": "text",
    "id": "bmEOj-4I_qco"
   },
   "source": [
    "<img src=\"images/Inf1_cabezotedocumentos.png\" alt=\"header\"/>"
   ]
  },
  {
   "cell_type": "markdown",
   "metadata": {
    "colab_type": "text",
    "id": "8wr41SdI_qcp",
    "slideshow": {
     "slide_type": "slide"
    }
   },
   "source": [
    "# Unidad 3: introducción a Python\n",
    "### Autor: Sebastián Isaza Ramírez - Profesor UdeA\n",
    "\n",
    "Después de aprender los principales conceptos alrededor del hardware y del software, y de saber construir algoritmos representados en diagramas de flujo, en esta unidad se empezarán, finalmente, a desarrollar programas utilizando el lenguaje de programación Python. A la vez que se irá aprendiendo el lenguaje, se invocarán ejemplos de algoritmos que demostrarán la importancia de la eficiencia en la programación."
   ]
  },
  {
   "cell_type": "markdown",
   "metadata": {
    "colab_type": "text",
    "id": "z60Kcx7b_qcr"
   },
   "source": [
    "### Tabla de contenido\n",
    "\n",
    "[3.1 Elementos básicos de Python](#sec3.1)\n",
    "    \n",
    "[3.1.1 El lenguaje de programación Python](#sec3.1.1)\n",
    "\n",
    "[3.1.2 Ejecución de programas Python](#sec3.1.2)\n",
    "\n",
    "[3.1.3 Tipos de datos y variables](#sec3.1.3)\n",
    "\n",
    "[3.1.4 Operadores, expresiones e instrucciones](#sec3.1.4)\n",
    "\n",
    "[3.1.5 Strings: cadenas de caracteres](#sec3.1.5)\n",
    "\n",
    "[3.1.6 Entrada y salida](#sec3.1.6)\n",
    "\n",
    "[3.1.7 Primitivas, operadores y funciones](#sec3.1.7)\n",
    "\n",
    "[3.1.8 Condicionales](#sec3.1.8)\n",
    "\n",
    "[3.1.9 Operadores de comparación y booleanos](#sec3.1.9)\n",
    "\n",
    "[3.1.10 Ciclos](#sec3.1.10)\n",
    "\n",
    "[3.2 La eficiencia de los algoritmos](#sec3.2)\n",
    "\n",
    "[3.2.1 Enumeración exhaustiva](#sec3.2.1)\n",
    "\n",
    "[3.2.2 Soluciones aproximadas](#sec3.2.2)"
   ]
  },
  {
   "cell_type": "markdown",
   "metadata": {
    "colab_type": "text",
    "id": "Lk5sfiBM_qcs",
    "slideshow": {
     "slide_type": "slide"
    }
   },
   "source": [
    "<a id='sec3.1'></a>\n",
    "## 3.1 Elementos básicos de Python"
   ]
  },
  {
   "cell_type": "markdown",
   "metadata": {
    "colab_type": "text",
    "id": "m-IjF8sH_qct",
    "slideshow": {
     "slide_type": "fragment"
    }
   },
   "source": [
    "<a id='sec3.1.1'></a>\n",
    "### 3.1.1 El lenguaje de programación Python\n",
    "Python es un lenguaje creado por el holandés [Guido van Rossum](https://en.wikipedia.org/wiki/Guido_van_Rossum) en 1991, pero que solo después del año 2000 se hizo popular. Es un lenguaje de programación de alto nivel que tiene entre sus principales características las siguientes:\n",
    "- Propósito general: puede ser utilizado para hacer programas en ámbitos muy diversos.\n",
    "- Fácil lectura: el código fuente de un programa Python es fácil de entender.\n",
    "- Interpretado: el lenguaje está diseñado para ser ejecutado a través de un intérprete.\n",
    "\n",
    "Hoy en día, Python es considerado uno de los lenguajes más utilizados en todo el mundo (ver rankings [IEEE](https://spectrum.ieee.org/static/interactive-the-top-programming-languages-2018), [GitHub](https://octoverse.github.com/projects#languages))."
   ]
  },
  {
   "cell_type": "markdown",
   "metadata": {
    "colab_type": "text",
    "id": "pUqJmoQi_qcu",
    "slideshow": {
     "slide_type": "slide"
    }
   },
   "source": [
    "<a id='sec3.1.2'></a>\n",
    "### 3.1.2 Ejecución de programas Python\n",
    "Un programa Python está compuesto por una secuencia de instrucciones que son ejecutadas por el intérprete. Existen dos modos de ejecución: interactiva y completa."
   ]
  },
  {
   "cell_type": "markdown",
   "metadata": {
    "colab_type": "text",
    "id": "RPE6K6Ry_qcv",
    "slideshow": {
     "slide_type": "slide"
    }
   },
   "source": [
    "#### Ejecución interactiva\n",
    "Se utiliza una terminal en la que se escribe y ejecuta una instrucción a la vez. Después de la ejecución de cada instrucción en la terminal, aparecen los resultados y ésta quedará lista para recibir nuevas instrucciones. Este modo es utilizado por los programadores para probar el comportamiento de alguna instrucción antes de ser incorporada en un programa completo.\n",
    "\n",
    "<img src=\"images/Inf1-u3-fig-1.png\" alt=\"interactive\" width=\"600\"/>\n",
    "\n",
    "                                       Fig. 1. Ejecución interactiva de una instrucción"
   ]
  },
  {
   "cell_type": "markdown",
   "metadata": {
    "colab_type": "text",
    "id": "UElsNAIl_qcx",
    "slideshow": {
     "slide_type": "slide"
    }
   },
   "source": [
    "#### Ejecución completa\n",
    "Se utiliza un editor de texto o un [IDE](https://en.wikipedia.org/wiki/Integrated_development_environment) (Integrated Development Environment) para escribir el programa completo, que luego será ejecutado al invocar el intérprete. Este es el modo que se utiliza para probar un programa completo y que le interesa al usuario final para su ejecución.\n",
    "\n",
    "<img src=\"images/Inf1-u3-fig-2.png\" alt=\"complete\" width=\"800\"/>\n",
    "\n",
    "                                            Fig. 2. Ejecución completa de un programa"
   ]
  },
  {
   "cell_type": "markdown",
   "metadata": {
    "colab_type": "text",
    "id": "WAXeirQe_qcy",
    "slideshow": {
     "slide_type": "slide"
    }
   },
   "source": [
    "<a id='sec3.1.3'></a>\n",
    "### 3.1.3 Tipos de datos y variables\n",
    "Una primera clasificación que se puede hacer de los datos en Python es entre **escalares** y **arreglos**. Los datos escalares son aquellos que no están compuestos por otros y que Python los trata como entidades indivisibles. Los datos tipo arreglo, son en realidad conjuntos de datos que se encuentran agrupados para facilitar su manejo."
   ]
  },
  {
   "cell_type": "markdown",
   "metadata": {
    "colab_type": "text",
    "id": "O1mz-zLK_qcz",
    "slideshow": {
     "slide_type": "subslide"
    }
   },
   "source": [
    "En Python existen cuatro tipos de datos escalares:\n",
    "- `int`: números enteros (ej.: `7`)\n",
    "- `float`: números reales (ej.: `8.295`)\n",
    "- `bool`: valores booleanos (ej.: verdadero (`True`) o falso (`False`))\n",
    "- `None`: vacío, representa la ausencia de datos"
   ]
  },
  {
   "cell_type": "markdown",
   "metadata": {
    "colab_type": "text",
    "id": "_nZ2JlhP_qc0",
    "slideshow": {
     "slide_type": "subslide"
    }
   },
   "source": [
    "El siguiente código muestra el uso de la función `type()` para averiguar qué tipo de dato está asociado a una variable:"
   ]
  },
  {
   "cell_type": "code",
   "execution_count": null,
   "metadata": {
    "colab": {},
    "colab_type": "code",
    "id": "dfhN3BXP_qc2",
    "outputId": "3f2d26dd-c340-47d6-da3e-9edf18797ecf",
    "slideshow": {
     "slide_type": "fragment"
    }
   },
   "outputs": [],
   "source": [
    "x = 3\n",
    "print(type(x))\n",
    "y = 6.7\n",
    "print(type(y))\n",
    "z = True\n",
    "print(type(z))\n",
    "a = None\n",
    "print(type(a))"
   ]
  },
  {
   "cell_type": "markdown",
   "metadata": {
    "colab_type": "text",
    "id": "Y9Cz2x0s_qc-",
    "slideshow": {
     "slide_type": "subslide"
    }
   },
   "source": [
    "A veces es posible convertir entre diferentes tipos de datos, como se ve en el siguiente código:"
   ]
  },
  {
   "cell_type": "code",
   "execution_count": null,
   "metadata": {
    "colab": {},
    "colab_type": "code",
    "id": "Z7b_vl2V_qdA",
    "outputId": "40501158-c5da-44a7-ad74-8927560d1ea6",
    "scrolled": true,
    "slideshow": {
     "slide_type": "fragment"
    }
   },
   "outputs": [],
   "source": [
    "x = 8.47\n",
    "y = int(x)\n",
    "z = float(y)\n",
    "print(x)\n",
    "print(y)\n",
    "print(z)\n",
    "a = 1\n",
    "b = 2\n",
    "print(a+b)"
   ]
  },
  {
   "cell_type": "markdown",
   "metadata": {
    "colab_type": "text",
    "id": "BVgqK2sa_qdE",
    "slideshow": {
     "slide_type": "subslide"
    }
   },
   "source": [
    "En los ejemplos anteriores, así como en los algoritmos en diagramas de flujo, se utilizan variables para referirse a los datos. Se debe recordar que los datos, en realidad, están almacenados en la memoria (RAM) del computador, que está organizada por direcciones numéricas consecutivas. Sin embargo, para facilidad de la programación, los lenguajes de alto nivel nos permiten darle nombres arbitrarios a esas direcciones de memoria. En Python, también las variables son *nombres* que se asocian a los datos. En la terminología técnica de Python, a las variables se les llama *identificadores*, ya que son nombres que sirven para identificar datos."
   ]
  },
  {
   "cell_type": "markdown",
   "metadata": {
    "colab_type": "text",
    "id": "gdd-xlmh_qdG",
    "slideshow": {
     "slide_type": "slide"
    }
   },
   "source": [
    "<a id='sec3.1.4'></a>\n",
    "### 3.1.4 Operadores, expresiones e instrucciones\n",
    "Los operadores son los símbolos que se utilizan para representar operaciones *primitivas* del lenguaje. Algunos de los principales operadores de Python son:\n",
    "* `+`: suma\n",
    "* `-`: resta\n",
    "* `*`: multiplicación\n",
    "* `/`: división real\n",
    "* `//`: división entera\n",
    "* `%`: módulo (residuo de la división)\n",
    "* `**`: potenciación\n",
    "* `=`: asignación (asociar una variable a un dato)"
   ]
  },
  {
   "cell_type": "markdown",
   "metadata": {
    "colab_type": "text",
    "id": "g_9JBd6b_qdH",
    "slideshow": {
     "slide_type": "subslide"
    }
   },
   "source": [
    "En el siguiente código se muestran ejemplos de la utilización de todos los operadores mencionados, algunos utilizan *literales*, mientras que otros utilizan variables:"
   ]
  },
  {
   "cell_type": "code",
   "execution_count": null,
   "metadata": {
    "colab": {},
    "colab_type": "code",
    "id": "u9A2bDwZ_qdI",
    "slideshow": {
     "slide_type": "fragment"
    }
   },
   "outputs": [],
   "source": [
    "print(12+4-9)\n",
    "print(3*8/5)\n",
    "print(7//2)\n",
    "k = 2017\n",
    "print(k%10)\n",
    "g = 16\n",
    "print(g**2)\n",
    "h = g**0.5\n",
    "print(h)"
   ]
  },
  {
   "cell_type": "markdown",
   "metadata": {
    "colab_type": "text",
    "id": "bKuarCo2_qdL",
    "slideshow": {
     "slide_type": "subslide"
    }
   },
   "source": [
    "Las *expresiones* son combinaciones de operadores y operandos, es así como se puede decir que `x**3-z` o `a = 3` son expresiones válidas en Python. Por otro lado, se dice que las *instrucciones* son expresiones que por sí solas constituyen una operación que puede ser ejecutada por un computador. La expresión `x**3-z` *no* constituye una instrucción, mientras que `a = 3` sí."
   ]
  },
  {
   "cell_type": "markdown",
   "metadata": {
    "colab_type": "text",
    "id": "VsCeiw_0_qdM",
    "slideshow": {
     "slide_type": "slide"
    }
   },
   "source": [
    "<a id='sec3.1.5'></a>\n",
    "### 3.1.5 Strings: cadenas de caracteres\n",
    "Luego de presentar y dar algunos ejemplos asociados a los tipos de dato escalares, se ve un tipo de *arreglo* que es muy utilizado en la mayoría de los programas. Los `string` son secuencias de caracteres (símbolos) que tienen asociado un único identificador (variable) y son muy utilizados debido a que la mayoría de los programas necesitan en algún momento almacenar y procesar textos. Se puede entonces asociar una variable `string` a una palabra, frase o incluso un texto más extenso."
   ]
  },
  {
   "cell_type": "markdown",
   "metadata": {
    "colab_type": "text",
    "id": "WMk5sIt6_qdN",
    "slideshow": {
     "slide_type": "subslide"
    }
   },
   "source": [
    "Para asociar una variable a un literal tipo `string` se pueden utilizar las comillas simples o las dobles, como se muestra en el siguiente código. Además, el ejemplo muestra la utilización de los operadores `+` y `*` con datos tipo `string`. Note que al no tratarse de operadores `int`o `float`, estos operadores adquieren otro significado: *concatenación* y *replicación* respectivamente. La concatenación de dos `string` resulta en uno nuevo que contiene la unión de los dos. La replicación genera un `string` más extenso con repeticiones del original."
   ]
  },
  {
   "cell_type": "code",
   "execution_count": null,
   "metadata": {
    "colab": {},
    "colab_type": "code",
    "id": "H6dO79j0_qdP",
    "scrolled": true,
    "slideshow": {
     "slide_type": "subslide"
    }
   },
   "outputs": [],
   "source": [
    "name = 'Fernando Pérez'\n",
    "country = \"Colombia\"\n",
    "\n",
    "var1 = name + country\n",
    "print(var1)\n",
    "var2 = name * 3\n",
    "print(var2)\n",
    "var3 = name + 5\n",
    "print(var3)\n",
    "var4 = name * country\n",
    "print(var4)"
   ]
  },
  {
   "cell_type": "markdown",
   "metadata": {
    "colab_type": "text",
    "id": "5P8L5Dss_qdR",
    "slideshow": {
     "slide_type": "fragment"
    }
   },
   "source": [
    "Finalmente note que no todos los operadores pueden ser utilizados con variables `string`. En la línea 8 se aplica el operador `+` entre un `string` y un `int`, lo que resulta en un mensaje de error del intérprete, así mismo sucede con la línea 10 en la que utiliza el operador `*` entre dos variables `string`. Como el intérprete ejecuta una línea del programa a la vez, éste se detiene en la línea 8 cuando se presenta el primer error. Observe también que el intéprete advierte que es un `TypeError`, es decir, un error debido a un *tipo de dato* (incorrectamente utilizado)."
   ]
  },
  {
   "cell_type": "markdown",
   "metadata": {
    "colab_type": "text",
    "id": "ZxOvG6-a_qdT",
    "slideshow": {
     "slide_type": "slide"
    }
   },
   "source": [
    "#### Accediendo a los elementos de un string\n",
    "Como se dijo, las variables `string` son arreglos (no-escalares) y por lo tanto Python nos permite manipular individualmente los elementos que forman el arreglo. La operación fundamental cuando se trabaja con arreglos es la **indexación**, es decir, el acceso a elementos de un arreglo. El siguiente código muestra diferentes maneras de indexar la variable `name`:"
   ]
  },
  {
   "cell_type": "code",
   "execution_count": null,
   "metadata": {
    "colab": {},
    "colab_type": "code",
    "id": "ZLOdOuxs_qdV",
    "slideshow": {
     "slide_type": "subslide"
    }
   },
   "outputs": [],
   "source": [
    "name = 'Fernando Pérez'\n",
    "print(name[0])\n",
    "print(name[7])\n",
    "print(name[-1])\n",
    "\n",
    "x = len(name)\n",
    "print(x)\n",
    "print(name[x-1])\n",
    "print(name[x])\n",
    "print(name[4.5])"
   ]
  },
  {
   "cell_type": "markdown",
   "metadata": {
    "colab_type": "text",
    "id": "sZqH8NCF_qdY",
    "slideshow": {
     "slide_type": "subslide"
    }
   },
   "source": [
    "Como se ve, para acceder a un elemento particular de `name` se agrega entre corchetes `[]`el número entero que representa la posición del elemento contando desde cero. A ese número se le llama *índice* o *posición* del elemento. El índice puede ser un literal, una variable, o una expresión cuyo valor final sea un número entero. Note que -1 representa el índice del último elemento del `string` y -2 representaría el penúltimo.\n",
    "\n",
    "Note que en la línea 6 del anterior código, se utiliza la función `len()`, que sirve para conocer la longitud de\n",
    "las últimas dos instrucciones (líneas 9 y 10). En la línea 9 se intenta indexar la posición 14 de un `string` que solo tiene 14 elementos, es decir, el primer elemento es el 0 y el último es el 13, por lo tanto, el 14 no existe. En la línea 10, se utiliza un número con décimas para indexar, lo cual no tiene sentido."
   ]
  },
  {
   "cell_type": "markdown",
   "metadata": {
    "colab_type": "text",
    "id": "OT_dFzne_qdZ",
    "slideshow": {
     "slide_type": "subslide"
    }
   },
   "source": [
    "#### Slicing: accediendo a un segmento de un string\n",
    "Python también nos da la posibilidad de acceder a un segmento del `string`, como se muestra en el siguiente código ejemplo. Para hacer *slicing* (segmentación) se pone entre corchetes `[]` el inicio y el fin del segmento separados por `:`. La segmentación dará como resultado otro `string` que será una copia del original desde la posición de inicio hasta **antes** de la posición de fin del segmento. Note que le línea 3 del código ejemplo solo muestra los elementos 0, 1 y 2 (`Fer`), pero no el 3. Si se omite el índice de inicio o de fin del segmento, el intérprete lo asume como el inicio o fin del `string` original."
   ]
  },
  {
   "cell_type": "code",
   "execution_count": null,
   "metadata": {
    "colab": {},
    "colab_type": "code",
    "id": "ZKZriECb_qdb",
    "slideshow": {
     "slide_type": "subslide"
    }
   },
   "outputs": [],
   "source": [
    "name = 'Fernando Pérez'\n",
    "x = len(name)\n",
    "print(name[0:3])\n",
    "print(name[0:x])\n",
    "print(name[:])\n",
    "print(name[4:11])\n",
    "print(name[7:])"
   ]
  },
  {
   "cell_type": "markdown",
   "metadata": {
    "colab_type": "text",
    "id": "ZtEyemMQ_qdj",
    "slideshow": {
     "slide_type": "subslide"
    }
   },
   "source": [
    "<a id='sec3.1.6'></a>\n",
    "### 3.1.6 Entrada y salida\n",
    "Para que un programa reciba y entregue datos, por ejemplo, a través de un teclado y una pantalla respectivamente, Python nos ofrece las funciones `input()` y `print()`. La primera, aunque tiene como objetivo principal recibir datos, a la vez permite, anteceder la recepción de los mismos con algún mensaje que le indique al usuario qué es lo que el programa espera recibir. El siguiente código muestra un ejemplo:"
   ]
  },
  {
   "cell_type": "code",
   "execution_count": null,
   "metadata": {
    "colab": {},
    "colab_type": "code",
    "id": "9Bfo1G_E_qdk",
    "slideshow": {
     "slide_type": "subslide"
    }
   },
   "outputs": [],
   "source": [
    "name = input('What is your name? ')\n",
    "print('Good morning', name, '!')\n",
    "\n",
    "age = input('How old are you? ')\n",
    "print('In one year you will be', int(age)+1)"
   ]
  },
  {
   "cell_type": "markdown",
   "metadata": {
    "colab_type": "text",
    "id": "OTcYd-74_qdn",
    "slideshow": {
     "slide_type": "subslide"
    }
   },
   "source": [
    "Es importante aclarar que la función `input()` *siempre* entrega un `string`. Es por esto que en el ejemplo mostrado, en la línea 5 es necesario convertir la variable `age` a tipo `int`, de manera que la operación `+1` tenga sentido. Esto nos lleva a anotar también, que las cadenas de caracteres no solo se componen de letras, sino que también pueden tener números, signos de puntuación o matemáticos y en general cualquier símbolo que esté definido en la tabla [ASCII](https://es.wikipedia.org/wiki/ASCII)."
   ]
  },
  {
   "cell_type": "markdown",
   "metadata": {
    "colab_type": "text",
    "id": "5c-Oo6TQ_qdr",
    "slideshow": {
     "slide_type": "subslide"
    }
   },
   "source": [
    "La función `print()` nos permite poner en pantalla información literal así como valores de variables. Si en un llamado a la función `print()` se quieren imprimir varias cosas, éstas deben ir separadas por comas, como se muestra en la línea 5 del ejemplo anterior, donde se imprime un mensaje literal y luego el valor de la expresión `int(age)+1`."
   ]
  },
  {
   "cell_type": "markdown",
   "metadata": {
    "colab_type": "text",
    "id": "qAVPz9rr_qds",
    "slideshow": {
     "slide_type": "slide"
    }
   },
   "source": [
    "<a id='sec3.1.7'></a>\n",
    "### 3.1.7 Primitivas, operadores y funciones\n",
    "Ya en la Unidad 2 se habían definido las *primitivas* como las operaciones que un lenguaje le ofrece ya *listas* al programador para construir sus algoritmos. Los operadores que se han visto en Python, tales como `+` o `-` implementan operaciones primitivas básicas del lenguaje. Por otro lado, ya se han mencionado algunas *funciones* como `print()`, `len()` o `input()`, que también se pueden considerar como primitivas del lenguaje, dado que le proporcionan al programador operaciones listas para su uso. Estas funciones primitivas hacen parte de [The Python Standard Library](https://docs.python.org/3/library/index.html) y se conocen como funciones [built-in](https://docs.python.org/3/library/functions.html). En la Unidad 4 se verá cómo el programador puede construir sus propias funciones."
   ]
  },
  {
   "cell_type": "markdown",
   "metadata": {
    "colab_type": "text",
    "id": "ZuDBGjDf_qdx",
    "slideshow": {
     "slide_type": "slide"
    }
   },
   "source": [
    "<a id='sec3.1.8'></a>\n",
    "### 3.1.8 Condicionales\n",
    "Para implementar una condición, se utiliza en Python la instrucción `if` seguida de una expresión booleana, es decir, que su valor sea `True` o `False`. El siguiente código muestra un ejemplo:"
   ]
  },
  {
   "cell_type": "code",
   "execution_count": null,
   "metadata": {
    "colab": {},
    "colab_type": "code",
    "id": "nSIxdSN0_qdz",
    "slideshow": {
     "slide_type": "fragment"
    }
   },
   "outputs": [],
   "source": [
    "apples = input('Price of apples: ')\n",
    "mangos = input('Price of mangos: ')\n",
    "\n",
    "if int(apples) > int(mangos):\n",
    "    print('Mangos are cheaper')\n",
    "else:\n",
    "    print('Apples are cheaper')"
   ]
  },
  {
   "cell_type": "markdown",
   "metadata": {
    "colab_type": "text",
    "id": "8r9wBkoI_qd6",
    "slideshow": {
     "slide_type": "subslide"
    }
   },
   "source": [
    "De la línea 4 en adelante, el anterior código se lee así:\n",
    "\n",
    "    Si el valor de apples es mayor que el de mangos,\n",
    "        imprima 'Mangos are cheaper';\n",
    "    de lo contrario,\n",
    "        imprima 'Apples are cheaper'.\n",
    "\n",
    "La instrucción `else` antecede a las instrucciones que deben ejecutarse en caso de que la condición del `if` *no* sea verdadera. Note que las instrucciones de las líneas 5 y 7 tienen sangría (espacios en blanco al inicio). Esta sangría es muy importante, pues es la manera como se le dice al intérprete que una instrucción está condicionada por aquella que esté en el siguiente nivel con menor sangría."
   ]
  },
  {
   "cell_type": "markdown",
   "metadata": {
    "colab_type": "text",
    "id": "on5nXXq__qd7",
    "slideshow": {
     "slide_type": "subslide"
    }
   },
   "source": [
    "En muchos casos, una sola condición no es suficiente para la implementación de un algoritmo. El siguiente código muestra dos extensiones que pueden tener las instrucciones condicionales en Python. En primer lugar, la línea 2 muestra que se puede tener una instrucción `if` condicionada a otra instrucción `if` previa. Esta jerarquía se indica con el desplazamiento (sangría) a la derecha.\n",
    "\n",
    "La instrucción `elif` viene de la contracción de `else` e `if` y sirve para evaluar una segunda condición en caso de que la anterior, en el mismo nivel de jerarquía, no se haya cumplido. En el ejemplo mostrado, si `x%2` no es igual a `0`, entonces se evaluará si `x%3` no es igual a `0`. Por el contrario, si `x%2` sí es igual a `0`, entonces la instrucción de la línea 6 (`elif`) no se ejecutará."
   ]
  },
  {
   "cell_type": "code",
   "execution_count": null,
   "metadata": {
    "colab": {},
    "colab_type": "code",
    "id": "8vXF7SvH_qd8",
    "slideshow": {
     "slide_type": "subslide"
    }
   },
   "outputs": [],
   "source": [
    "x = int(input('Enter a number: '))\n",
    "if x%2 == 0:\n",
    "    if x%3 == 0:\n",
    "        print('Divisible by 2 and 3')\n",
    "    else:\n",
    "        print('Divisible by 2 and not by 3')\n",
    "elif x%3 == 0:\n",
    "    print('Divisible by 3 and not by 2')\n",
    "else:\n",
    "    print('Not divisible by 2 nor by 3')"
   ]
  },
  {
   "cell_type": "markdown",
   "metadata": {
    "colab_type": "text",
    "id": "9KZNQeqU_qd-",
    "slideshow": {
     "slide_type": "subslide"
    }
   },
   "source": [
    "La siguiente figura muestra el diagrama de flujo correspondiente al código mostrado anteriormente:\n",
    "<img src=\"images/Inf1-u3-fig-3.png\" alt=\"ifelifelse\"/>\n",
    "\n",
    "                                    Fig. 3. Diagrama de flujo: ejemplo de condicionales"
   ]
  },
  {
   "cell_type": "markdown",
   "metadata": {
    "colab_type": "text",
    "id": "gTF1l-38_qeA",
    "slideshow": {
     "slide_type": "slide"
    }
   },
   "source": [
    "**Programas de tiempo constante:** los programas que se han visto hasta el momento comparten una característica importante y es que sin importar como cambien los datos de entrada, cada ejecución de cada programa tomará siempre el mismo tiempo. En otras palabras, estos programas siempre deben ejecutar la misma cantidad de instrucciones. En cambio, la mayoría de los programas con ciclos, como los que se verán en la próxima sección, no comparten esta característica."
   ]
  },
  {
   "cell_type": "markdown",
   "metadata": {
    "colab_type": "text",
    "id": "vlaRBPY4_qeB",
    "slideshow": {
     "slide_type": "slide"
    }
   },
   "source": [
    "<a id='sec3.1.9'></a>\n",
    "### 3.1.9 Operadores de comparación y booleanos\n",
    "Los operadores de comparación en Python son:\n",
    "* `==`: igualdad\n",
    "* `!=`: diferencia\n",
    "* `>`: mayor que\n",
    "* `<`: menor que\n",
    "* `>=`: mayor o igual\n",
    "* `<=`: menor o igual"
   ]
  },
  {
   "cell_type": "markdown",
   "metadata": {
    "colab_type": "text",
    "id": "zClZfd61_qeC",
    "slideshow": {
     "slide_type": "subslide"
    }
   },
   "source": [
    "Por otro lado, se tienen también los llamados operadores booleanos:\n",
    "* `and`: produce verdadero si *ambos* operandos son verdaderos.\n",
    "* `or`: produce verdadero si *alguno* de los operandos es verdadero.\n",
    "* `not`: cambia de verdadero a falso y viceversa el valor booleano de una variable."
   ]
  },
  {
   "cell_type": "markdown",
   "metadata": {
    "colab_type": "text",
    "id": "5PtLJrjN_qeD",
    "slideshow": {
     "slide_type": "subslide"
    }
   },
   "source": [
    "El siguiente código muestra ejemplos de uso de los operadores booleanos. Note que el operador `not` solo requiere un operando."
   ]
  },
  {
   "cell_type": "code",
   "execution_count": null,
   "metadata": {
    "colab": {},
    "colab_type": "code",
    "id": "fW82b99L_qeE",
    "slideshow": {
     "slide_type": "fragment"
    }
   },
   "outputs": [],
   "source": [
    "x = int(input('Enter a number: '))\n",
    "y = int(input('Enter a number: '))\n",
    "if x%2 == 0 and y > 9:\n",
    "    print('x is even and y has more than two digits')\n",
    "elif x < 0 or y < 0:\n",
    "    print('x or y are negative')\n",
    "\n",
    "print(not(2 > 1))"
   ]
  },
  {
   "cell_type": "markdown",
   "metadata": {
    "colab_type": "text",
    "id": "B7Q8A6ml_qeI",
    "slideshow": {
     "slide_type": "slide"
    }
   },
   "source": [
    "<a id='sec3.1.10'></a>\n",
    "### 3.1.10 Ciclos\n",
    "En Python se pueden implementar ciclos utilizando la instrucción `while`. *Mientras* que la condición que acompaña al `while` sea verdadera, las instrucciones que están condicionadas al `while` se ejecutarán repetidamente. El siguiente código nos muestra la implementación de un sencillo algoritmo que suma los primeros `N` números:"
   ]
  },
  {
   "cell_type": "code",
   "execution_count": null,
   "metadata": {
    "colab": {},
    "colab_type": "code",
    "id": "6FW1qEWu_qeM",
    "slideshow": {
     "slide_type": "subslide"
    }
   },
   "outputs": [],
   "source": [
    "N = int(input('Enter a number: '))\n",
    "num = 1\n",
    "s = 0\n",
    "while num <= N:\n",
    "    s = s + num\n",
    "    num = num + 1\n",
    "\n",
    "print('The first', N, 'integers sum', s)"
   ]
  },
  {
   "cell_type": "markdown",
   "metadata": {
    "colab_type": "text",
    "id": "L-AWKdem_qeR",
    "slideshow": {
     "slide_type": "subslide"
    }
   },
   "source": [
    "La siguiente figura muestra el diagrama de flujo correspondiente al código mostrado:\n",
    "\n",
    "<img src=\"images/Inf1-u3-fig-4.png\" alt=\"sum_n\" width=\"300\"/>\n",
    "\n",
    "                                                  Fig. 4. Flujograma: ejemplo de ciclos"
   ]
  },
  {
   "cell_type": "markdown",
   "metadata": {
    "colab_type": "text",
    "id": "WYqQ_KKk_qeS",
    "slideshow": {
     "slide_type": "slide"
    }
   },
   "source": [
    "<a id='sec3.2'></a>\n",
    "## 3.2 La eficiencia de los algoritmos\n",
    "En esta sección se seguirán explorando aspectos del lenguaje Python, sin embargo, estará más enfocada en estudiar la eficiencia de los algoritmos."
   ]
  },
  {
   "cell_type": "markdown",
   "metadata": {
    "colab_type": "text",
    "id": "hj-iuXmP_qea",
    "slideshow": {
     "slide_type": "slide"
    }
   },
   "source": [
    "<a id='sec3.2.1'></a>\n",
    "### 3.2.1 Enumeración exhaustiva\n",
    "Considere el siguiente programa que calcula la raíz cúbica entera de un número, si la tiene:"
   ]
  },
  {
   "cell_type": "code",
   "execution_count": null,
   "metadata": {
    "colab": {},
    "colab_type": "code",
    "id": "wTJDeQSg_qeb",
    "slideshow": {
     "slide_type": "fragment"
    }
   },
   "outputs": [],
   "source": [
    "n = int(input('Enter an integer number: ')) \n",
    "cube = 0\n",
    "while cube**3 < abs(n): \n",
    "    cube = cube + 1\n",
    "\n",
    "if cube**3 != abs(n): \n",
    "    print(n, 'is not a perfect cube') \n",
    "else: \n",
    "    if n < 0: \n",
    "        cube = -cube \n",
    "    print('Cube root of', n, 'is', cube)"
   ]
  },
  {
   "cell_type": "markdown",
   "metadata": {
    "colab_type": "text",
    "id": "LQmH_rZS_qee",
    "slideshow": {
     "slide_type": "subslide"
    }
   },
   "source": [
    "***Nota Python***\n",
    "\n",
    "- El ejemplo anterior se utiliza la función `abs()` de Python para calcular el *valor absoluto* de un número. De esta manera, el algoritmo mostrado funciona tanto para números positivos como para negativos.\n",
    "- Pruebe borrar la segunda línea del ejemplo anterior y ejecutar el código. El intérprete dentendrá la ejecución y mostrará un error debido a que la expresión `cube**3` requiere que la variable `cube` ya tenga un valor."
   ]
  },
  {
   "cell_type": "markdown",
   "metadata": {
    "colab_type": "text",
    "id": "TOWh1jsP_qef",
    "slideshow": {
     "slide_type": "subslide"
    }
   },
   "source": [
    "Este algoritmo utiliza una estrategia muy simple para encontrar la raíz: probar cada número entero empezando por el cero hasta encontrar la raíz o superar el valor límite. A esta estrategia se le llama *enumeración exhaustiva* ya que se prueba *todas* las posibles soluciones hasta encontrarla. A este tipo de algoritmos se les conoce como de *fuerza bruta* en comparación a otras soluciones más elaboradas que resultan en algoritmos más eficientes."
   ]
  },
  {
   "cell_type": "markdown",
   "metadata": {
    "colab_type": "text",
    "id": "aVpsdLZc_qeg",
    "slideshow": {
     "slide_type": "subslide"
    }
   },
   "source": [
    "Para entender mejor el comportamiento de un algoritmo que contiene un ciclo como este, se puede imprimir en cada iteración los valores de las variables que determinan si el ciclo continua o termina, es decir, aquellas que hacen parte de la *condición de terminación* del mismo. De esta manera, se puede ver como cambian dichos valores y cuántas repeticiones del ciclo son necesarias para encontrar la respuesta. Si se prueba con un número muy grande como dato de entrada, se observará cómo la cantidad de repeticiones crecerá enormemente."
   ]
  },
  {
   "cell_type": "code",
   "execution_count": null,
   "metadata": {
    "colab": {},
    "colab_type": "code",
    "id": "Ze1NVuPi_qeh",
    "scrolled": false,
    "slideshow": {
     "slide_type": "subslide"
    }
   },
   "outputs": [],
   "source": [
    "n = int(input('Enter an integer number: ')) \n",
    "cube = 0 \n",
    "while cube**3 < abs(n): \n",
    "    print('cube**3:',cube**3,'abs(n):',abs(n),'abs(n)-cube**3:',abs(n)-cube**3)\n",
    "    cube = cube + 1    \n",
    "\n",
    "if cube**3 != abs(n): \n",
    "    print(n, 'is not a perfect cube') \n",
    "else: \n",
    "    if n < 0: \n",
    "        cube = -cube \n",
    "    print('Cube root of', n, 'is', cube)"
   ]
  },
  {
   "cell_type": "markdown",
   "metadata": {
    "colab_type": "text",
    "id": "jF6BrRsS_qer",
    "slideshow": {
     "slide_type": "slide"
    }
   },
   "source": [
    "#### Ciclos `for`\n",
    "Los ciclos `for` de Python nos permiten expresar de una forma más simple, por ejemplo, ciclos que iteran sobre una secuencia de enteros. El siguiente código nos muestra una versión del algoritmo de enumeración exhaustiva de la raíz cúbica, utilizando la instrucción `for` en lugar de `while`:"
   ]
  },
  {
   "cell_type": "code",
   "execution_count": null,
   "metadata": {
    "colab": {},
    "colab_type": "code",
    "id": "LpoawYHf_qes",
    "scrolled": true,
    "slideshow": {
     "slide_type": "fragment"
    }
   },
   "outputs": [],
   "source": [
    "n = int(input('Enter an integer number: ')) \n",
    "for cube in range(0, abs(n)+1): \n",
    "    if cube **3 >= abs(n): \n",
    "        break \n",
    "\n",
    "if cube**3 != abs(n): \n",
    "    print(n, 'is not a perfect cube') \n",
    "else: \n",
    "    if n < 0: \n",
    "        cube = -cube \n",
    "    print('Cube root of', n, 'is', cube)"
   ]
  },
  {
   "cell_type": "markdown",
   "metadata": {
    "colab_type": "text",
    "id": "4aqzqFE0_qe4",
    "slideshow": {
     "slide_type": "subslide"
    }
   },
   "source": [
    "La instrucción `for` le asigna en cada repetición del ciclo un valor a la variable `cube` de acuerdo a la lista de valores en el rango 0 a abs(n)+1. Se dice entonces que el ciclo `for` está *iterando* en ese rango. Sin embargo, el código tiene una condición dentro del ciclo, mediante la instrucción `if`, que hará terminar las repeticiones con un `break` si `cube **3 >= abs(n)`. Note que las instrucciones `cube = 0` y `cube = cube+1` no son necsarias en este caso, ya que el `for` se encarga de asignarle valores a `cube`."
   ]
  },
  {
   "cell_type": "markdown",
   "metadata": {
    "colab_type": "text",
    "id": "mNkBg7Fu_qfA",
    "slideshow": {
     "slide_type": "subslide"
    }
   },
   "source": [
    "***Nota Python***\n",
    "- La función `range(a,b,c)` de Python genera una lista de números enteros que inicia en `a` y llega hasta `b` con incrementos opcionales de `c`. Pruebe por ejemplo ejecutar la instrucción `range(2,10,3)` o `range(30,15,-5)`.\n",
    "- La instrucción `break` de Python se utiliza siempre dentro de un ciclo (`for` o `while`) para detener sus repeticiones al cumplirse alguna condición."
   ]
  },
  {
   "cell_type": "markdown",
   "metadata": {
    "colab_type": "text",
    "id": "MjU3KEib_qfB",
    "slideshow": {
     "slide_type": "slide"
    }
   },
   "source": [
    "#### Ciclos `for` con `strings`\n",
    "Los ciclos `for` también pueden *iterar* sobre cadenas de caracteres. En el siguiente código, cada iteración del ciclo hará que la variable `let` tome un carácter de la cadena `name`:"
   ]
  },
  {
   "cell_type": "code",
   "execution_count": null,
   "metadata": {
    "colab": {
     "base_uri": "https://localhost:8080/",
     "height": 187
    },
    "colab_type": "code",
    "executionInfo": {
     "elapsed": 11356,
     "status": "ok",
     "timestamp": 1553806381197,
     "user": {
      "displayName": "SEBASTIAN ISAZA RAMIREZ",
      "photoUrl": "",
      "userId": "16515514303117769691"
     },
     "user_tz": 300
    },
    "id": "kF8NLBRA_qfC",
    "outputId": "150c7cdc-6cbf-447b-dc4e-0b1f26b77393",
    "scrolled": true,
    "slideshow": {
     "slide_type": "fragment"
    }
   },
   "outputs": [],
   "source": [
    "#Print a string with each letter followed by a star\n",
    "name = input('Enter your name: ')\n",
    "for let in name: \n",
    "    print(let + '*')"
   ]
  },
  {
   "cell_type": "markdown",
   "metadata": {
    "colab_type": "text",
    "id": "yaTNlONh_qfE",
    "slideshow": {
     "slide_type": "subslide"
    }
   },
   "source": [
    "***Nota Python***\n",
    "- Los *comentarios* en un programa, son textos que el programador escribe a manera de explicaciones sobre el código. Para poner un comentario debe iniciarse con el símbolo `#` y el intérprete ignorará todo el resto de texto en esa línea, ya que los comentarios son para los programadores, no para el intérprete, pues no sabrá entenderlos."
   ]
  },
  {
   "cell_type": "markdown",
   "metadata": {
    "colab_type": "text",
    "id": "7374g9cl_qfF"
   },
   "source": [
    "#### La instrucción `in`\n",
    "En ciclos y condicionales se utiliza con frecuencia la instrucción `in`, que asume dos significados diferentes. En el caso del `for`, la instrucción `in` es obligatoria y representa la asignación de valores que se hace entre las dos variables involucradas en el `for`.\n",
    "\n",
    "En el caso del `if`, la instrucción `in` sirve para evaluar si un valor está contenido en otro."
   ]
  },
  {
   "cell_type": "code",
   "execution_count": null,
   "metadata": {
    "colab": {},
    "colab_type": "code",
    "id": "VLmRBd91_qfG"
   },
   "outputs": [],
   "source": [
    "pal1 = input('Ingrese una palabra: ')\n",
    "pal2 = input('Ingrese otra palabra: ')\n",
    "x = 0\n",
    "lts = ''\n",
    "for letra in pal1:\n",
    "    if letra in pal2 and not letra in lts:\n",
    "        x = x + 1\n",
    "        lts = lts + letra\n",
    "\n",
    "print('Las palabras ingresadas tienen ' + str(x) + ' letras en común')"
   ]
  },
  {
   "cell_type": "markdown",
   "metadata": {
    "colab_type": "text",
    "id": "b12d8oNe_qfI",
    "slideshow": {
     "slide_type": "slide"
    }
   },
   "source": [
    "<a id='sec3.2.2'></a>\n",
    "### 3.2.2 Soluciones aproximadas\n",
    "El algoritmo de enumeración exhaustiva evalúa todas las posibles soluciones, que en muchos casos es imposible hacerlo, dado que el rango de posibles valores es infinito. A continuación se verán tres estrategias diferentes para calcular la raíz cuadrada de un número y se comparará la eficiencia de cada algoritmo."
   ]
  },
  {
   "cell_type": "markdown",
   "metadata": {
    "colab_type": "text",
    "id": "CpU3FbvX_qfJ",
    "slideshow": {
     "slide_type": "slide"
    }
   },
   "source": [
    "#### Fuerza bruta\n",
    "En el siguiente ejemplo se muestra un algoritmo que calcula la raíz cuadrada real (con décimas) de un número de manera aproximada:"
   ]
  },
  {
   "cell_type": "code",
   "execution_count": null,
   "metadata": {
    "colab": {},
    "colab_type": "code",
    "id": "O86_O1ll_qfK",
    "slideshow": {
     "slide_type": "fragment"
    }
   },
   "outputs": [],
   "source": [
    "#Find an approximation of the square root \n",
    "x = int(input('Enter a number: '))\n",
    "epsilon = 0.01 #epsilon = 0.0001 #epsilon = 0.1\n",
    "step = 0.0001 #step = 0.1 #step = 0.8\n",
    "guesses = 0\n",
    "ans = 0.0\n",
    "while abs(ans**2 - x) >= epsilon and ans <= x:\n",
    "    ans += step\n",
    "    guesses += 1\n",
    "\n",
    "if abs(ans**2 - x) >= epsilon:\n",
    "    print('Couldn\\'t find the square root of', x)\n",
    "else:\n",
    "    print(ans, 'is approximately the square root of', x)\n",
    "\n",
    "print('There were', guesses, 'guesses')"
   ]
  },
  {
   "cell_type": "markdown",
   "metadata": {
    "colab_type": "text",
    "id": "PWgaPChn_qfj",
    "slideshow": {
     "slide_type": "subslide"
    }
   },
   "source": [
    "Esta solución aproximada utiliza una estrategia de fuerza bruta, al igual que el algoritmo de enumeración exhaustiva. Iniciando en el valor 0, la variable `ans` se incrementa en cada iteración en una cantidad fija determinada por `step`. Note que el ciclo tiene dos condiciones de terminación unidas por el operador `and`, lo que quiere decir que si cualquiera de las dos se vuelve falsa, el ciclo se terminará.\n",
    "\n",
    "La primera condición (`abs(ans**2 - x) >= epsilon`) dice que el ciclo debe continuar mientras que la posible solución (`ans`) elevada al cuadrado esté muy alejada del valor al cual se le está calculando la raíz (`x`). El valor de `epsilon` determina cuándo la aproximación al resultado es suficientemente buena.\n",
    "\n",
    "Debe observarse, sin embargo, que es posible que la primera condición nunca se vuelva falsa, es decir, que el algoritmo no logre encontrar una aproximación suficientemente buena de acuerdo a `epsilon`. En ese caso, la segunda condición (`ans <= x`) sirve para detener el ciclo ya que no es posible que la raíz cuadrada de `x` sea mayor que `x`.\n",
    "\n",
    "Luego de que el ciclo termina, la condición `if abs(ans**2 - x) >= epsilon:` es necesaria para saber por qué se terminó el ciclo: si fue por la primera condición hacerse falsa (se encontró una solución) o por la segunda (no se encontró una solución)."
   ]
  },
  {
   "cell_type": "markdown",
   "metadata": {
    "colab_type": "text",
    "id": "UrCASCQS_qfk",
    "slideshow": {
     "slide_type": "slide"
    }
   },
   "source": [
    "#### Precisión vs. velocidad\n",
    "En el algoritmo anterior, la variable `guesses` está solo para contar la cantidad de repeticiones del ciclo, lo que nos da una buena idea de la cantidad de trabajo computacional que se requiere para su ejecución. Como se ve, la variable `step` determina el incremento que se le hace a `ans` en cada iteración; si step tiene un valor mayor, los saltos de `ans` serán mayores y se avanzará más rápido camino a la solución (pruebe con `step = 0.1`). Sin embargo, al dar pasos más grandes es más probable que el algoritmo no satisfaga la precisión definida por `epsilon` (pruebe con `step = 0.8`). Al mismo tiempo, valores menores o mayores de `epsilon` forzarán a que la solución sea más o menos precisa respectivamente (pruebe con `epsilon = 0.0001` y `epsilon = 0.1`). Si se reduce el valor de `epsilon` para aumentar la precisión, es probable que se requiera disminuir el valor de `step`, lo que disminuirá la velocidad del algoritmo."
   ]
  },
  {
   "cell_type": "markdown",
   "metadata": {
    "colab_type": "text",
    "id": "y3NjL1zQ_qfl",
    "slideshow": {
     "slide_type": "subslide"
    }
   },
   "source": [
    "Si el dato de entrada de este algoritmo (ver código anterior) es muy pequeño, quizás ni siquiera tenga sentido escribir un programa para ello. Si los datos de entrada son números más grandes, este programa probablemente nos resultará útil y suficientemente rápido. Pero si los números son muy grandes o quizá necesito calcular la raíz cuadrada de muchos números, lo mejor será buscar un algoritmo más eficiente."
   ]
  },
  {
   "cell_type": "markdown",
   "metadata": {
    "colab_type": "text",
    "id": "bbcwQZvg_qfl",
    "slideshow": {
     "slide_type": "slide"
    }
   },
   "source": [
    "#### Búsqueda por bisección\n",
    "El algoritmo de bisección utiliza una estrategia más inteligente para encontrar una solución al problema del cálculo de la raíz que se ha utilizado como ejemplo. La idea general del algoritmo consiste en evaluar, en cada iteración, el punto medio del rango en el que se está buscando la solución. Dicha evaluación le permite al algoritmo *bisectar* el espacio de búsqueda en dos y decidir hacia qué lado se encuentra la solución.\n",
    "\n",
    "En la Figura 5 se muestran los primeros pasos del algoritmo al buscar la raíz cuadrada de 25. Dado que el rango de búsqueda se establece entre 0 y 25, en su primera iteración el algoritmo de bisección considera como primer candidato el número 12.5, que se encuentra justo en la mitad del rango. Al confirmar que $12.5^2$ está muy por **encima** de 25, el algoritmo decide que la respuesta se encuentra en entre 0 y 12.5. En la segunda iteración se prueba con el 6.25 y de nuevo está por encima de 25, así que el nuevo rango de búsqueda sera de 0 a 6.25. En el tercero intento, el algoritmo prueba con 3.125 y en este caso el resultado es un número menor al 25, lo que lleva al algoritmo a probar el rango que va desde 3.125 hasta 6.25. De esa manera, el algoritmo continúa hasta encontrar un valor, que al elevarlo al cuadrado no se diferencia de 25 en una cantidad superior a `epsilon`."
   ]
  },
  {
   "cell_type": "markdown",
   "metadata": {
    "colab_type": "text",
    "id": "RPEya3JN_qfm",
    "slideshow": {
     "slide_type": "subslide"
    }
   },
   "source": [
    "<img src=\"images/Inf1-u3-fig-5.png\" alt=\"Biseccion\" width=\"400\"/>\n",
    "\n",
    "                              \n",
    "                              Fig. 5. Primeros pasos de un algoritmo en una búsqueda por bisección"
   ]
  },
  {
   "cell_type": "markdown",
   "metadata": {
    "colab_type": "text",
    "id": "8bruCHLd_qfs",
    "slideshow": {
     "slide_type": "subslide"
    }
   },
   "source": [
    "La implementación del algoritmo en Python se muestra en el siguiente código. Aunque la condición principal de terminación del ciclo es igual a la del algoritmo anterior, la segunda no es necesaria, dado que el valor de `ans` no se incrementará indefinidamente. Nótese además que en cada iteración, un condicional evalúa hacia que lado debe continuar la búsqueda de la solución: hacia números mayores o menores que el actual valor de `ans`. Las variables `low` y `high` almacenan el punto bajo y alto del rango de búsqueda. El nuevo valor de `ans` es el punto medio del nuevo rango."
   ]
  },
  {
   "cell_type": "code",
   "execution_count": null,
   "metadata": {
    "colab": {},
    "colab_type": "code",
    "id": "px-7_YiG_qft",
    "slideshow": {
     "slide_type": "fragment"
    }
   },
   "outputs": [],
   "source": [
    "#Find a FASTER approximation of the square root \n",
    "x = int(input('Enter a number: '))\n",
    "epsilon = 0.01\n",
    "guesses = 0\n",
    "low = 0.0\n",
    "high = max(1.0, x)\n",
    "ans = (high + low)/2.0\n",
    "while abs(ans**2 - x) >= epsilon:\n",
    "    guesses += 1\n",
    "    if ans**2 < x:\n",
    "        low = ans\n",
    "    else:\n",
    "        high = ans\n",
    "    ans = (high + low)/2.0\n",
    "\n",
    "print(ans, 'is approximately the square root of', x)\n",
    "print('There were', guesses, 'guesses')"
   ]
  },
  {
   "cell_type": "markdown",
   "metadata": {
    "colab_type": "text",
    "id": "RiRzCilJ_qfv",
    "slideshow": {
     "slide_type": "fragment"
    }
   },
   "source": [
    "Observe que para una misma precisión (mismo valor de `epsilon`), el algoritmo de bisección hace solo 13 iteraciones, en comparación con 49990 que hace el algoritmo de fuerza bruta."
   ]
  },
  {
   "cell_type": "markdown",
   "metadata": {
    "colab_type": "text",
    "id": "U5u-v6F5_qfw",
    "slideshow": {
     "slide_type": "subslide"
    }
   },
   "source": [
    "**Nota Python**\n",
    "- La función `max()` de Python sirve para calcular el máximo de una lista de números (en este caso solo dos)."
   ]
  },
  {
   "cell_type": "markdown",
   "metadata": {
    "colab_type": "text",
    "id": "Tpo-dzkb_qfx",
    "slideshow": {
     "slide_type": "fragment"
    }
   },
   "source": [
    "Note que la función `max()` nos sirve para darle al algoritmo la capacidad de calcular correctamente la raíz de números menores que `1`. Cuando el valor de `x` es menor que `1`, el límite superior del rango de búsqueda debe ser `1`, dado que la raíz cuadrada de  `x`, en ese caso, será un número mayor que `x` y menor que `1`. La Figura 6 muestra el diagrama de flujo del algoritmo de bisección."
   ]
  },
  {
   "cell_type": "markdown",
   "metadata": {
    "colab_type": "text",
    "id": "OgBL1dLs_qfx",
    "slideshow": {
     "slide_type": "subslide"
    }
   },
   "source": [
    "<img src=\"images/Inf1-u3-fig-6.png\" alt=\"Biseccion\" width=\"500\"/>\n",
    "\n",
    "                                Fig. 6. Flujograma: ejemplo de un algoritmo de bisección"
   ]
  },
  {
   "cell_type": "markdown",
   "metadata": {
    "colab_type": "text",
    "id": "6gX8qYgU_qfz",
    "slideshow": {
     "slide_type": "slide"
    }
   },
   "source": [
    "#### Newton-Raphson\n",
    "El método de Newton-Raphson es un algoritmo para encontrar los ceros o raíces de una función real. Si $g$ es una *aproximación* a una raíz de una función $f$, entonces:\n",
    "\n",
    "$g-f(g)/f'(g)$\n",
    "\n",
    "donde $f'$ es la derivada de $f$, es una mejor aproximación.\n",
    "\n",
    "Esto implica que si se utiliza de manera iterativa este método, se obtendrá en cada iteración, un valor más cercano a la raíz de la función.\n",
    "\n",
    "Dado que el problema es encontrar la raíz cuadrada de un número cualquiera, se puede definir la función $f(x)=x^2-k$ y decir que la raíz cuadrada de $k$ será una de la raíz real de $f$.\n",
    "\n",
    "Al aplicar el método de Newton-Raphson se tiene que la formula iterativa queda así:\n",
    "\n",
    "$g-(g²-k)/2g$\n",
    "\n",
    "donde $2g$ es la derivada de $x²-k$ evaluada en $g$."
   ]
  },
  {
   "cell_type": "code",
   "execution_count": null,
   "metadata": {
    "colab": {},
    "colab_type": "code",
    "id": "pEFtSNNi_qf0",
    "slideshow": {
     "slide_type": "fragment"
    }
   },
   "outputs": [],
   "source": [
    "#Using Newton-Raphson to find the square root\n",
    "k = int(input('Enter a number: '))\n",
    "epsilon = 0.01\n",
    "root = k/2.0\n",
    "guesses = 0\n",
    "while abs(root**2 - k) >= epsilon:\n",
    "    root = root - (root**2 - k)/(2*root)\n",
    "    guesses += 1\n",
    "\n",
    "print(root, 'is close to the square root of', k)\n",
    "print('There were', guesses, 'guesses')"
   ]
  },
  {
   "cell_type": "markdown",
   "metadata": {
    "colab_type": "text",
    "id": "vbcdJT66_qf2",
    "slideshow": {
     "slide_type": "subslide"
    }
   },
   "source": [
    "El Código anterior muestra la implementación en Python del método de Newton-Raphson aplicado a la raíz cuadrada. Aunque la condición de terminación del ciclo es igual a la del algoritmo de bisección, el valor de `root` se calcula, en cada iteración, de acuerdo a la formula de Newton-Raphson para la función $f(x)=x^2-k$. Observe también, que este algoritmo requiere de una *semilla* para el valor de `root`, que en este caso se calcula como la mitad del valor al cual se le está calculando la raíz. Si el valor de la semilla está más alejado de la solución, el algoritmo se podría demorar un poco más."
   ]
  },
  {
   "cell_type": "markdown",
   "metadata": {
    "colab_type": "text",
    "id": "hYYDg3bR_qf3",
    "slideshow": {
     "slide_type": "subslide"
    }
   },
   "source": [
    "<img src=\"images/Inf1-u3-fig-7.png\" alt=\"NewthonRaphson\" width=\"500\"/>\n",
    "\n",
    "                                Fig. 7. Diagrama de flujo: ejemplo del método Newton-Raphson"
   ]
  },
  {
   "cell_type": "markdown",
   "metadata": {
    "colab_type": "text",
    "id": "BXC13R6B_qf5"
   },
   "source": [
    "#### Nota: las figuras y fragmentos de código presentados en esta Unidad son de autoría del profesor Sebastián Isaza Ramírez."
   ]
  }
 ],
 "metadata": {
  "colab": {
   "collapsed_sections": [
    "jF6BrRsS_qer",
    "7374g9cl_qfF",
    "CpU3FbvX_qfJ",
    "UrCASCQS_qfk",
    "bbcwQZvg_qfl",
    "6gX8qYgU_qfz"
   ],
   "name": "Unidad3.ipynb",
   "provenance": [],
   "version": "0.3.2"
  },
  "kernelspec": {
   "display_name": "Python 3",
   "language": "python",
   "name": "python3"
  },
  "language_info": {
   "codemirror_mode": {
    "name": "ipython",
    "version": 3
   },
   "file_extension": ".py",
   "mimetype": "text/x-python",
   "name": "python",
   "nbconvert_exporter": "python",
   "pygments_lexer": "ipython3",
   "version": "3.7.1"
  }
 },
 "nbformat": 4,
 "nbformat_minor": 1
}
